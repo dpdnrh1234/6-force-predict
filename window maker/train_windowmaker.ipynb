{
 "cells": [
  {
   "cell_type": "code",
   "execution_count": 4,
   "metadata": {
    "scrolled": true
   },
   "outputs": [],
   "source": [
    "import pandas as pd\n",
    "import numpy as np\n",
    "from tqdm import tqdm\n",
    "import random\n",
    "import tensorflow as tf\n",
    "import matplotlib.pyplot as plt\n",
    "import os\n"
   ]
  },
  {
   "cell_type": "code",
   "execution_count": null,
   "metadata": {},
   "outputs": [],
   "source": [
    "X_train = pd.read_csv('/home/iotadmin/notebooks/vehicle/train1_save.csv', index_col = 'Seq')\n",
    "X_test = pd.read_csv('/home/iotadmin/notebooks/vehicle/test1_save.csv', index_col = 'Seq')"
   ]
  },
  {
   "cell_type": "code",
   "execution_count": 3,
   "metadata": {},
   "outputs": [],
   "source": [
    "output = []\n",
    "for i in range(len(X_train.columns)):\n",
    "    if 'FX' in X_train.columns[i]:\n",
    "        if X_train.columns[i] == 'FLLCABFX' or X_train.columns[i] == 'FRLCABFX':\n",
    "            continue\n",
    "        output.append(X_train.columns[i])\n",
    "    if 'FY' in X_train.columns[i]:\n",
    "        if X_train.columns[i] == 'FLLCABFY' or X_train.columns[i] == 'FRLCABFY':\n",
    "            continue\n",
    "        output.append(X_train.columns[i])\n",
    "    if 'FZ' in X_train.columns[i]:\n",
    "        output.append(X_train.columns[i])\n",
    "    if 'MX' in X_train.columns[i]:\n",
    "        output.append(X_train.columns[i])\n",
    "    if 'MY' in X_train.columns[i]:\n",
    "        output.append(X_train.columns[i])\n",
    "    if 'MZ' in X_train.columns[i]:\n",
    "        output.append(X_train.columns[i])"
   ]
  },
  {
   "cell_type": "code",
   "execution_count": 4,
   "metadata": {},
   "outputs": [],
   "source": [
    "Y_train = X_train[output]\n",
    "Y_test = X_test[output]"
   ]
  },
  {
   "cell_type": "code",
   "execution_count": 5,
   "metadata": {},
   "outputs": [],
   "source": [
    "X_train.drop(output, axis = 1, inplace = True)\n",
    "X_test.drop(output, axis = 1, inplace = True)"
   ]
  },
  {
   "cell_type": "code",
   "execution_count": 6,
   "metadata": {},
   "outputs": [],
   "source": [
    "# standardization을 위해 평균과 표준편차 구하기\n",
    "MEAN = X_train.iloc[:,1:].mean()\n",
    "STD = X_train.iloc[:,1:].std()\n",
    "\n",
    "# 표준편차가 0일 경우 대비하여 1e-07 추가 \n",
    "X_train.iloc[:,1:] = (X_train.iloc[:,1:] - MEAN) / (STD + 1e-07)"
   ]
  },
  {
   "cell_type": "code",
   "execution_count": 25,
   "metadata": {},
   "outputs": [
    {
     "data": {
      "text/html": [
       "<div>\n",
       "<style scoped>\n",
       "    .dataframe tbody tr th:only-of-type {\n",
       "        vertical-align: middle;\n",
       "    }\n",
       "\n",
       "    .dataframe tbody tr th {\n",
       "        vertical-align: top;\n",
       "    }\n",
       "\n",
       "    .dataframe thead th {\n",
       "        text-align: right;\n",
       "    }\n",
       "</style>\n",
       "<table border=\"1\" class=\"dataframe\">\n",
       "  <thead>\n",
       "    <tr style=\"text-align: right;\">\n",
       "      <th></th>\n",
       "      <th>Time</th>\n",
       "      <th>FLSD</th>\n",
       "      <th>FLSARF</th>\n",
       "      <th>FLSBLF</th>\n",
       "      <th>FLLCABFX</th>\n",
       "      <th>FLLCABFY</th>\n",
       "      <th>FLTBF</th>\n",
       "      <th>FRSD</th>\n",
       "      <th>FRSARF</th>\n",
       "      <th>FRSBLF</th>\n",
       "      <th>...</th>\n",
       "      <th>RLFZ</th>\n",
       "      <th>RLMX</th>\n",
       "      <th>RLMY</th>\n",
       "      <th>RLMZ</th>\n",
       "      <th>RRFX</th>\n",
       "      <th>RRFY</th>\n",
       "      <th>RRFZ</th>\n",
       "      <th>RRMX</th>\n",
       "      <th>RRMY</th>\n",
       "      <th>RRMZ</th>\n",
       "    </tr>\n",
       "    <tr>\n",
       "      <th>Seq</th>\n",
       "      <th></th>\n",
       "      <th></th>\n",
       "      <th></th>\n",
       "      <th></th>\n",
       "      <th></th>\n",
       "      <th></th>\n",
       "      <th></th>\n",
       "      <th></th>\n",
       "      <th></th>\n",
       "      <th></th>\n",
       "      <th></th>\n",
       "      <th></th>\n",
       "      <th></th>\n",
       "      <th></th>\n",
       "      <th></th>\n",
       "      <th></th>\n",
       "      <th></th>\n",
       "      <th></th>\n",
       "      <th></th>\n",
       "      <th></th>\n",
       "      <th></th>\n",
       "    </tr>\n",
       "  </thead>\n",
       "  <tbody>\n",
       "    <tr>\n",
       "      <th>1</th>\n",
       "      <td>0.00</td>\n",
       "      <td>-0.031406</td>\n",
       "      <td>1.388202</td>\n",
       "      <td>2.237211</td>\n",
       "      <td>-0.298590</td>\n",
       "      <td>-0.560592</td>\n",
       "      <td>3.346900</td>\n",
       "      <td>0.261595</td>\n",
       "      <td>0.229670</td>\n",
       "      <td>-1.482470</td>\n",
       "      <td>...</td>\n",
       "      <td>2161.968</td>\n",
       "      <td>-219.3952</td>\n",
       "      <td>-1.924654</td>\n",
       "      <td>-12.893800</td>\n",
       "      <td>61.62183</td>\n",
       "      <td>53.55930</td>\n",
       "      <td>3181.621</td>\n",
       "      <td>-387.7902</td>\n",
       "      <td>-3.998285</td>\n",
       "      <td>12.130470</td>\n",
       "    </tr>\n",
       "    <tr>\n",
       "      <th>2</th>\n",
       "      <td>0.01</td>\n",
       "      <td>-0.026237</td>\n",
       "      <td>1.450277</td>\n",
       "      <td>2.237211</td>\n",
       "      <td>-0.290354</td>\n",
       "      <td>-0.597690</td>\n",
       "      <td>3.377910</td>\n",
       "      <td>0.259218</td>\n",
       "      <td>0.252338</td>\n",
       "      <td>-1.479425</td>\n",
       "      <td>...</td>\n",
       "      <td>2164.762</td>\n",
       "      <td>-219.5818</td>\n",
       "      <td>-1.924654</td>\n",
       "      <td>-12.332990</td>\n",
       "      <td>58.82019</td>\n",
       "      <td>52.68945</td>\n",
       "      <td>3185.355</td>\n",
       "      <td>-388.3276</td>\n",
       "      <td>-3.702682</td>\n",
       "      <td>11.943500</td>\n",
       "    </tr>\n",
       "    <tr>\n",
       "      <th>3</th>\n",
       "      <td>0.02</td>\n",
       "      <td>-0.026691</td>\n",
       "      <td>1.452112</td>\n",
       "      <td>2.233573</td>\n",
       "      <td>-0.306602</td>\n",
       "      <td>-0.530898</td>\n",
       "      <td>3.329559</td>\n",
       "      <td>0.260401</td>\n",
       "      <td>0.256953</td>\n",
       "      <td>-1.479425</td>\n",
       "      <td>...</td>\n",
       "      <td>2160.589</td>\n",
       "      <td>-220.1414</td>\n",
       "      <td>-1.924654</td>\n",
       "      <td>-13.312540</td>\n",
       "      <td>62.77983</td>\n",
       "      <td>52.78265</td>\n",
       "      <td>3182.330</td>\n",
       "      <td>-386.9989</td>\n",
       "      <td>-3.407080</td>\n",
       "      <td>12.130470</td>\n",
       "    </tr>\n",
       "    <tr>\n",
       "      <th>4</th>\n",
       "      <td>0.03</td>\n",
       "      <td>-0.031860</td>\n",
       "      <td>1.380330</td>\n",
       "      <td>2.233573</td>\n",
       "      <td>-0.317695</td>\n",
       "      <td>-0.497063</td>\n",
       "      <td>3.311483</td>\n",
       "      <td>0.261595</td>\n",
       "      <td>0.229335</td>\n",
       "      <td>-1.481373</td>\n",
       "      <td>...</td>\n",
       "      <td>2158.242</td>\n",
       "      <td>-220.3280</td>\n",
       "      <td>-1.660205</td>\n",
       "      <td>-14.015420</td>\n",
       "      <td>67.22510</td>\n",
       "      <td>56.94549</td>\n",
       "      <td>3175.683</td>\n",
       "      <td>-386.1107</td>\n",
       "      <td>-2.942561</td>\n",
       "      <td>12.504420</td>\n",
       "    </tr>\n",
       "    <tr>\n",
       "      <th>5</th>\n",
       "      <td>0.04</td>\n",
       "      <td>-0.031406</td>\n",
       "      <td>1.378214</td>\n",
       "      <td>2.237211</td>\n",
       "      <td>-0.302848</td>\n",
       "      <td>-0.561308</td>\n",
       "      <td>3.343006</td>\n",
       "      <td>0.261595</td>\n",
       "      <td>0.223044</td>\n",
       "      <td>-1.479425</td>\n",
       "      <td>...</td>\n",
       "      <td>2161.483</td>\n",
       "      <td>-220.1414</td>\n",
       "      <td>-0.602407</td>\n",
       "      <td>-13.364880</td>\n",
       "      <td>63.97520</td>\n",
       "      <td>57.44255</td>\n",
       "      <td>3175.086</td>\n",
       "      <td>-386.1107</td>\n",
       "      <td>-4.124972</td>\n",
       "      <td>12.317440</td>\n",
       "    </tr>\n",
       "    <tr>\n",
       "      <th>...</th>\n",
       "      <td>...</td>\n",
       "      <td>...</td>\n",
       "      <td>...</td>\n",
       "      <td>...</td>\n",
       "      <td>...</td>\n",
       "      <td>...</td>\n",
       "      <td>...</td>\n",
       "      <td>...</td>\n",
       "      <td>...</td>\n",
       "      <td>...</td>\n",
       "      <td>...</td>\n",
       "      <td>...</td>\n",
       "      <td>...</td>\n",
       "      <td>...</td>\n",
       "      <td>...</td>\n",
       "      <td>...</td>\n",
       "      <td>...</td>\n",
       "      <td>...</td>\n",
       "      <td>...</td>\n",
       "      <td>...</td>\n",
       "      <td>...</td>\n",
       "    </tr>\n",
       "    <tr>\n",
       "      <th>437379</th>\n",
       "      <td>4373.78</td>\n",
       "      <td>-0.057777</td>\n",
       "      <td>-0.268272</td>\n",
       "      <td>-0.163354</td>\n",
       "      <td>0.250385</td>\n",
       "      <td>-0.080671</td>\n",
       "      <td>0.788436</td>\n",
       "      <td>-0.223281</td>\n",
       "      <td>-0.328282</td>\n",
       "      <td>-0.439493</td>\n",
       "      <td>...</td>\n",
       "      <td>2693.516</td>\n",
       "      <td>-252.0408</td>\n",
       "      <td>-6.684744</td>\n",
       "      <td>-6.979127</td>\n",
       "      <td>132.59660</td>\n",
       "      <td>-438.27760</td>\n",
       "      <td>3313.853</td>\n",
       "      <td>-461.8734</td>\n",
       "      <td>13.421160</td>\n",
       "      <td>6.214678</td>\n",
       "    </tr>\n",
       "    <tr>\n",
       "      <th>437380</th>\n",
       "      <td>4373.79</td>\n",
       "      <td>-0.060901</td>\n",
       "      <td>-0.328449</td>\n",
       "      <td>-0.165246</td>\n",
       "      <td>0.244294</td>\n",
       "      <td>-0.022771</td>\n",
       "      <td>0.769624</td>\n",
       "      <td>-0.222099</td>\n",
       "      <td>-0.359362</td>\n",
       "      <td>-0.435353</td>\n",
       "      <td>...</td>\n",
       "      <td>2691.056</td>\n",
       "      <td>-251.6677</td>\n",
       "      <td>-6.684744</td>\n",
       "      <td>-7.009037</td>\n",
       "      <td>136.33220</td>\n",
       "      <td>-431.10130</td>\n",
       "      <td>3309.073</td>\n",
       "      <td>-461.6869</td>\n",
       "      <td>13.811780</td>\n",
       "      <td>6.708284</td>\n",
       "    </tr>\n",
       "    <tr>\n",
       "      <th>437381</th>\n",
       "      <td>4373.80</td>\n",
       "      <td>-0.062804</td>\n",
       "      <td>-0.360031</td>\n",
       "      <td>-0.164810</td>\n",
       "      <td>0.253117</td>\n",
       "      <td>-0.074718</td>\n",
       "      <td>0.771756</td>\n",
       "      <td>-0.222099</td>\n",
       "      <td>-0.382477</td>\n",
       "      <td>-0.435353</td>\n",
       "      <td>...</td>\n",
       "      <td>2694.969</td>\n",
       "      <td>-251.4811</td>\n",
       "      <td>-6.261625</td>\n",
       "      <td>-6.799668</td>\n",
       "      <td>135.39830</td>\n",
       "      <td>-429.20630</td>\n",
       "      <td>3309.147</td>\n",
       "      <td>-462.1720</td>\n",
       "      <td>13.685090</td>\n",
       "      <td>7.082228</td>\n",
       "    </tr>\n",
       "    <tr>\n",
       "      <th>437382</th>\n",
       "      <td>4373.81</td>\n",
       "      <td>-0.059040</td>\n",
       "      <td>-0.281994</td>\n",
       "      <td>-0.166992</td>\n",
       "      <td>0.261372</td>\n",
       "      <td>-0.130531</td>\n",
       "      <td>0.782410</td>\n",
       "      <td>-0.224464</td>\n",
       "      <td>-0.351174</td>\n",
       "      <td>-0.442293</td>\n",
       "      <td>...</td>\n",
       "      <td>2696.645</td>\n",
       "      <td>-251.4811</td>\n",
       "      <td>-6.155845</td>\n",
       "      <td>-6.351020</td>\n",
       "      <td>134.46440</td>\n",
       "      <td>-435.07780</td>\n",
       "      <td>3315.795</td>\n",
       "      <td>-462.8587</td>\n",
       "      <td>13.685090</td>\n",
       "      <td>6.708284</td>\n",
       "    </tr>\n",
       "    <tr>\n",
       "      <th>437383</th>\n",
       "      <td>4373.82</td>\n",
       "      <td>-0.057777</td>\n",
       "      <td>-0.268148</td>\n",
       "      <td>-0.166992</td>\n",
       "      <td>0.250442</td>\n",
       "      <td>-0.059026</td>\n",
       "      <td>0.766465</td>\n",
       "      <td>-0.224464</td>\n",
       "      <td>-0.333084</td>\n",
       "      <td>-0.434866</td>\n",
       "      <td>...</td>\n",
       "      <td>2692.137</td>\n",
       "      <td>-252.0109</td>\n",
       "      <td>-6.155845</td>\n",
       "      <td>-6.881920</td>\n",
       "      <td>134.46440</td>\n",
       "      <td>-437.53200</td>\n",
       "      <td>3315.272</td>\n",
       "      <td>-461.5301</td>\n",
       "      <td>13.157230</td>\n",
       "      <td>6.521312</td>\n",
       "    </tr>\n",
       "  </tbody>\n",
       "</table>\n",
       "<p>966564 rows × 66 columns</p>\n",
       "</div>"
      ],
      "text/plain": [
       "           Time      FLSD    FLSARF    FLSBLF  FLLCABFX  FLLCABFY     FLTBF  \\\n",
       "Seq                                                                           \n",
       "1          0.00 -0.031406  1.388202  2.237211 -0.298590 -0.560592  3.346900   \n",
       "2          0.01 -0.026237  1.450277  2.237211 -0.290354 -0.597690  3.377910   \n",
       "3          0.02 -0.026691  1.452112  2.233573 -0.306602 -0.530898  3.329559   \n",
       "4          0.03 -0.031860  1.380330  2.233573 -0.317695 -0.497063  3.311483   \n",
       "5          0.04 -0.031406  1.378214  2.237211 -0.302848 -0.561308  3.343006   \n",
       "...         ...       ...       ...       ...       ...       ...       ...   \n",
       "437379  4373.78 -0.057777 -0.268272 -0.163354  0.250385 -0.080671  0.788436   \n",
       "437380  4373.79 -0.060901 -0.328449 -0.165246  0.244294 -0.022771  0.769624   \n",
       "437381  4373.80 -0.062804 -0.360031 -0.164810  0.253117 -0.074718  0.771756   \n",
       "437382  4373.81 -0.059040 -0.281994 -0.166992  0.261372 -0.130531  0.782410   \n",
       "437383  4373.82 -0.057777 -0.268148 -0.166992  0.250442 -0.059026  0.766465   \n",
       "\n",
       "            FRSD    FRSARF    FRSBLF  ...      RLFZ      RLMX      RLMY  \\\n",
       "Seq                                   ...                                 \n",
       "1       0.261595  0.229670 -1.482470  ...  2161.968 -219.3952 -1.924654   \n",
       "2       0.259218  0.252338 -1.479425  ...  2164.762 -219.5818 -1.924654   \n",
       "3       0.260401  0.256953 -1.479425  ...  2160.589 -220.1414 -1.924654   \n",
       "4       0.261595  0.229335 -1.481373  ...  2158.242 -220.3280 -1.660205   \n",
       "5       0.261595  0.223044 -1.479425  ...  2161.483 -220.1414 -0.602407   \n",
       "...          ...       ...       ...  ...       ...       ...       ...   \n",
       "437379 -0.223281 -0.328282 -0.439493  ...  2693.516 -252.0408 -6.684744   \n",
       "437380 -0.222099 -0.359362 -0.435353  ...  2691.056 -251.6677 -6.684744   \n",
       "437381 -0.222099 -0.382477 -0.435353  ...  2694.969 -251.4811 -6.261625   \n",
       "437382 -0.224464 -0.351174 -0.442293  ...  2696.645 -251.4811 -6.155845   \n",
       "437383 -0.224464 -0.333084 -0.434866  ...  2692.137 -252.0109 -6.155845   \n",
       "\n",
       "             RLMZ       RRFX       RRFY      RRFZ      RRMX       RRMY  \\\n",
       "Seq                                                                      \n",
       "1      -12.893800   61.62183   53.55930  3181.621 -387.7902  -3.998285   \n",
       "2      -12.332990   58.82019   52.68945  3185.355 -388.3276  -3.702682   \n",
       "3      -13.312540   62.77983   52.78265  3182.330 -386.9989  -3.407080   \n",
       "4      -14.015420   67.22510   56.94549  3175.683 -386.1107  -2.942561   \n",
       "5      -13.364880   63.97520   57.44255  3175.086 -386.1107  -4.124972   \n",
       "...           ...        ...        ...       ...       ...        ...   \n",
       "437379  -6.979127  132.59660 -438.27760  3313.853 -461.8734  13.421160   \n",
       "437380  -7.009037  136.33220 -431.10130  3309.073 -461.6869  13.811780   \n",
       "437381  -6.799668  135.39830 -429.20630  3309.147 -462.1720  13.685090   \n",
       "437382  -6.351020  134.46440 -435.07780  3315.795 -462.8587  13.685090   \n",
       "437383  -6.881920  134.46440 -437.53200  3315.272 -461.5301  13.157230   \n",
       "\n",
       "             RRMZ  \n",
       "Seq                \n",
       "1       12.130470  \n",
       "2       11.943500  \n",
       "3       12.130470  \n",
       "4       12.504420  \n",
       "5       12.317440  \n",
       "...           ...  \n",
       "437379   6.214678  \n",
       "437380   6.708284  \n",
       "437381   7.082228  \n",
       "437382   6.708284  \n",
       "437383   6.521312  \n",
       "\n",
       "[966564 rows x 66 columns]"
      ]
     },
     "execution_count": 25,
     "metadata": {},
     "output_type": "execute_result"
    }
   ],
   "source": [
    "concat = pd.concat([X_train, Y_train], axis = 1)\n",
    "concat"
   ]
  },
  {
   "cell_type": "code",
   "execution_count": 10,
   "metadata": {
    "scrolled": true
   },
   "outputs": [
    {
     "name": "stderr",
     "output_type": "stream",
     "text": [
      "100%|██████████| 28453/28453 [00:10<00:00, 2769.19it/s]\n",
      "100%|██████████| 38742/38742 [00:13<00:00, 2876.74it/s]\n",
      "100%|██████████| 22929/22929 [00:07<00:00, 2999.65it/s]\n",
      "100%|██████████| 15554/15554 [00:05<00:00, 2986.43it/s]\n",
      "100%|██████████| 87437/87437 [00:31<00:00, 2787.71it/s]\n"
     ]
    }
   ],
   "source": [
    "start = 0\n",
    "for i in range(X_train.shape[0]):\n",
    "    if i != 0:     \n",
    "        if X_train['Time'].values[i] == 0:\n",
    "            _sequence = convert_to_timeseries_s(concat.iloc[start:i,:],interval)\n",
    "            sequence = np.vstack((sequence, _sequence))\n",
    "            start = i\n",
    "        if i == (X_train.shape[0] - 1):\n",
    "            _sequence = convert_to_timeseries_s(concat.iloc[start:i+1,:],interval)\n",
    "            sequence = np.vstack((sequence, _sequence))\n",
    "            start = i\n",
    "np.save('/home/iotadmin/notebooks/array/window_200_t_%d',sequence)"
   ]
  },
  {
   "cell_type": "code",
   "execution_count": 15,
   "metadata": {},
   "outputs": [
    {
     "data": {
      "text/plain": [
       "(4520275, 66)"
      ]
     },
     "execution_count": 15,
     "metadata": {},
     "output_type": "execute_result"
    }
   ],
   "source": [
    "concat.shape"
   ]
  },
  {
   "cell_type": "code",
   "execution_count": 8,
   "metadata": {
    "scrolled": true
   },
   "outputs": [
    {
     "name": "stderr",
     "output_type": "stream",
     "text": [
      "100%|██████████| 28453/28453 [00:07<00:00, 4059.94it/s]\n",
      "100%|██████████| 38742/38742 [00:09<00:00, 4129.34it/s]\n",
      "100%|██████████| 22929/22929 [00:05<00:00, 4059.20it/s]\n",
      "100%|██████████| 15554/15554 [00:03<00:00, 4135.58it/s]\n",
      "100%|██████████| 87437/87437 [00:21<00:00, 4113.83it/s]\n",
      "100%|██████████| 28453/28453 [00:06<00:00, 4103.90it/s]\n",
      "100%|██████████| 38742/38742 [00:09<00:00, 4092.68it/s]\n",
      "100%|██████████| 22929/22929 [00:05<00:00, 4226.25it/s]\n",
      "100%|██████████| 15554/15554 [00:03<00:00, 4202.44it/s]\n",
      "100%|██████████| 87437/87437 [00:21<00:00, 4113.55it/s]\n",
      "100%|██████████| 28453/28453 [00:06<00:00, 4317.81it/s]\n",
      "100%|██████████| 38742/38742 [00:09<00:00, 4135.13it/s]\n",
      "100%|██████████| 22929/22929 [00:05<00:00, 4169.11it/s]\n",
      "100%|██████████| 15554/15554 [00:03<00:00, 4099.83it/s]\n",
      "100%|██████████| 87437/87437 [00:21<00:00, 4140.05it/s]\n",
      "100%|██████████| 28453/28453 [00:06<00:00, 4273.67it/s]\n",
      "100%|██████████| 38742/38742 [00:09<00:00, 4168.08it/s]\n",
      "100%|██████████| 22929/22929 [00:05<00:00, 4084.48it/s]\n",
      "100%|██████████| 15554/15554 [00:03<00:00, 4141.79it/s]\n",
      "100%|██████████| 87437/87437 [00:21<00:00, 4097.78it/s]\n",
      "100%|██████████| 28453/28453 [00:06<00:00, 4119.36it/s]\n",
      "100%|██████████| 38742/38742 [00:09<00:00, 4118.51it/s]\n",
      "100%|██████████| 22929/22929 [00:05<00:00, 4129.36it/s]\n",
      "100%|██████████| 15554/15554 [00:03<00:00, 4189.02it/s]\n",
      "100%|██████████| 87437/87437 [00:21<00:00, 4118.12it/s]\n",
      "100%|██████████| 28453/28453 [00:06<00:00, 4125.66it/s]\n",
      "100%|██████████| 38742/38742 [00:09<00:00, 4080.83it/s]\n",
      "100%|██████████| 22929/22929 [00:05<00:00, 4172.46it/s]\n",
      "100%|██████████| 15554/15554 [00:03<00:00, 4205.68it/s]\n",
      "100%|██████████| 87437/87437 [00:21<00:00, 4137.82it/s]\n",
      "100%|██████████| 28453/28453 [00:06<00:00, 4161.85it/s]\n",
      "100%|██████████| 38742/38742 [00:09<00:00, 4144.10it/s]\n",
      "100%|██████████| 22929/22929 [00:05<00:00, 4130.68it/s]\n",
      "100%|██████████| 15554/15554 [00:03<00:00, 4137.20it/s]\n",
      "100%|██████████| 87437/87437 [00:21<00:00, 4085.61it/s]\n",
      "100%|██████████| 28453/28453 [00:06<00:00, 4303.20it/s]\n",
      "100%|██████████| 38742/38742 [00:09<00:00, 4072.79it/s]\n",
      "100%|██████████| 22929/22929 [00:05<00:00, 4138.00it/s]\n",
      "100%|██████████| 15554/15554 [00:03<00:00, 4204.87it/s]\n",
      "100%|██████████| 87437/87437 [00:21<00:00, 4121.41it/s]\n",
      "100%|██████████| 28453/28453 [00:06<00:00, 4105.69it/s]\n",
      "100%|██████████| 38742/38742 [00:09<00:00, 4143.85it/s]\n",
      "100%|██████████| 22929/22929 [00:05<00:00, 4231.25it/s]\n",
      "100%|██████████| 15554/15554 [00:03<00:00, 4202.08it/s]\n",
      "100%|██████████| 87437/87437 [00:21<00:00, 4089.84it/s]\n",
      "100%|██████████| 28453/28453 [00:06<00:00, 4089.78it/s]\n",
      "100%|██████████| 38742/38742 [00:09<00:00, 4146.89it/s]\n",
      "100%|██████████| 22929/22929 [00:05<00:00, 4099.21it/s]\n",
      "100%|██████████| 15554/15554 [00:03<00:00, 4085.14it/s]\n",
      "100%|██████████| 87437/87437 [00:21<00:00, 4132.02it/s]\n",
      "100%|██████████| 28453/28453 [00:06<00:00, 4282.79it/s]\n",
      "100%|██████████| 38742/38742 [00:09<00:00, 4194.92it/s]\n",
      "100%|██████████| 22929/22929 [00:05<00:00, 4216.02it/s]\n",
      "100%|██████████| 15554/15554 [00:03<00:00, 4228.96it/s]\n",
      "100%|██████████| 87437/87437 [00:20<00:00, 4179.07it/s]\n",
      "100%|██████████| 28453/28453 [00:06<00:00, 4394.93it/s]\n",
      "100%|██████████| 38742/38742 [00:09<00:00, 4230.28it/s]\n",
      "100%|██████████| 22929/22929 [00:05<00:00, 4162.18it/s]\n",
      "100%|██████████| 15554/15554 [00:03<00:00, 4308.11it/s]\n",
      "100%|██████████| 87437/87437 [00:20<00:00, 4206.22it/s]\n",
      "100%|██████████| 28453/28453 [00:06<00:00, 4167.05it/s]\n",
      "100%|██████████| 38742/38742 [00:09<00:00, 4227.19it/s]\n",
      "100%|██████████| 22929/22929 [00:05<00:00, 4308.95it/s]\n",
      "100%|██████████| 15554/15554 [00:03<00:00, 4272.83it/s]\n",
      "100%|██████████| 87437/87437 [00:20<00:00, 4166.75it/s]\n",
      "100%|██████████| 28453/28453 [00:06<00:00, 4206.13it/s]\n",
      "100%|██████████| 38742/38742 [00:09<00:00, 4192.18it/s]\n",
      "100%|██████████| 22929/22929 [00:05<00:00, 4286.80it/s]\n",
      "100%|██████████| 15554/15554 [00:03<00:00, 4283.78it/s]\n",
      "100%|██████████| 87437/87437 [00:20<00:00, 4205.17it/s]\n",
      "100%|██████████| 28453/28453 [00:06<00:00, 4250.36it/s]\n",
      "100%|██████████| 38742/38742 [00:09<00:00, 4245.40it/s]\n",
      "100%|██████████| 22929/22929 [00:05<00:00, 4171.61it/s]\n",
      "100%|██████████| 15554/15554 [00:03<00:00, 4190.66it/s]\n",
      "100%|██████████| 87437/87437 [00:20<00:00, 4165.79it/s]\n",
      "100%|██████████| 28453/28453 [00:06<00:00, 4201.45it/s]\n",
      "100%|██████████| 38742/38742 [00:09<00:00, 4194.34it/s]\n",
      "100%|██████████| 22929/22929 [00:05<00:00, 4211.75it/s]\n",
      "100%|██████████| 15554/15554 [00:03<00:00, 4270.17it/s]\n",
      "100%|██████████| 87437/87437 [00:20<00:00, 4220.25it/s]\n",
      "100%|██████████| 28453/28453 [00:06<00:00, 4252.65it/s]\n",
      "100%|██████████| 38742/38742 [00:09<00:00, 4228.89it/s]\n",
      "100%|██████████| 22929/22929 [00:05<00:00, 4177.32it/s]\n",
      "100%|██████████| 15554/15554 [00:03<00:00, 4195.16it/s]\n",
      "100%|██████████| 87437/87437 [00:20<00:00, 4196.43it/s]\n",
      "100%|██████████| 28453/28453 [00:06<00:00, 4222.92it/s]\n",
      "100%|██████████| 38742/38742 [00:09<00:00, 4213.25it/s]\n",
      "100%|██████████| 22929/22929 [00:05<00:00, 4228.74it/s]\n",
      "100%|██████████| 15554/15554 [00:03<00:00, 4266.27it/s]\n",
      "100%|██████████| 87437/87437 [00:20<00:00, 4219.92it/s]\n",
      "100%|██████████| 28453/28453 [00:06<00:00, 4251.36it/s]\n",
      "100%|██████████| 38742/38742 [00:09<00:00, 4235.24it/s]\n",
      "100%|██████████| 22929/22929 [00:05<00:00, 4162.76it/s]\n",
      "100%|██████████| 15554/15554 [00:03<00:00, 4172.39it/s]\n",
      "100%|██████████| 87437/87437 [00:21<00:00, 4163.15it/s]\n",
      "100%|██████████| 28453/28453 [00:06<00:00, 4201.10it/s]\n",
      "100%|██████████| 38742/38742 [00:09<00:00, 4222.12it/s]\n",
      "100%|██████████| 22929/22929 [00:05<00:00, 4211.90it/s]\n",
      "100%|██████████| 15554/15554 [00:03<00:00, 4295.69it/s]\n",
      "100%|██████████| 87437/87437 [00:20<00:00, 4217.58it/s]\n",
      "100%|██████████| 28453/28453 [00:06<00:00, 4253.26it/s]\n",
      "100%|██████████| 38742/38742 [00:09<00:00, 4237.16it/s]\n",
      "100%|██████████| 22929/22929 [00:05<00:00, 4184.60it/s]\n",
      "100%|██████████| 15554/15554 [00:03<00:00, 4153.79it/s]\n",
      "100%|██████████| 87437/87437 [00:20<00:00, 4184.02it/s]\n",
      "100%|██████████| 28453/28453 [00:06<00:00, 4259.04it/s]\n",
      "100%|██████████| 38742/38742 [00:09<00:00, 4261.56it/s]\n",
      "100%|██████████| 22929/22929 [00:05<00:00, 4339.20it/s]\n",
      "100%|██████████| 15554/15554 [00:03<00:00, 4184.97it/s]\n",
      "100%|██████████| 87437/87437 [00:20<00:00, 4182.93it/s]\n",
      "100%|██████████| 28453/28453 [00:06<00:00, 4361.35it/s]\n",
      "100%|██████████| 38742/38742 [00:09<00:00, 4222.77it/s]\n",
      "100%|██████████| 22929/22929 [00:05<00:00, 4169.40it/s]\n",
      "100%|██████████| 15554/15554 [00:03<00:00, 4285.65it/s]\n",
      "100%|██████████| 87437/87437 [00:20<00:00, 4170.93it/s]\n"
     ]
    },
    {
     "ename": "TypeError",
     "evalue": "convert_to_timeseries_t_last() missing 1 required positional argument: 'f_num'",
     "output_type": "error",
     "traceback": [
      "\u001b[0;31m---------------------------------------------------------------------------\u001b[0m",
      "\u001b[0;31mTypeError\u001b[0m                                 Traceback (most recent call last)",
      "\u001b[0;32m<ipython-input-8-481369357798>\u001b[0m in \u001b[0;36m<module>\u001b[0;34m\u001b[0m\n\u001b[1;32m     56\u001b[0m     \u001b[0;32mif\u001b[0m \u001b[0mi\u001b[0m \u001b[0;34m!=\u001b[0m \u001b[0;36m0\u001b[0m\u001b[0;34m:\u001b[0m\u001b[0;34m\u001b[0m\u001b[0;34m\u001b[0m\u001b[0m\n\u001b[1;32m     57\u001b[0m         \u001b[0;32mif\u001b[0m \u001b[0mX_train\u001b[0m\u001b[0;34m[\u001b[0m\u001b[0;34m'Time'\u001b[0m\u001b[0;34m]\u001b[0m\u001b[0;34m.\u001b[0m\u001b[0mvalues\u001b[0m\u001b[0;34m[\u001b[0m\u001b[0mi\u001b[0m\u001b[0;34m]\u001b[0m \u001b[0;34m==\u001b[0m \u001b[0;36m0\u001b[0m\u001b[0;34m:\u001b[0m\u001b[0;34m\u001b[0m\u001b[0;34m\u001b[0m\u001b[0m\n\u001b[0;32m---> 58\u001b[0;31m             \u001b[0m_target\u001b[0m \u001b[0;34m=\u001b[0m \u001b[0mconvert_to_timeseries_t_last\u001b[0m\u001b[0;34m(\u001b[0m\u001b[0mconcat\u001b[0m\u001b[0;34m.\u001b[0m\u001b[0miloc\u001b[0m\u001b[0;34m[\u001b[0m\u001b[0mstart\u001b[0m\u001b[0;34m:\u001b[0m\u001b[0mi\u001b[0m\u001b[0;34m,\u001b[0m\u001b[0;34m:\u001b[0m\u001b[0;34m]\u001b[0m\u001b[0;34m,\u001b[0m\u001b[0minterval\u001b[0m\u001b[0;34m)\u001b[0m\u001b[0;34m\u001b[0m\u001b[0;34m\u001b[0m\u001b[0m\n\u001b[0m\u001b[1;32m     59\u001b[0m             \u001b[0m_target\u001b[0m \u001b[0;34m=\u001b[0m \u001b[0m_target\u001b[0m\u001b[0;34m.\u001b[0m\u001b[0mreshape\u001b[0m\u001b[0;34m(\u001b[0m\u001b[0m_target\u001b[0m\u001b[0;34m.\u001b[0m\u001b[0mshape\u001b[0m\u001b[0;34m[\u001b[0m\u001b[0;36m0\u001b[0m\u001b[0;34m]\u001b[0m\u001b[0;34m,\u001b[0m\u001b[0;34m)\u001b[0m\u001b[0;34m\u001b[0m\u001b[0;34m\u001b[0m\u001b[0m\n\u001b[1;32m     60\u001b[0m             \u001b[0mtarget\u001b[0m \u001b[0;34m=\u001b[0m \u001b[0mnp\u001b[0m\u001b[0;34m.\u001b[0m\u001b[0mhstack\u001b[0m\u001b[0;34m(\u001b[0m\u001b[0;34m(\u001b[0m\u001b[0mtarget\u001b[0m\u001b[0;34m,\u001b[0m \u001b[0m_target\u001b[0m\u001b[0;34m)\u001b[0m\u001b[0;34m)\u001b[0m\u001b[0;34m\u001b[0m\u001b[0;34m\u001b[0m\u001b[0m\n",
      "\u001b[0;31mTypeError\u001b[0m: convert_to_timeseries_t_last() missing 1 required positional argument: 'f_num'"
     ]
    }
   ],
   "source": [
    "interval = 200\n",
    "def convert_to_timeseries_s(df, interval):\n",
    "    sequence_list = []\n",
    "    \n",
    "    for i in tqdm(range(0,df.shape[0] - interval,5)):\n",
    "        sequence_list.append(np.array(df.iloc[i:i+interval,:-24]))\n",
    "    \n",
    "    sequence = np.array(sequence_list)\n",
    "    \n",
    "    return sequence\n",
    "\n",
    "def convert_to_timeseries_t(df, interval, f_num):\n",
    "    target_list = []\n",
    "    \n",
    "    for i in tqdm(range(0,df.shape[0] - interval,5)):\n",
    "        target_list.append(df.iloc[i+interval,-24+f_num:-23 + f_num])\n",
    "    \n",
    "    target = np.array(target_list)\n",
    "    \n",
    "    return target\n",
    "\n",
    "def convert_to_timeseries_t_last(df, interval, f_num):\n",
    "    target_list = []\n",
    "    \n",
    "    for i in tqdm(range(0,df.shape[0] - interval,5)):\n",
    "        target_list.append(df.iloc[i+interval,-1:])\n",
    "    \n",
    "    target = np.array(target_list)\n",
    "    \n",
    "    return target\n",
    "\n",
    "sequence = np.empty((0, interval, 42))\n",
    "concat = pd.concat([X_train, Y_train], axis = 1)\n",
    "start = 0\n",
    "\n",
    "for j in range(23):\n",
    "    target = np.empty((0,))\n",
    "    start = 0\n",
    "    for i in range(X_train.shape[0]):\n",
    "        if i != 0:     \n",
    "            if X_train['Time'].values[i] == 0:\n",
    "                _target = convert_to_timeseries_t(concat.iloc[start:i,:],interval,j)\n",
    "                _target = _target.reshape(_target.shape[0],)\n",
    "                target = np.hstack((target, _target))\n",
    "                start = i\n",
    "            if i == (X_train.shape[0] - 1):\n",
    "                _target = convert_to_timeseries_t(concat.iloc[start:i+1,:],interval,j)\n",
    "                _target = _target.reshape(_target.shape[0],)\n",
    "                target = np.hstack((target, _target))\n",
    "                start = i\n",
    "    np.save('/home/iotadmin/notebooks/array/window_200_t_%d' % (j+1),target)\n",
    "\n",
    "target = np.empty((0,))\n",
    "start = 0\n",
    "for i in range(X_train.shape[0]):\n",
    "    if i != 0:     \n",
    "        if X_train['Time'].values[i] == 0:\n",
    "            _target = convert_to_timeseries_t_last(concat.iloc[start:i,:],interval)\n",
    "            _target = _target.reshape(_target.shape[0],)\n",
    "            target = np.hstack((target, _target))\n",
    "            start = i\n",
    "        if i == (X_train.shape[0] - 1):\n",
    "            _target = convert_to_timeseries_t_last(concat.iloc[start:i+1,:],interval)\n",
    "            _target = _target.reshape(_target.shape[0],)\n",
    "            target = np.hstack((target, _target))\n",
    "            start = i\n",
    "np.save('/home/iotadmin/notebooks/array/window_200_t_%d' % (24),target)\n"
   ]
  },
  {
   "cell_type": "code",
   "execution_count": 5,
   "metadata": {},
   "outputs": [],
   "source": [
    "data = pd.read_csv('/home/iotadmin/notebooks/csv/all_multitask.csv')"
   ]
  },
  {
   "cell_type": "code",
   "execution_count": 6,
   "metadata": {},
   "outputs": [],
   "source": [
    "data = data[['FLFX_pred','FLMY_pred','FLMZ_pred']]"
   ]
  },
  {
   "cell_type": "code",
   "execution_count": 7,
   "metadata": {},
   "outputs": [],
   "source": [
    "X_train_2 = np.load('/home/iotadmin/notebooks/array/test_window_200_s.npy')"
   ]
  },
  {
   "cell_type": "code",
   "execution_count": 8,
   "metadata": {},
   "outputs": [
    {
     "data": {
      "text/plain": [
       "(360773, 3)"
      ]
     },
     "execution_count": 8,
     "metadata": {},
     "output_type": "execute_result"
    }
   ],
   "source": [
    "data.shape"
   ]
  },
  {
   "cell_type": "code",
   "execution_count": 9,
   "metadata": {},
   "outputs": [
    {
     "data": {
      "text/plain": [
       "(360773, 200, 42)"
      ]
     },
     "execution_count": 9,
     "metadata": {},
     "output_type": "execute_result"
    }
   ],
   "source": [
    "X_train_2.shape"
   ]
  },
  {
   "cell_type": "code",
   "execution_count": 10,
   "metadata": {},
   "outputs": [
    {
     "data": {
      "text/plain": [
       "array([[[0.]]])"
      ]
     },
     "execution_count": 10,
     "metadata": {},
     "output_type": "execute_result"
    }
   ],
   "source": [
    "X_train_2[0:1,0:1,0:1]"
   ]
  },
  {
   "cell_type": "code",
   "execution_count": 11,
   "metadata": {},
   "outputs": [
    {
     "name": "stderr",
     "output_type": "stream",
     "text": [
      "/anaconda/envs/azureml_py36_tensorflow/lib/python3.6/site-packages/ipykernel_launcher.py:3: DeprecationWarning: The truth value of an empty array is ambiguous. Returning False, but in future this will result in an error. Use `array.size > 0` to check that an array is not empty.\n",
      "  This is separate from the ipykernel package so we can avoid doing imports until\n"
     ]
    }
   ],
   "source": [
    "stop = []\n",
    "for i in range(360774):\n",
    "    if(X_train_2[i:i+1,0:1,0:1] == 0):\n",
    "        stop.append(i)"
   ]
  },
  {
   "cell_type": "code",
   "execution_count": 12,
   "metadata": {},
   "outputs": [],
   "source": [
    "stop.append(data.shape[0]+1)"
   ]
  },
  {
   "cell_type": "code",
   "execution_count": 13,
   "metadata": {},
   "outputs": [
    {
     "data": {
      "text/plain": [
       "[0, 222027, 360774]"
      ]
     },
     "execution_count": 13,
     "metadata": {},
     "output_type": "execute_result"
    }
   ],
   "source": [
    "stop"
   ]
  },
  {
   "cell_type": "code",
   "execution_count": 14,
   "metadata": {},
   "outputs": [
    {
     "name": "stderr",
     "output_type": "stream",
     "text": [
      "100%|██████████| 221827/221827 [00:34<00:00, 6403.18it/s]\n",
      "100%|██████████| 138546/138546 [00:21<00:00, 6384.34it/s]\n"
     ]
    }
   ],
   "source": [
    "interval = 200\n",
    "sequence = np.empty((0, interval, 3))\n",
    "\n",
    "def convert_to_timeseries_s(df, interval):\n",
    "    sequence_list = []\n",
    "    \n",
    "    for i in tqdm(range(0,df.shape[0] - interval)):\n",
    "        sequence_list.append(np.array(df.iloc[i:i+interval,:]))\n",
    "    \n",
    "    sequence = np.array(sequence_list)\n",
    "    return sequence\n",
    "start = 0\n",
    "for i in range(len(stop)-1):\n",
    "    _sequence = convert_to_timeseries_s(data.iloc[start:stop[i+1],:],interval)\n",
    "    sequence = np.vstack((sequence, _sequence))\n",
    "    start = stop[i+1]"
   ]
  },
  {
   "cell_type": "code",
   "execution_count": 15,
   "metadata": {},
   "outputs": [
    {
     "data": {
      "text/plain": [
       "(360373, 200, 3)"
      ]
     },
     "execution_count": 15,
     "metadata": {},
     "output_type": "execute_result"
    }
   ],
   "source": [
    "sequence.shape"
   ]
  },
  {
   "cell_type": "code",
   "execution_count": 16,
   "metadata": {},
   "outputs": [
    {
     "data": {
      "text/html": [
       "<div>\n",
       "<style scoped>\n",
       "    .dataframe tbody tr th:only-of-type {\n",
       "        vertical-align: middle;\n",
       "    }\n",
       "\n",
       "    .dataframe tbody tr th {\n",
       "        vertical-align: top;\n",
       "    }\n",
       "\n",
       "    .dataframe thead th {\n",
       "        text-align: right;\n",
       "    }\n",
       "</style>\n",
       "<table border=\"1\" class=\"dataframe\">\n",
       "  <thead>\n",
       "    <tr style=\"text-align: right;\">\n",
       "      <th></th>\n",
       "      <th>FLFX_pred</th>\n",
       "      <th>FLMY_pred</th>\n",
       "      <th>FLMZ_pred</th>\n",
       "    </tr>\n",
       "  </thead>\n",
       "  <tbody>\n",
       "    <tr>\n",
       "      <th>0</th>\n",
       "      <td>332.587130</td>\n",
       "      <td>-46.111595</td>\n",
       "      <td>59.216900</td>\n",
       "    </tr>\n",
       "    <tr>\n",
       "      <th>1</th>\n",
       "      <td>330.093720</td>\n",
       "      <td>-45.891580</td>\n",
       "      <td>58.917080</td>\n",
       "    </tr>\n",
       "    <tr>\n",
       "      <th>2</th>\n",
       "      <td>328.706000</td>\n",
       "      <td>-44.917732</td>\n",
       "      <td>58.859344</td>\n",
       "    </tr>\n",
       "    <tr>\n",
       "      <th>3</th>\n",
       "      <td>327.684270</td>\n",
       "      <td>-44.091637</td>\n",
       "      <td>58.772186</td>\n",
       "    </tr>\n",
       "    <tr>\n",
       "      <th>4</th>\n",
       "      <td>331.314030</td>\n",
       "      <td>-44.758820</td>\n",
       "      <td>59.159187</td>\n",
       "    </tr>\n",
       "    <tr>\n",
       "      <th>...</th>\n",
       "      <td>...</td>\n",
       "      <td>...</td>\n",
       "      <td>...</td>\n",
       "    </tr>\n",
       "    <tr>\n",
       "      <th>360768</th>\n",
       "      <td>74.569250</td>\n",
       "      <td>39.777250</td>\n",
       "      <td>-3.772280</td>\n",
       "    </tr>\n",
       "    <tr>\n",
       "      <th>360769</th>\n",
       "      <td>75.425224</td>\n",
       "      <td>39.604220</td>\n",
       "      <td>-3.725214</td>\n",
       "    </tr>\n",
       "    <tr>\n",
       "      <th>360770</th>\n",
       "      <td>75.585700</td>\n",
       "      <td>39.578102</td>\n",
       "      <td>-3.752210</td>\n",
       "    </tr>\n",
       "    <tr>\n",
       "      <th>360771</th>\n",
       "      <td>75.685880</td>\n",
       "      <td>39.867770</td>\n",
       "      <td>-3.776491</td>\n",
       "    </tr>\n",
       "    <tr>\n",
       "      <th>360772</th>\n",
       "      <td>76.349270</td>\n",
       "      <td>39.640690</td>\n",
       "      <td>-3.725275</td>\n",
       "    </tr>\n",
       "  </tbody>\n",
       "</table>\n",
       "<p>360773 rows × 3 columns</p>\n",
       "</div>"
      ],
      "text/plain": [
       "         FLFX_pred  FLMY_pred  FLMZ_pred\n",
       "0       332.587130 -46.111595  59.216900\n",
       "1       330.093720 -45.891580  58.917080\n",
       "2       328.706000 -44.917732  58.859344\n",
       "3       327.684270 -44.091637  58.772186\n",
       "4       331.314030 -44.758820  59.159187\n",
       "...            ...        ...        ...\n",
       "360768   74.569250  39.777250  -3.772280\n",
       "360769   75.425224  39.604220  -3.725214\n",
       "360770   75.585700  39.578102  -3.752210\n",
       "360771   75.685880  39.867770  -3.776491\n",
       "360772   76.349270  39.640690  -3.725275\n",
       "\n",
       "[360773 rows x 3 columns]"
      ]
     },
     "execution_count": 16,
     "metadata": {},
     "output_type": "execute_result"
    }
   ],
   "source": [
    "data"
   ]
  },
  {
   "cell_type": "code",
   "execution_count": 17,
   "metadata": {},
   "outputs": [],
   "source": [
    "X_train_final = X_train_2[0:360373,:,:]"
   ]
  },
  {
   "cell_type": "code",
   "execution_count": 18,
   "metadata": {},
   "outputs": [
    {
     "data": {
      "text/plain": [
       "(360373, 200, 42)"
      ]
     },
     "execution_count": 18,
     "metadata": {},
     "output_type": "execute_result"
    }
   ],
   "source": [
    "X_train_final.shape"
   ]
  },
  {
   "cell_type": "code",
   "execution_count": 19,
   "metadata": {},
   "outputs": [],
   "source": [
    "X_train_final = np.array(X_train_final)"
   ]
  },
  {
   "cell_type": "code",
   "execution_count": 20,
   "metadata": {},
   "outputs": [],
   "source": [
    "final = np.concatenate([X_train_final,sequence],axis=2)"
   ]
  },
  {
   "cell_type": "code",
   "execution_count": 21,
   "metadata": {},
   "outputs": [
    {
     "data": {
      "text/plain": [
       "(360373, 200, 45)"
      ]
     },
     "execution_count": 21,
     "metadata": {},
     "output_type": "execute_result"
    }
   ],
   "source": [
    "final.shape"
   ]
  },
  {
   "cell_type": "code",
   "execution_count": 23,
   "metadata": {},
   "outputs": [],
   "source": [
    "np.save('/home/iotadmin/notebooks/array/flfy_feature_plus_input' ,final)"
   ]
  },
  {
   "cell_type": "code",
   "execution_count": 23,
   "metadata": {},
   "outputs": [],
   "source": [
    "np.save('/home/iotadmin/notebooks/array/flfy_feature_plus' ,final)"
   ]
  },
  {
   "cell_type": "code",
   "execution_count": null,
   "metadata": {},
   "outputs": [],
   "source": []
  }
 ],
 "metadata": {
  "kernelspec": {
   "display_name": "azureml_py36_tensorflow",
   "language": "python",
   "name": "conda-env-azureml_py36_tensorflow-py"
  },
  "language_info": {
   "codemirror_mode": {
    "name": "ipython",
    "version": 3
   },
   "file_extension": ".py",
   "mimetype": "text/x-python",
   "name": "python",
   "nbconvert_exporter": "python",
   "pygments_lexer": "ipython3",
   "version": "3.6.9"
  }
 },
 "nbformat": 4,
 "nbformat_minor": 4
}
