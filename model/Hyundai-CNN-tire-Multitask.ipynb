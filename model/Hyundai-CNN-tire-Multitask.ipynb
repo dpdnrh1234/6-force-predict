{
 "cells": [
  {
   "cell_type": "code",
   "execution_count": 1,
   "metadata": {
    "scrolled": true
   },
   "outputs": [],
   "source": [
    "import pandas as pd\n",
    "import numpy as np\n",
    "from tqdm import tqdm\n",
    "import random\n",
    "import tensorflow as tf\n",
    "import matplotlib.pyplot as plt\n",
    "import os"
   ]
  },
  {
   "cell_type": "code",
   "execution_count": 2,
   "metadata": {
    "scrolled": true
   },
   "outputs": [],
   "source": [
    "X_train = np.load('/home/iotadmin/notebooks/array/window_200_t.npy')"
   ]
  },
  {
   "cell_type": "code",
   "execution_count": 3,
   "metadata": {},
   "outputs": [],
   "source": [
    "Y_train1 = np.load('/home/iotadmin/notebooks/array/window_200_t_1.npy')\n",
    "Y_train2 = np.load('/home/iotadmin/notebooks/array/window_200_t_2.npy')\n",
    "Y_train3 = np.load('/home/iotadmin/notebooks/array/window_200_t_3.npy')\n",
    "Y_train4 = np.load('/home/iotadmin/notebooks/array/window_200_t_4.npy')\n",
    "Y_train5 = np.load('/home/iotadmin/notebooks/array/window_200_t_5.npy')\n",
    "Y_train6 = np.load('/home/iotadmin/notebooks/array/window_200_t_6.npy')\n",
    "Y_train7 = np.load('/home/iotadmin/notebooks/array/window_200_t_7.npy')\n",
    "Y_train8 = np.load('/home/iotadmin/notebooks/array/window_200_t_8.npy')\n",
    "Y_train9 = np.load('/home/iotadmin/notebooks/array/window_200_t_9.npy')\n",
    "Y_train10 = np.load('/home/iotadmin/notebooks/array/window_200_t_10.npy')\n",
    "Y_train11 = np.load('/home/iotadmin/notebooks/array/window_200_t_11.npy')\n",
    "Y_train12 = np.load('/home/iotadmin/notebooks/array/window_200_t_12.npy')\n",
    "Y_train13 = np.load('/home/iotadmin/notebooks/array/window_200_t_13.npy')\n",
    "Y_train14 = np.load('/home/iotadmin/notebooks/array/window_200_t_14.npy')\n",
    "Y_train15 = np.load('/home/iotadmin/notebooks/array/window_200_t_15.npy')\n",
    "Y_train16 = np.load('/home/iotadmin/notebooks/array/window_200_t_16.npy')\n",
    "Y_train17 = np.load('/home/iotadmin/notebooks/array/window_200_t_17.npy')\n",
    "Y_train18 = np.load('/home/iotadmin/notebooks/array/window_200_t_18.npy')\n",
    "Y_train19 = np.load('/home/iotadmin/notebooks/array/window_200_t_19.npy')\n",
    "Y_train20 = np.load('/home/iotadmin/notebooks/array/window_200_t_20.npy')\n",
    "Y_train21 = np.load('/home/iotadmin/notebooks/array/window_200_t_21.npy')\n",
    "Y_train22 = np.load('/home/iotadmin/notebooks/array/window_200_t_22.npy')\n",
    "Y_train23 = np.load('/home/iotadmin/notebooks/array/window_200_t_23.npy')\n",
    "Y_train24 = np.load('/home/iotadmin/notebooks/array/window_200_t_24.npy')"
   ]
  },
  {
   "cell_type": "code",
   "execution_count": 4,
   "metadata": {
    "scrolled": false
   },
   "outputs": [],
   "source": [
    "X_test = np.load('/home/iotadmin/notebooks/array/test_window_200_s.npy')"
   ]
  },
  {
   "cell_type": "code",
   "execution_count": 5,
   "metadata": {},
   "outputs": [],
   "source": [
    "Y_test1 = np.load('/home/iotadmin/notebooks/array/test_window_200_t_1.npy')\n",
    "Y_test2 = np.load('/home/iotadmin/notebooks/array/test_window_200_t_2.npy')\n",
    "Y_test3 = np.load('/home/iotadmin/notebooks/array/test_window_200_t_3.npy')\n",
    "Y_test4 = np.load('/home/iotadmin/notebooks/array/test_window_200_t_4.npy')\n",
    "Y_test5 = np.load('/home/iotadmin/notebooks/array/test_window_200_t_5.npy')\n",
    "Y_test6 = np.load('/home/iotadmin/notebooks/array/test_window_200_t_6.npy')\n",
    "Y_test7 = np.load('/home/iotadmin/notebooks/array/test_window_200_t_7.npy')\n",
    "Y_test8 = np.load('/home/iotadmin/notebooks/array/test_window_200_t_8.npy')\n",
    "Y_test9 = np.load('/home/iotadmin/notebooks/array/test_window_200_t_9.npy')\n",
    "Y_test10 = np.load('/home/iotadmin/notebooks/array/test_window_200_t_10.npy')\n",
    "Y_test11 = np.load('/home/iotadmin/notebooks/array/test_window_200_t_11.npy')\n",
    "Y_test12 = np.load('/home/iotadmin/notebooks/array/test_window_200_t_12.npy')\n",
    "Y_test13 = np.load('/home/iotadmin/notebooks/array/test_window_200_t_13.npy')\n",
    "Y_test14 = np.load('/home/iotadmin/notebooks/array/test_window_200_t_14.npy')\n",
    "Y_test15 = np.load('/home/iotadmin/notebooks/array/test_window_200_t_15.npy')\n",
    "Y_test16 = np.load('/home/iotadmin/notebooks/array/test_window_200_t_16.npy')\n",
    "Y_test17 = np.load('/home/iotadmin/notebooks/array/test_window_200_t_17.npy')\n",
    "Y_test18 = np.load('/home/iotadmin/notebooks/array/test_window_200_t_18.npy')\n",
    "Y_test19 = np.load('/home/iotadmin/notebooks/array/test_window_200_t_19.npy')\n",
    "Y_test20 = np.load('/home/iotadmin/notebooks/array/test_window_200_t_20.npy')\n",
    "Y_test21 = np.load('/home/iotadmin/notebooks/array/test_window_200_t_21.npy')\n",
    "Y_test22 = np.load('/home/iotadmin/notebooks/array/test_window_200_t_22.npy')\n",
    "Y_test23 = np.load('/home/iotadmin/notebooks/array/test_window_200_t_23.npy')\n",
    "Y_test24 = np.load('/home/iotadmin/notebooks/array/test_window_200_t_24.npy')"
   ]
  },
  {
   "cell_type": "code",
   "execution_count": 23,
   "metadata": {
    "scrolled": false
   },
   "outputs": [
    {
     "name": "stdout",
     "output_type": "stream",
     "text": [
      "Model: \"model_3\"\n",
      "__________________________________________________________________________________________________\n",
      "Layer (type)                    Output Shape         Param #     Connected to                     \n",
      "==================================================================================================\n",
      "input_4 (InputLayer)            [(None, 200, 42)]    0                                            \n",
      "__________________________________________________________________________________________________\n",
      "conv1d_3 (Conv1D)               (None, 191, 256)     107776      input_4[0][0]                    \n",
      "__________________________________________________________________________________________________\n",
      "max_pooling1d_3 (MaxPooling1D)  (None, 38, 256)      0           conv1d_3[0][0]                   \n",
      "__________________________________________________________________________________________________\n",
      "flatten_3 (Flatten)             (None, 9728)         0           max_pooling1d_3[0][0]            \n",
      "__________________________________________________________________________________________________\n",
      "dense_39 (Dense)                (None, 32)           311328      flatten_3[0][0]                  \n",
      "__________________________________________________________________________________________________\n",
      "dense_40 (Dense)                (None, 1)            33          dense_39[0][0]                   \n",
      "__________________________________________________________________________________________________\n",
      "dense_41 (Dense)                (None, 1)            33          dense_39[0][0]                   \n",
      "__________________________________________________________________________________________________\n",
      "dense_42 (Dense)                (None, 1)            33          dense_39[0][0]                   \n",
      "__________________________________________________________________________________________________\n",
      "dense_43 (Dense)                (None, 1)            33          dense_39[0][0]                   \n",
      "__________________________________________________________________________________________________\n",
      "dense_44 (Dense)                (None, 1)            33          dense_39[0][0]                   \n",
      "__________________________________________________________________________________________________\n",
      "dense_45 (Dense)                (None, 1)            33          dense_39[0][0]                   \n",
      "__________________________________________________________________________________________________\n",
      "dense_46 (Dense)                (None, 1)            33          dense_39[0][0]                   \n",
      "__________________________________________________________________________________________________\n",
      "dense_47 (Dense)                (None, 1)            33          dense_39[0][0]                   \n",
      "__________________________________________________________________________________________________\n",
      "dense_48 (Dense)                (None, 1)            33          dense_39[0][0]                   \n",
      "__________________________________________________________________________________________________\n",
      "dense_49 (Dense)                (None, 1)            33          dense_39[0][0]                   \n",
      "__________________________________________________________________________________________________\n",
      "dense_50 (Dense)                (None, 1)            33          dense_39[0][0]                   \n",
      "__________________________________________________________________________________________________\n",
      "dense_51 (Dense)                (None, 1)            33          dense_39[0][0]                   \n",
      "==================================================================================================\n",
      "Total params: 419,500\n",
      "Trainable params: 419,500\n",
      "Non-trainable params: 0\n",
      "__________________________________________________________________________________________________\n"
     ]
    }
   ],
   "source": [
    "from tensorflow.keras.layers import LSTM, RNN, Input, Dense,Conv1D,MaxPooling1D,Flatten,BatchNormalization\n",
    "from tensorflow.keras.models import Model\n",
    "\n",
    "step = 200\n",
    "n_inputs = 42\n",
    "n_hiddens = 64\n",
    "n_outputs = 1\n",
    "inputs = Input(shape=(step, n_inputs))\n",
    "x = Conv1D(256, 10, activation='relu')(inputs)\n",
    "x = MaxPooling1D(5)(x)\n",
    "x = Flatten()(x)\n",
    "x = Dense(32,activation='relu')(x)\n",
    "output4 = Dense(n_outputs)(x)\n",
    "output5 = Dense(n_outputs)(x)\n",
    "output6 = Dense(n_outputs)(x)\n",
    "output10 = Dense(n_outputs)(x)\n",
    "output11 = Dense(n_outputs)(x)\n",
    "output12 = Dense(n_outputs)(x)\n",
    "output16 = Dense(n_outputs)(x)\n",
    "output17 = Dense(n_outputs)(x)\n",
    "output18 = Dense(n_outputs)(x)\n",
    "output22 = Dense(n_outputs)(x)\n",
    "output23 = Dense(n_outputs)(x)\n",
    "output24 = Dense(n_outputs)(x)\n",
    "\n",
    "model = Model(inputs,[output4,output5,output6,output10,output11,output12,output16,output17,output18,output22,output23,output24])\n",
    "model.summary()"
   ]
  },
  {
   "cell_type": "code",
   "execution_count": 24,
   "metadata": {
    "scrolled": true
   },
   "outputs": [
    {
     "name": "stdout",
     "output_type": "stream",
     "text": [
      "Train on 193115 samples\n",
      "Epoch 1/200\n",
      "193115/193115 [==============================] - 25s 128us/sample - loss: 102772.7349 - dense_40_loss: 21657.2520 - dense_41_loss: 9084.9131 - dense_42_loss: 3682.8254 - dense_43_loss: 23396.2598 - dense_44_loss: 8835.1973 - dense_45_loss: 3940.8137 - dense_46_loss: 12595.7100 - dense_47_loss: 1203.8384 - dense_48_loss: 1564.0204 - dense_49_loss: 13313.5430 - dense_50_loss: 2044.3979 - dense_51_loss: 1439.7579 - dense_40_mae: 93.0635 - dense_41_mae: 57.9009 - dense_42_mae: 36.1457 - dense_43_mae: 96.3369 - dense_44_mae: 58.3057 - dense_45_mae: 36.2336 - dense_46_mae: 71.0594 - dense_47_mae: 21.8852 - dense_48_mae: 24.5186 - dense_49_mae: 73.0502 - dense_50_mae: 20.8870 - dense_51_mae: 21.7665\n",
      "Epoch 2/200\n",
      "193115/193115 [==============================] - 22s 114us/sample - loss: 30106.6186 - dense_40_loss: 6267.8735 - dense_41_loss: 2198.7078 - dense_42_loss: 772.4886 - dense_43_loss: 6699.0947 - dense_44_loss: 2244.7405 - dense_45_loss: 976.7484 - dense_46_loss: 4430.2861 - dense_47_loss: 375.6613 - dense_48_loss: 529.2717 - dense_49_loss: 4855.9858 - dense_50_loss: 267.4445 - dense_51_loss: 488.0136 - dense_40_mae: 52.4481 - dense_41_mae: 32.1152 - dense_42_mae: 19.1050 - dense_43_mae: 54.0710 - dense_44_mae: 31.5048 - dense_45_mae: 21.5489 - dense_46_mae: 43.1145 - dense_47_mae: 12.6189 - dense_48_mae: 15.9959 - dense_49_mae: 44.6079 - dense_50_mae: 10.2743 - dense_51_mae: 13.4212\n",
      "Epoch 3/200\n",
      "193115/193115 [==============================] - 22s 114us/sample - loss: 26802.2850 - dense_40_loss: 5595.1372 - dense_41_loss: 1834.9099 - dense_42_loss: 691.3992 - dense_43_loss: 5986.7720 - dense_44_loss: 1833.3539 - dense_45_loss: 888.8492 - dense_46_loss: 4062.8923 - dense_47_loss: 256.4570 - dense_48_loss: 485.4187 - dense_49_loss: 4476.9131 - dense_50_loss: 221.9543 - dense_51_loss: 468.0037 - dense_40_mae: 49.1348 - dense_41_mae: 29.6999 - dense_42_mae: 18.0367 - dense_43_mae: 50.4617 - dense_44_mae: 28.8042 - dense_45_mae: 20.4354 - dense_46_mae: 40.8801 - dense_47_mae: 10.3796 - dense_48_mae: 15.2504 - dense_49_mae: 42.2539 - dense_50_mae: 9.3140 - dense_51_mae: 12.9870\n",
      "Epoch 4/200\n",
      "193115/193115 [==============================] - 21s 111us/sample - loss: 24778.5985 - dense_40_loss: 5145.6357 - dense_41_loss: 1640.4927 - dense_42_loss: 641.1715 - dense_43_loss: 5616.7993 - dense_44_loss: 1610.2861 - dense_45_loss: 815.5666 - dense_46_loss: 3820.3364 - dense_47_loss: 202.9474 - dense_48_loss: 469.0718 - dense_49_loss: 4185.7109 - dense_50_loss: 188.6119 - dense_51_loss: 442.5651 - dense_40_mae: 46.9265 - dense_41_mae: 28.2647 - dense_42_mae: 17.3742 - dense_43_mae: 48.4769 - dense_44_mae: 27.2991 - dense_45_mae: 19.5854 - dense_46_mae: 39.5612 - dense_47_mae: 9.2389 - dense_48_mae: 14.9869 - dense_49_mae: 40.6574 - dense_50_mae: 8.4709 - dense_51_mae: 12.5644\n",
      "Epoch 5/200\n",
      "193115/193115 [==============================] - 22s 111us/sample - loss: 23417.1000 - dense_40_loss: 4857.9136 - dense_41_loss: 1546.3395 - dense_42_loss: 603.2903 - dense_43_loss: 5327.4946 - dense_44_loss: 1476.3928 - dense_45_loss: 765.7859 - dense_46_loss: 3636.3296 - dense_47_loss: 172.2961 - dense_48_loss: 455.8919 - dense_49_loss: 3983.0452 - dense_50_loss: 162.2032 - dense_51_loss: 430.0567 - dense_40_mae: 45.1573 - dense_41_mae: 27.5403 - dense_42_mae: 16.8943 - dense_43_mae: 46.8257 - dense_44_mae: 26.4093 - dense_45_mae: 18.9607 - dense_46_mae: 38.2507 - dense_47_mae: 8.5249 - dense_48_mae: 14.7213 - dense_49_mae: 39.4536 - dense_50_mae: 7.8840 - dense_51_mae: 12.3901\n",
      "Epoch 6/200\n",
      "193115/193115 [==============================] - 21s 111us/sample - loss: 22674.7710 - dense_40_loss: 4792.0835 - dense_41_loss: 1476.4282 - dense_42_loss: 575.5235 - dense_43_loss: 5148.6724 - dense_44_loss: 1385.7383 - dense_45_loss: 737.3140 - dense_46_loss: 3574.4971 - dense_47_loss: 154.6617 - dense_48_loss: 444.8073 - dense_49_loss: 3819.2681 - dense_50_loss: 140.7319 - dense_51_loss: 424.2240 - dense_40_mae: 44.8607 - dense_41_mae: 26.9836 - dense_42_mae: 16.4497 - dense_43_mae: 45.8320 - dense_44_mae: 25.8623 - dense_45_mae: 18.6345 - dense_46_mae: 37.9273 - dense_47_mae: 8.0859 - dense_48_mae: 14.4859 - dense_49_mae: 38.5123 - dense_50_mae: 7.2879 - dense_51_mae: 12.3192\n",
      "Epoch 7/200\n",
      "193115/193115 [==============================] - 22s 115us/sample - loss: 22324.2103 - dense_40_loss: 4733.3721 - dense_41_loss: 1463.3027 - dense_42_loss: 563.5167 - dense_43_loss: 5091.6470 - dense_44_loss: 1369.2318 - dense_45_loss: 723.0677 - dense_46_loss: 3492.3801 - dense_47_loss: 147.6325 - dense_48_loss: 440.0892 - dense_49_loss: 3749.2312 - dense_50_loss: 130.1629 - dense_51_loss: 419.8993 - dense_40_mae: 44.5121 - dense_41_mae: 26.8171 - dense_42_mae: 16.2475 - dense_43_mae: 45.6477 - dense_44_mae: 25.5901 - dense_45_mae: 18.3852 - dense_46_mae: 37.4343 - dense_47_mae: 7.9186 - dense_48_mae: 14.4100 - dense_49_mae: 38.2067 - dense_50_mae: 7.0232 - dense_51_mae: 12.2951\n",
      "Epoch 8/200\n",
      "193115/193115 [==============================] - 22s 116us/sample - loss: 21534.5979 - dense_40_loss: 4575.6924 - dense_41_loss: 1382.3818 - dense_42_loss: 539.6741 - dense_43_loss: 4903.0908 - dense_44_loss: 1285.7035 - dense_45_loss: 696.6394 - dense_46_loss: 3428.8601 - dense_47_loss: 135.7737 - dense_48_loss: 433.8831 - dense_49_loss: 3623.3091 - dense_50_loss: 115.9577 - dense_51_loss: 413.8884 - dense_40_mae: 43.4775 - dense_41_mae: 25.9876 - dense_42_mae: 15.8361 - dense_43_mae: 44.3505 - dense_44_mae: 24.8188 - dense_45_mae: 17.9876 - dense_46_mae: 36.9931 - dense_47_mae: 7.5768 - dense_48_mae: 14.2940 - dense_49_mae: 37.3336 - dense_50_mae: 6.5403 - dense_51_mae: 12.2232\n",
      "Epoch 9/200\n",
      "193115/193115 [==============================] - 21s 109us/sample - loss: 21291.4976 - dense_40_loss: 4568.3984 - dense_41_loss: 1378.7369 - dense_42_loss: 525.5479 - dense_43_loss: 4862.0356 - dense_44_loss: 1284.4696 - dense_45_loss: 692.0054 - dense_46_loss: 3352.7791 - dense_47_loss: 128.5017 - dense_48_loss: 429.5917 - dense_49_loss: 3552.4397 - dense_50_loss: 109.0350 - dense_51_loss: 407.2679 - dense_40_mae: 43.5139 - dense_41_mae: 26.0766 - dense_42_mae: 15.6169 - dense_43_mae: 44.2209 - dense_44_mae: 24.9241 - dense_45_mae: 17.9506 - dense_46_mae: 36.6247 - dense_47_mae: 7.4273 - dense_48_mae: 14.2419 - dense_49_mae: 37.0218 - dense_50_mae: 6.3760 - dense_51_mae: 12.1445\n",
      "Epoch 10/200\n",
      "193115/193115 [==============================] - 22s 112us/sample - loss: 20752.6884 - dense_40_loss: 4438.0830 - dense_41_loss: 1343.9100 - dense_42_loss: 511.6061 - dense_43_loss: 4753.3325 - dense_44_loss: 1231.7808 - dense_45_loss: 675.7751 - dense_46_loss: 3271.1567 - dense_47_loss: 125.7166 - dense_48_loss: 427.6190 - dense_49_loss: 3465.8406 - dense_50_loss: 105.1283 - dense_51_loss: 402.0021 - dense_40_mae: 42.5094 - dense_41_mae: 25.7303 - dense_42_mae: 15.3380 - dense_43_mae: 43.4832 - dense_44_mae: 24.4247 - dense_45_mae: 17.6893 - dense_46_mae: 35.9376 - dense_47_mae: 7.3525 - dense_48_mae: 14.2011 - dense_49_mae: 36.4305 - dense_50_mae: 6.2944 - dense_51_mae: 12.1100\n",
      "Epoch 11/200\n",
      "193115/193115 [==============================] - 22s 112us/sample - loss: 21116.3498 - dense_40_loss: 4538.4434 - dense_41_loss: 1367.7751 - dense_42_loss: 520.1161 - dense_43_loss: 4820.1099 - dense_44_loss: 1283.4066 - dense_45_loss: 679.2270 - dense_46_loss: 3350.1416 - dense_47_loss: 127.3905 - dense_48_loss: 428.2749 - dense_49_loss: 3497.1187 - dense_50_loss: 104.8261 - dense_51_loss: 399.0060 - dense_40_mae: 43.2694 - dense_41_mae: 25.9239 - dense_42_mae: 15.4571 - dense_43_mae: 44.2548 - dense_44_mae: 24.8050 - dense_45_mae: 17.7577 - dense_46_mae: 36.6398 - dense_47_mae: 7.4547 - dense_48_mae: 14.2203 - dense_49_mae: 36.9572 - dense_50_mae: 6.3198 - dense_51_mae: 12.1223\n",
      "Epoch 12/200\n"
     ]
    },
    {
     "name": "stdout",
     "output_type": "stream",
     "text": [
      "193115/193115 [==============================] - 22s 113us/sample - loss: 20182.1513 - dense_40_loss: 4331.0757 - dense_41_loss: 1311.7554 - dense_42_loss: 497.3059 - dense_43_loss: 4614.7583 - dense_44_loss: 1207.4406 - dense_45_loss: 656.8051 - dense_46_loss: 3159.7280 - dense_47_loss: 117.6526 - dense_48_loss: 424.5781 - dense_49_loss: 3373.4099 - dense_50_loss: 96.2357 - dense_51_loss: 390.5421 - dense_40_mae: 41.7543 - dense_41_mae: 25.3914 - dense_42_mae: 15.0959 - dense_43_mae: 42.7372 - dense_44_mae: 24.2045 - dense_45_mae: 17.4088 - dense_46_mae: 35.2378 - dense_47_mae: 7.1010 - dense_48_mae: 14.1508 - dense_49_mae: 35.9783 - dense_50_mae: 6.0434 - dense_51_mae: 11.9898\n",
      "Epoch 13/200\n",
      "193115/193115 [==============================] - 23s 119us/sample - loss: 19937.8679 - dense_40_loss: 4308.1636 - dense_41_loss: 1278.3997 - dense_42_loss: 491.5450 - dense_43_loss: 4561.7603 - dense_44_loss: 1168.8302 - dense_45_loss: 648.8616 - dense_46_loss: 3142.5859 - dense_47_loss: 113.6903 - dense_48_loss: 422.0748 - dense_49_loss: 3320.2725 - dense_50_loss: 94.3239 - dense_51_loss: 386.6814 - dense_40_mae: 41.7885 - dense_41_mae: 25.0716 - dense_42_mae: 14.9724 - dense_43_mae: 42.4533 - dense_44_mae: 23.7664 - dense_45_mae: 17.3077 - dense_46_mae: 35.2067 - dense_47_mae: 7.0181 - dense_48_mae: 14.1116 - dense_49_mae: 35.7014 - dense_50_mae: 6.0036 - dense_51_mae: 11.9574\n",
      "Epoch 14/200\n",
      "193115/193115 [==============================] - 22s 113us/sample - loss: 19900.0430 - dense_40_loss: 4287.6270 - dense_41_loss: 1274.2151 - dense_42_loss: 494.1627 - dense_43_loss: 4590.2290 - dense_44_loss: 1161.1558 - dense_45_loss: 643.4092 - dense_46_loss: 3128.4333 - dense_47_loss: 109.2978 - dense_48_loss: 422.2396 - dense_49_loss: 3313.0742 - dense_50_loss: 90.5034 - dense_51_loss: 385.3453 - dense_40_mae: 41.6005 - dense_41_mae: 24.9928 - dense_42_mae: 15.0389 - dense_43_mae: 42.7431 - dense_44_mae: 23.7445 - dense_45_mae: 17.2345 - dense_46_mae: 35.1288 - dense_47_mae: 6.8349 - dense_48_mae: 14.0994 - dense_49_mae: 35.9193 - dense_50_mae: 5.8819 - dense_51_mae: 11.9753\n",
      "Epoch 15/200\n",
      "193115/193115 [==============================] - 22s 113us/sample - loss: 19539.8620 - dense_40_loss: 4232.7129 - dense_41_loss: 1268.3496 - dense_42_loss: 487.3710 - dense_43_loss: 4457.0894 - dense_44_loss: 1161.2751 - dense_45_loss: 637.9803 - dense_46_loss: 3061.5557 - dense_47_loss: 108.0051 - dense_48_loss: 420.4311 - dense_49_loss: 3235.5623 - dense_50_loss: 89.9366 - dense_51_loss: 379.5893 - dense_40_mae: 41.2468 - dense_41_mae: 25.0577 - dense_42_mae: 14.9196 - dense_43_mae: 41.9080 - dense_44_mae: 23.8181 - dense_45_mae: 17.1884 - dense_46_mae: 34.6554 - dense_47_mae: 6.7999 - dense_48_mae: 14.0670 - dense_49_mae: 35.3029 - dense_50_mae: 5.8726 - dense_51_mae: 11.8738\n",
      "Epoch 16/200\n",
      "193115/193115 [==============================] - 21s 111us/sample - loss: 19338.7486 - dense_40_loss: 4196.8179 - dense_41_loss: 1244.7487 - dense_42_loss: 483.6486 - dense_43_loss: 4437.1514 - dense_44_loss: 1129.7908 - dense_45_loss: 626.0358 - dense_46_loss: 3031.6370 - dense_47_loss: 104.4977 - dense_48_loss: 419.9424 - dense_49_loss: 3199.1809 - dense_50_loss: 87.9270 - dense_51_loss: 377.5287 - dense_40_mae: 41.1220 - dense_41_mae: 24.7937 - dense_42_mae: 14.8249 - dense_43_mae: 41.7676 - dense_44_mae: 23.4869 - dense_45_mae: 17.0093 - dense_46_mae: 34.5809 - dense_47_mae: 6.6992 - dense_48_mae: 14.0635 - dense_49_mae: 35.1075 - dense_50_mae: 5.8246 - dense_51_mae: 11.8931\n",
      "Epoch 17/200\n",
      "193115/193115 [==============================] - 22s 114us/sample - loss: 19125.2278 - dense_40_loss: 4164.0049 - dense_41_loss: 1233.6506 - dense_42_loss: 481.5514 - dense_43_loss: 4378.8086 - dense_44_loss: 1115.4537 - dense_45_loss: 622.2192 - dense_46_loss: 2993.1450 - dense_47_loss: 101.8795 - dense_48_loss: 418.5508 - dense_49_loss: 3157.4858 - dense_50_loss: 84.6756 - dense_51_loss: 375.0366 - dense_40_mae: 40.7445 - dense_41_mae: 24.7093 - dense_42_mae: 14.8250 - dense_43_mae: 41.3845 - dense_44_mae: 23.3364 - dense_45_mae: 16.9674 - dense_46_mae: 34.3691 - dense_47_mae: 6.5670 - dense_48_mae: 14.0200 - dense_49_mae: 34.7807 - dense_50_mae: 5.7220 - dense_51_mae: 11.8823\n",
      "Epoch 18/200\n",
      "193115/193115 [==============================] - 22s 113us/sample - loss: 19058.7986 - dense_40_loss: 4156.1416 - dense_41_loss: 1221.6885 - dense_42_loss: 479.1237 - dense_43_loss: 4351.5518 - dense_44_loss: 1115.0706 - dense_45_loss: 621.5277 - dense_46_loss: 2985.1421 - dense_47_loss: 99.5800 - dense_48_loss: 419.2844 - dense_49_loss: 3151.2253 - dense_50_loss: 83.6690 - dense_51_loss: 375.3256 - dense_40_mae: 40.8271 - dense_41_mae: 24.5671 - dense_42_mae: 14.7405 - dense_43_mae: 41.3240 - dense_44_mae: 23.3264 - dense_45_mae: 16.9585 - dense_46_mae: 34.3427 - dense_47_mae: 6.5051 - dense_48_mae: 14.0453 - dense_49_mae: 34.8606 - dense_50_mae: 5.6982 - dense_51_mae: 11.9167\n",
      "Epoch 19/200\n",
      "193115/193115 [==============================] - 22s 112us/sample - loss: 18832.7596 - dense_40_loss: 4095.1846 - dense_41_loss: 1206.1200 - dense_42_loss: 476.4380 - dense_43_loss: 4324.0405 - dense_44_loss: 1099.6378 - dense_45_loss: 614.8270 - dense_46_loss: 2940.5437 - dense_47_loss: 98.8784 - dense_48_loss: 417.3350 - dense_49_loss: 3106.7627 - dense_50_loss: 82.4103 - dense_51_loss: 369.5612 - dense_40_mae: 40.4448 - dense_41_mae: 24.3821 - dense_42_mae: 14.7064 - dense_43_mae: 41.1612 - dense_44_mae: 23.1388 - dense_45_mae: 16.8641 - dense_46_mae: 34.0329 - dense_47_mae: 6.4816 - dense_48_mae: 14.0038 - dense_49_mae: 34.6203 - dense_50_mae: 5.6663 - dense_51_mae: 11.8402\n",
      "Epoch 20/200\n",
      "193115/193115 [==============================] - 22s 112us/sample - loss: 18762.2541 - dense_40_loss: 4100.4746 - dense_41_loss: 1206.0447 - dense_42_loss: 474.1815 - dense_43_loss: 4299.3623 - dense_44_loss: 1093.9319 - dense_45_loss: 606.4773 - dense_46_loss: 2922.2505 - dense_47_loss: 96.5839 - dense_48_loss: 416.9606 - dense_49_loss: 3096.7725 - dense_50_loss: 81.6771 - dense_51_loss: 368.5154 - dense_40_mae: 40.5946 - dense_41_mae: 24.4418 - dense_42_mae: 14.6722 - dense_43_mae: 41.1052 - dense_44_mae: 23.1215 - dense_45_mae: 16.7621 - dense_46_mae: 33.9638 - dense_47_mae: 6.3816 - dense_48_mae: 14.0038 - dense_49_mae: 34.6626 - dense_50_mae: 5.6201 - dense_51_mae: 11.8204\n",
      "Epoch 21/200\n",
      "193115/193115 [==============================] - 22s 115us/sample - loss: 18559.5259 - dense_40_loss: 4045.4512 - dense_41_loss: 1198.8373 - dense_42_loss: 473.8552 - dense_43_loss: 4241.5781 - dense_44_loss: 1089.5277 - dense_45_loss: 603.8260 - dense_46_loss: 2901.3081 - dense_47_loss: 97.1421 - dense_48_loss: 416.3513 - dense_49_loss: 3045.6472 - dense_50_loss: 81.0077 - dense_51_loss: 367.0045 - dense_40_mae: 40.1242 - dense_41_mae: 24.3742 - dense_42_mae: 14.6882 - dense_43_mae: 40.7653 - dense_44_mae: 23.1481 - dense_45_mae: 16.7743 - dense_46_mae: 33.8098 - dense_47_mae: 6.4122 - dense_48_mae: 14.0053 - dense_49_mae: 34.3035 - dense_50_mae: 5.6337 - dense_51_mae: 11.8351\n",
      "Epoch 22/200\n",
      "193115/193115 [==============================] - 21s 111us/sample - loss: 18348.2456 - dense_40_loss: 4010.8276 - dense_41_loss: 1160.4988 - dense_42_loss: 465.8387 - dense_43_loss: 4227.2915 - dense_44_loss: 1056.8948 - dense_45_loss: 594.9341 - dense_46_loss: 2849.1140 - dense_47_loss: 94.2865 - dense_48_loss: 414.9608 - dense_49_loss: 3028.0183 - dense_50_loss: 78.9676 - dense_51_loss: 365.7820 - dense_40_mae: 39.8869 - dense_41_mae: 23.8984 - dense_42_mae: 14.5062 - dense_43_mae: 40.7239 - dense_44_mae: 22.6555 - dense_45_mae: 16.5743 - dense_46_mae: 33.4301 - dense_47_mae: 6.2949 - dense_48_mae: 13.9661 - dense_49_mae: 34.3273 - dense_50_mae: 5.5558 - dense_51_mae: 11.8063\n",
      "Epoch 23/200\n"
     ]
    },
    {
     "name": "stdout",
     "output_type": "stream",
     "text": [
      "193115/193115 [==============================] - 22s 112us/sample - loss: 18235.5462 - dense_40_loss: 4006.3647 - dense_41_loss: 1151.6947 - dense_42_loss: 463.2908 - dense_43_loss: 4176.3428 - dense_44_loss: 1050.3835 - dense_45_loss: 591.4677 - dense_46_loss: 2845.1335 - dense_47_loss: 92.9214 - dense_48_loss: 414.9021 - dense_49_loss: 3001.2625 - dense_50_loss: 78.8116 - dense_51_loss: 363.4660 - dense_40_mae: 39.9520 - dense_41_mae: 23.8152 - dense_42_mae: 14.4858 - dense_43_mae: 40.3858 - dense_44_mae: 22.5866 - dense_45_mae: 16.5265 - dense_46_mae: 33.4821 - dense_47_mae: 6.2759 - dense_48_mae: 13.9709 - dense_49_mae: 34.0688 - dense_50_mae: 5.5471 - dense_51_mae: 11.7907\n",
      "Epoch 24/200\n",
      "193115/193115 [==============================] - 22s 113us/sample - loss: 18198.2757 - dense_40_loss: 3984.2021 - dense_41_loss: 1166.6981 - dense_42_loss: 467.0963 - dense_43_loss: 4156.4971 - dense_44_loss: 1065.8640 - dense_45_loss: 594.8069 - dense_46_loss: 2828.5583 - dense_47_loss: 93.2050 - dense_48_loss: 415.6333 - dense_49_loss: 2982.6633 - dense_50_loss: 79.0552 - dense_51_loss: 362.7667 - dense_40_mae: 39.6673 - dense_41_mae: 24.0554 - dense_42_mae: 14.5732 - dense_43_mae: 40.3666 - dense_44_mae: 22.8757 - dense_45_mae: 16.6371 - dense_46_mae: 33.3351 - dense_47_mae: 6.2816 - dense_48_mae: 13.9874 - dense_49_mae: 34.0028 - dense_50_mae: 5.5595 - dense_51_mae: 11.7817\n",
      "Epoch 25/200\n",
      "193115/193115 [==============================] - 22s 114us/sample - loss: 18034.0186 - dense_40_loss: 3973.0500 - dense_41_loss: 1146.6917 - dense_42_loss: 462.8694 - dense_43_loss: 4116.3911 - dense_44_loss: 1042.9287 - dense_45_loss: 587.7040 - dense_46_loss: 2801.0554 - dense_47_loss: 92.6810 - dense_48_loss: 414.8538 - dense_49_loss: 2955.9390 - dense_50_loss: 78.8671 - dense_51_loss: 360.9253 - dense_40_mae: 39.6602 - dense_41_mae: 23.7887 - dense_42_mae: 14.4841 - dense_43_mae: 40.0752 - dense_44_mae: 22.5771 - dense_45_mae: 16.5101 - dense_46_mae: 33.1001 - dense_47_mae: 6.2487 - dense_48_mae: 13.9749 - dense_49_mae: 33.8981 - dense_50_mae: 5.5566 - dense_51_mae: 11.7891\n",
      "Epoch 26/200\n",
      "193115/193115 [==============================] - 21s 109us/sample - loss: 18023.4120 - dense_40_loss: 3961.5408 - dense_41_loss: 1147.4973 - dense_42_loss: 462.0881 - dense_43_loss: 4130.6523 - dense_44_loss: 1045.4150 - dense_45_loss: 584.7447 - dense_46_loss: 2799.4663 - dense_47_loss: 92.3216 - dense_48_loss: 414.8363 - dense_49_loss: 2946.1055 - dense_50_loss: 77.7778 - dense_51_loss: 361.1624 - dense_40_mae: 39.6701 - dense_41_mae: 23.8296 - dense_42_mae: 14.5070 - dense_43_mae: 40.3495 - dense_44_mae: 22.6414 - dense_45_mae: 16.4913 - dense_46_mae: 33.1905 - dense_47_mae: 6.2550 - dense_48_mae: 13.9759 - dense_49_mae: 33.9426 - dense_50_mae: 5.5356 - dense_51_mae: 11.7948\n",
      "Epoch 27/200\n",
      "193115/193115 [==============================] - 20s 103us/sample - loss: 17753.4312 - dense_40_loss: 3901.9814 - dense_41_loss: 1127.1418 - dense_42_loss: 459.9707 - dense_43_loss: 4046.0427 - dense_44_loss: 1027.8259 - dense_45_loss: 584.3839 - dense_46_loss: 2775.2278 - dense_47_loss: 91.9989 - dense_48_loss: 413.6602 - dense_49_loss: 2889.6143 - dense_50_loss: 77.0865 - dense_51_loss: 358.7502 - dense_40_mae: 39.1533 - dense_41_mae: 23.5797 - dense_42_mae: 14.4277 - dense_43_mae: 39.6315 - dense_44_mae: 22.3918 - dense_45_mae: 16.4996 - dense_46_mae: 32.8816 - dense_47_mae: 6.2350 - dense_48_mae: 13.9508 - dense_49_mae: 33.4080 - dense_50_mae: 5.5077 - dense_51_mae: 11.7521\n",
      "Epoch 28/200\n",
      "193115/193115 [==============================] - 22s 115us/sample - loss: 17798.8105 - dense_40_loss: 3918.0801 - dense_41_loss: 1118.0853 - dense_42_loss: 460.7529 - dense_43_loss: 4081.4539 - dense_44_loss: 1020.8748 - dense_45_loss: 578.2646 - dense_46_loss: 2766.7271 - dense_47_loss: 91.2373 - dense_48_loss: 414.1643 - dense_49_loss: 2912.6672 - dense_50_loss: 77.0550 - dense_51_loss: 359.2985 - dense_40_mae: 39.3860 - dense_41_mae: 23.4660 - dense_42_mae: 14.4413 - dense_43_mae: 39.9199 - dense_44_mae: 22.2894 - dense_45_mae: 16.3786 - dense_46_mae: 32.9168 - dense_47_mae: 6.1962 - dense_48_mae: 13.9621 - dense_49_mae: 33.7020 - dense_50_mae: 5.5013 - dense_51_mae: 11.8078\n",
      "Epoch 29/200\n",
      "193115/193115 [==============================] - 22s 112us/sample - loss: 17744.6577 - dense_40_loss: 3908.5698 - dense_41_loss: 1129.7046 - dense_42_loss: 461.3415 - dense_43_loss: 4054.0698 - dense_44_loss: 1028.9459 - dense_45_loss: 577.6071 - dense_46_loss: 2757.9116 - dense_47_loss: 92.3978 - dense_48_loss: 414.6727 - dense_49_loss: 2883.0212 - dense_50_loss: 77.2623 - dense_51_loss: 358.8388 - dense_40_mae: 39.4061 - dense_41_mae: 23.6571 - dense_42_mae: 14.4663 - dense_43_mae: 39.9143 - dense_44_mae: 22.4716 - dense_45_mae: 16.4344 - dense_46_mae: 32.9651 - dense_47_mae: 6.2796 - dense_48_mae: 13.9738 - dense_49_mae: 33.5619 - dense_50_mae: 5.5419 - dense_51_mae: 11.8053\n",
      "Epoch 30/200\n",
      "193115/193115 [==============================] - 22s 113us/sample - loss: 17569.8842 - dense_40_loss: 3855.8506 - dense_41_loss: 1124.4653 - dense_42_loss: 460.0286 - dense_43_loss: 4010.8806 - dense_44_loss: 1023.3869 - dense_45_loss: 574.9141 - dense_46_loss: 2720.1318 - dense_47_loss: 87.9458 - dense_48_loss: 412.5550 - dense_49_loss: 2865.6565 - dense_50_loss: 75.3323 - dense_51_loss: 358.0126 - dense_40_mae: 39.0230 - dense_41_mae: 23.6026 - dense_42_mae: 14.4302 - dense_43_mae: 39.6102 - dense_44_mae: 22.3952 - dense_45_mae: 16.3659 - dense_46_mae: 32.5852 - dense_47_mae: 6.0742 - dense_48_mae: 13.9439 - dense_49_mae: 33.3949 - dense_50_mae: 5.4254 - dense_51_mae: 11.7514\n",
      "Epoch 31/200\n",
      "193115/193115 [==============================] - 22s 115us/sample - loss: 17607.4713 - dense_40_loss: 3903.7524 - dense_41_loss: 1107.8237 - dense_42_loss: 456.9724 - dense_43_loss: 4037.3472 - dense_44_loss: 1011.1564 - dense_45_loss: 568.2759 - dense_46_loss: 2720.5042 - dense_47_loss: 89.3363 - dense_48_loss: 413.6212 - dense_49_loss: 2865.0786 - dense_50_loss: 76.4233 - dense_51_loss: 356.8589 - dense_40_mae: 39.3100 - dense_41_mae: 23.4007 - dense_42_mae: 14.3845 - dense_43_mae: 39.8663 - dense_44_mae: 22.2135 - dense_45_mae: 16.2765 - dense_46_mae: 32.6653 - dense_47_mae: 6.1744 - dense_48_mae: 13.9531 - dense_49_mae: 33.5512 - dense_50_mae: 5.5132 - dense_51_mae: 11.7687\n",
      "Epoch 32/200\n",
      "193115/193115 [==============================] - 22s 112us/sample - loss: 17431.5763 - dense_40_loss: 3834.8459 - dense_41_loss: 1100.0127 - dense_42_loss: 454.4115 - dense_43_loss: 3996.2642 - dense_44_loss: 1006.0064 - dense_45_loss: 569.5320 - dense_46_loss: 2701.0281 - dense_47_loss: 89.7881 - dense_48_loss: 413.4105 - dense_49_loss: 2834.1843 - dense_50_loss: 76.6602 - dense_51_loss: 355.2416 - dense_40_mae: 38.7785 - dense_41_mae: 23.2934 - dense_42_mae: 14.3494 - dense_43_mae: 39.5147 - dense_44_mae: 22.1802 - dense_45_mae: 16.3084 - dense_46_mae: 32.5324 - dense_47_mae: 6.1617 - dense_48_mae: 13.9598 - dense_49_mae: 33.2275 - dense_50_mae: 5.4975 - dense_51_mae: 11.7569\n",
      "Epoch 33/200\n",
      "193115/193115 [==============================] - 22s 114us/sample - loss: 17357.7888 - dense_40_loss: 3834.6926 - dense_41_loss: 1101.6486 - dense_42_loss: 452.4823 - dense_43_loss: 3956.2800 - dense_44_loss: 1007.1146 - dense_45_loss: 567.6926 - dense_46_loss: 2695.1836 - dense_47_loss: 87.6858 - dense_48_loss: 413.3020 - dense_49_loss: 2811.8230 - dense_50_loss: 75.2896 - dense_51_loss: 354.9056 - dense_40_mae: 38.8952 - dense_41_mae: 23.2920 - dense_42_mae: 14.3091 - dense_43_mae: 39.2616 - dense_44_mae: 22.1518 - dense_45_mae: 16.2329 - dense_46_mae: 32.4656 - dense_47_mae: 6.0824 - dense_48_mae: 13.9470 - dense_49_mae: 33.1278 - dense_50_mae: 5.4438 - dense_51_mae: 11.7397\n",
      "Epoch 34/200\n"
     ]
    },
    {
     "name": "stdout",
     "output_type": "stream",
     "text": [
      "193115/193115 [==============================] - 22s 113us/sample - loss: 17238.6332 - dense_40_loss: 3812.2080 - dense_41_loss: 1091.2671 - dense_42_loss: 450.4807 - dense_43_loss: 3927.5420 - dense_44_loss: 993.3849 - dense_45_loss: 559.1343 - dense_46_loss: 2672.0447 - dense_47_loss: 87.9250 - dense_48_loss: 412.9669 - dense_49_loss: 2805.7817 - dense_50_loss: 74.4776 - dense_51_loss: 353.8448 - dense_40_mae: 38.7324 - dense_41_mae: 23.2058 - dense_42_mae: 14.2814 - dense_43_mae: 39.2154 - dense_44_mae: 22.0349 - dense_45_mae: 16.1179 - dense_46_mae: 32.3503 - dense_47_mae: 6.0813 - dense_48_mae: 13.9524 - dense_49_mae: 33.1111 - dense_50_mae: 5.4166 - dense_51_mae: 11.7136\n",
      "Epoch 35/200\n",
      "193115/193115 [==============================] - 22s 114us/sample - loss: 17252.0341 - dense_40_loss: 3798.9001 - dense_41_loss: 1096.4126 - dense_42_loss: 449.1588 - dense_43_loss: 3950.2485 - dense_44_loss: 997.2015 - dense_45_loss: 562.1718 - dense_46_loss: 2671.4839 - dense_47_loss: 87.6436 - dense_48_loss: 412.9569 - dense_49_loss: 2798.0271 - dense_50_loss: 74.9800 - dense_51_loss: 352.2699 - dense_40_mae: 38.7225 - dense_41_mae: 23.3247 - dense_42_mae: 14.2664 - dense_43_mae: 39.3835 - dense_44_mae: 22.1325 - dense_45_mae: 16.2041 - dense_46_mae: 32.4345 - dense_47_mae: 6.0687 - dense_48_mae: 13.9476 - dense_49_mae: 33.1578 - dense_50_mae: 5.4243 - dense_51_mae: 11.7367\n",
      "Epoch 36/200\n",
      "193115/193115 [==============================] - 22s 115us/sample - loss: 17095.7566 - dense_40_loss: 3783.0112 - dense_41_loss: 1075.5232 - dense_42_loss: 448.2426 - dense_43_loss: 3905.1641 - dense_44_loss: 982.5975 - dense_45_loss: 558.2659 - dense_46_loss: 2642.4453 - dense_47_loss: 88.4227 - dense_48_loss: 412.7110 - dense_49_loss: 2771.5286 - dense_50_loss: 74.9462 - dense_51_loss: 353.1369 - dense_40_mae: 38.4810 - dense_41_mae: 23.0136 - dense_42_mae: 14.2437 - dense_43_mae: 38.9594 - dense_44_mae: 21.8716 - dense_45_mae: 16.1087 - dense_46_mae: 32.0875 - dense_47_mae: 6.1267 - dense_48_mae: 13.9555 - dense_49_mae: 32.8569 - dense_50_mae: 5.4586 - dense_51_mae: 11.7181\n",
      "Epoch 37/200\n",
      "193115/193115 [==============================] - 22s 112us/sample - loss: 17037.3881 - dense_40_loss: 3768.8750 - dense_41_loss: 1084.9524 - dense_42_loss: 449.0478 - dense_43_loss: 3869.5828 - dense_44_loss: 985.6498 - dense_45_loss: 553.6533 - dense_46_loss: 2627.6372 - dense_47_loss: 87.8224 - dense_48_loss: 412.4854 - dense_49_loss: 2771.6104 - dense_50_loss: 74.7858 - dense_51_loss: 351.3133 - dense_40_mae: 38.5087 - dense_41_mae: 23.1884 - dense_42_mae: 14.2637 - dense_43_mae: 38.9242 - dense_44_mae: 21.9928 - dense_45_mae: 16.0846 - dense_46_mae: 32.1107 - dense_47_mae: 6.0850 - dense_48_mae: 13.9465 - dense_49_mae: 32.9383 - dense_50_mae: 5.4278 - dense_51_mae: 11.7030\n",
      "Epoch 38/200\n",
      "193115/193115 [==============================] - 22s 115us/sample - loss: 17018.5664 - dense_40_loss: 3767.4358 - dense_41_loss: 1072.7751 - dense_42_loss: 446.6083 - dense_43_loss: 3877.2024 - dense_44_loss: 980.5867 - dense_45_loss: 555.8666 - dense_46_loss: 2633.8389 - dense_47_loss: 87.8211 - dense_48_loss: 411.4207 - dense_49_loss: 2760.8589 - dense_50_loss: 74.9444 - dense_51_loss: 349.8735 - dense_40_mae: 38.3825 - dense_41_mae: 23.0211 - dense_42_mae: 14.1940 - dense_43_mae: 38.8464 - dense_44_mae: 21.9254 - dense_45_mae: 16.0758 - dense_46_mae: 32.0658 - dense_47_mae: 6.0997 - dense_48_mae: 13.9223 - dense_49_mae: 32.8886 - dense_50_mae: 5.4512 - dense_51_mae: 11.6931\n",
      "Epoch 39/200\n",
      "193115/193115 [==============================] - 22s 115us/sample - loss: 16944.0861 - dense_40_loss: 3755.5286 - dense_41_loss: 1061.9409 - dense_42_loss: 443.3778 - dense_43_loss: 3872.1653 - dense_44_loss: 974.8616 - dense_45_loss: 555.9649 - dense_46_loss: 2614.5964 - dense_47_loss: 87.6753 - dense_48_loss: 411.3134 - dense_49_loss: 2742.4561 - dense_50_loss: 75.2815 - dense_51_loss: 349.3826 - dense_40_mae: 38.4302 - dense_41_mae: 22.8802 - dense_42_mae: 14.1298 - dense_43_mae: 38.9187 - dense_44_mae: 21.8137 - dense_45_mae: 16.1044 - dense_46_mae: 32.0070 - dense_47_mae: 6.0983 - dense_48_mae: 13.9216 - dense_49_mae: 32.8738 - dense_50_mae: 5.4669 - dense_51_mae: 11.6879\n",
      "Epoch 40/200\n",
      "193115/193115 [==============================] - 22s 112us/sample - loss: 16885.3764 - dense_40_loss: 3736.0457 - dense_41_loss: 1066.7433 - dense_42_loss: 444.7429 - dense_43_loss: 3860.2571 - dense_44_loss: 972.0814 - dense_45_loss: 553.9958 - dense_46_loss: 2603.9045 - dense_47_loss: 88.2298 - dense_48_loss: 411.2993 - dense_49_loss: 2723.0349 - dense_50_loss: 75.2989 - dense_51_loss: 349.1426 - dense_40_mae: 38.2990 - dense_41_mae: 22.9656 - dense_42_mae: 14.1666 - dense_43_mae: 38.9620 - dense_44_mae: 21.7884 - dense_45_mae: 16.1017 - dense_46_mae: 31.9590 - dense_47_mae: 6.1240 - dense_48_mae: 13.9329 - dense_49_mae: 32.7858 - dense_50_mae: 5.4529 - dense_51_mae: 11.7161\n",
      "Epoch 41/200\n",
      "193115/193115 [==============================] - 22s 113us/sample - loss: 16779.6522 - dense_40_loss: 3719.3450 - dense_41_loss: 1048.7744 - dense_42_loss: 438.9745 - dense_43_loss: 3839.7803 - dense_44_loss: 954.4290 - dense_45_loss: 549.6566 - dense_46_loss: 2593.3533 - dense_47_loss: 85.9815 - dense_48_loss: 410.7251 - dense_49_loss: 2718.1135 - dense_50_loss: 74.0039 - dense_51_loss: 347.9184 - dense_40_mae: 38.1587 - dense_41_mae: 22.7268 - dense_42_mae: 14.0533 - dense_43_mae: 38.5598 - dense_44_mae: 21.5526 - dense_45_mae: 15.9854 - dense_46_mae: 31.7864 - dense_47_mae: 6.0306 - dense_48_mae: 13.9108 - dense_49_mae: 32.6674 - dense_50_mae: 5.4206 - dense_51_mae: 11.6541\n",
      "Epoch 42/200\n",
      "193115/193115 [==============================] - 22s 116us/sample - loss: 16816.7764 - dense_40_loss: 3727.0012 - dense_41_loss: 1049.8934 - dense_42_loss: 442.7213 - dense_43_loss: 3853.7512 - dense_44_loss: 962.5789 - dense_45_loss: 551.8808 - dense_46_loss: 2584.1023 - dense_47_loss: 86.4578 - dense_48_loss: 411.4981 - dense_49_loss: 2723.6797 - dense_50_loss: 74.5298 - dense_51_loss: 349.4087 - dense_40_mae: 38.3206 - dense_41_mae: 22.7725 - dense_42_mae: 14.1575 - dense_43_mae: 38.8617 - dense_44_mae: 21.6665 - dense_45_mae: 16.0568 - dense_46_mae: 31.8371 - dense_47_mae: 6.0694 - dense_48_mae: 13.9504 - dense_49_mae: 32.7271 - dense_50_mae: 5.4280 - dense_51_mae: 11.7082\n",
      "Epoch 43/200\n",
      "193115/193115 [==============================] - 22s 114us/sample - loss: 16704.2117 - dense_40_loss: 3694.4001 - dense_41_loss: 1049.6041 - dense_42_loss: 443.2450 - dense_43_loss: 3810.6763 - dense_44_loss: 956.9895 - dense_45_loss: 546.7773 - dense_46_loss: 2570.0657 - dense_47_loss: 87.4660 - dense_48_loss: 411.4719 - dense_49_loss: 2711.3176 - dense_50_loss: 74.4547 - dense_51_loss: 347.3191 - dense_40_mae: 38.0715 - dense_41_mae: 22.7952 - dense_42_mae: 14.1240 - dense_43_mae: 38.5746 - dense_44_mae: 21.6409 - dense_45_mae: 15.9596 - dense_46_mae: 31.6654 - dense_47_mae: 6.0966 - dense_48_mae: 13.9526 - dense_49_mae: 32.6464 - dense_50_mae: 5.4638 - dense_51_mae: 11.6993\n",
      "Epoch 44/200\n",
      "193115/193115 [==============================] - 21s 111us/sample - loss: 16602.0719 - dense_40_loss: 3697.0364 - dense_41_loss: 1029.9554 - dense_42_loss: 436.8901 - dense_43_loss: 3789.9648 - dense_44_loss: 940.7595 - dense_45_loss: 544.7586 - dense_46_loss: 2551.3142 - dense_47_loss: 84.3815 - dense_48_loss: 411.0236 - dense_49_loss: 2697.0977 - dense_50_loss: 73.0271 - dense_51_loss: 347.6549 - dense_40_mae: 37.9817 - dense_41_mae: 22.4908 - dense_42_mae: 14.0062 - dense_43_mae: 38.3226 - dense_44_mae: 21.3663 - dense_45_mae: 15.8982 - dense_46_mae: 31.5156 - dense_47_mae: 5.9703 - dense_48_mae: 13.9289 - dense_49_mae: 32.4097 - dense_50_mae: 5.3539 - dense_51_mae: 11.6641\n",
      "Epoch 45/200\n"
     ]
    },
    {
     "name": "stdout",
     "output_type": "stream",
     "text": [
      "193115/193115 [==============================] - 22s 116us/sample - loss: 16545.1911 - dense_40_loss: 3667.7800 - dense_41_loss: 1028.7698 - dense_42_loss: 437.1211 - dense_43_loss: 3780.5510 - dense_44_loss: 938.2639 - dense_45_loss: 543.5474 - dense_46_loss: 2543.2263 - dense_47_loss: 86.9784 - dense_48_loss: 410.6124 - dense_49_loss: 2684.7444 - dense_50_loss: 74.8773 - dense_51_loss: 347.6696 - dense_40_mae: 37.8347 - dense_41_mae: 22.4784 - dense_42_mae: 14.0165 - dense_43_mae: 38.4372 - dense_44_mae: 21.3544 - dense_45_mae: 15.8951 - dense_46_mae: 31.6185 - dense_47_mae: 6.0889 - dense_48_mae: 13.9300 - dense_49_mae: 32.4580 - dense_50_mae: 5.4621 - dense_51_mae: 11.6886\n",
      "Epoch 46/200\n",
      "193115/193115 [==============================] - 22s 114us/sample - loss: 16517.1829 - dense_40_loss: 3661.9941 - dense_41_loss: 1044.1160 - dense_42_loss: 440.2921 - dense_43_loss: 3764.9956 - dense_44_loss: 947.3075 - dense_45_loss: 544.1475 - dense_46_loss: 2532.0591 - dense_47_loss: 84.7517 - dense_48_loss: 409.4482 - dense_49_loss: 2667.7544 - dense_50_loss: 73.4932 - dense_51_loss: 347.0819 - dense_40_mae: 37.7406 - dense_41_mae: 22.7127 - dense_42_mae: 14.1088 - dense_43_mae: 38.2125 - dense_44_mae: 21.5505 - dense_45_mae: 15.9413 - dense_46_mae: 31.4418 - dense_47_mae: 5.9981 - dense_48_mae: 13.9194 - dense_49_mae: 32.3728 - dense_50_mae: 5.3997 - dense_51_mae: 11.6665\n",
      "Epoch 47/200\n",
      "193115/193115 [==============================] - 22s 112us/sample - loss: 16459.5469 - dense_40_loss: 3651.6104 - dense_41_loss: 1034.1974 - dense_42_loss: 436.1472 - dense_43_loss: 3756.3025 - dense_44_loss: 942.5034 - dense_45_loss: 542.4352 - dense_46_loss: 2521.5732 - dense_47_loss: 85.8876 - dense_48_loss: 410.1597 - dense_49_loss: 2657.5007 - dense_50_loss: 74.2926 - dense_51_loss: 346.5976 - dense_40_mae: 37.7827 - dense_41_mae: 22.6481 - dense_42_mae: 14.0166 - dense_43_mae: 38.3728 - dense_44_mae: 21.5005 - dense_45_mae: 15.9588 - dense_46_mae: 31.4133 - dense_47_mae: 6.0586 - dense_48_mae: 13.9358 - dense_49_mae: 32.3528 - dense_50_mae: 5.4310 - dense_51_mae: 11.6826\n",
      "Epoch 48/200\n",
      "193115/193115 [==============================] - 22s 115us/sample - loss: 16411.1828 - dense_40_loss: 3648.8955 - dense_41_loss: 1022.4077 - dense_42_loss: 436.1768 - dense_43_loss: 3748.4351 - dense_44_loss: 929.4541 - dense_45_loss: 541.8672 - dense_46_loss: 2515.2996 - dense_47_loss: 84.8153 - dense_48_loss: 408.9490 - dense_49_loss: 2654.9680 - dense_50_loss: 73.2645 - dense_51_loss: 346.3309 - dense_40_mae: 37.7927 - dense_41_mae: 22.3994 - dense_42_mae: 14.0108 - dense_43_mae: 38.2077 - dense_44_mae: 21.1927 - dense_45_mae: 15.9065 - dense_46_mae: 31.3555 - dense_47_mae: 5.9947 - dense_48_mae: 13.9096 - dense_49_mae: 32.3302 - dense_50_mae: 5.3964 - dense_51_mae: 11.6702\n",
      "Epoch 49/200\n",
      "193115/193115 [==============================] - 23s 117us/sample - loss: 16408.0606 - dense_40_loss: 3651.0063 - dense_41_loss: 1021.6459 - dense_42_loss: 434.7281 - dense_43_loss: 3752.9353 - dense_44_loss: 934.7175 - dense_45_loss: 542.7132 - dense_46_loss: 2515.4048 - dense_47_loss: 84.0629 - dense_48_loss: 408.6576 - dense_49_loss: 2644.7988 - dense_50_loss: 73.1782 - dense_51_loss: 345.3547 - dense_40_mae: 37.7654 - dense_41_mae: 22.4421 - dense_42_mae: 13.9892 - dense_43_mae: 38.2546 - dense_44_mae: 21.3069 - dense_45_mae: 15.9038 - dense_46_mae: 31.3747 - dense_47_mae: 5.9419 - dense_48_mae: 13.9046 - dense_49_mae: 32.2781 - dense_50_mae: 5.3659 - dense_51_mae: 11.6345\n",
      "Epoch 50/200\n",
      "193115/193115 [==============================] - 21s 110us/sample - loss: 16377.3070 - dense_40_loss: 3630.7012 - dense_41_loss: 1032.4912 - dense_42_loss: 437.1651 - dense_43_loss: 3733.3528 - dense_44_loss: 943.5997 - dense_45_loss: 539.6613 - dense_46_loss: 2512.7446 - dense_47_loss: 82.5695 - dense_48_loss: 409.4579 - dense_49_loss: 2640.9539 - dense_50_loss: 71.7523 - dense_51_loss: 344.8820 - dense_40_mae: 37.6372 - dense_41_mae: 22.5923 - dense_42_mae: 14.0568 - dense_43_mae: 38.1781 - dense_44_mae: 21.5187 - dense_45_mae: 15.8962 - dense_46_mae: 31.3694 - dense_47_mae: 5.8716 - dense_48_mae: 13.9205 - dense_49_mae: 32.2780 - dense_50_mae: 5.3141 - dense_51_mae: 11.6745\n",
      "Epoch 51/200\n",
      "193115/193115 [==============================] - 22s 115us/sample - loss: 16303.2368 - dense_40_loss: 3630.4709 - dense_41_loss: 1016.9700 - dense_42_loss: 434.4935 - dense_43_loss: 3726.0383 - dense_44_loss: 928.2300 - dense_45_loss: 536.9193 - dense_46_loss: 2500.7385 - dense_47_loss: 84.1651 - dense_48_loss: 408.6359 - dense_49_loss: 2619.1567 - dense_50_loss: 72.9251 - dense_51_loss: 344.8647 - dense_40_mae: 37.6655 - dense_41_mae: 22.4055 - dense_42_mae: 13.9783 - dense_43_mae: 38.2265 - dense_44_mae: 21.2700 - dense_45_mae: 15.8274 - dense_46_mae: 31.2443 - dense_47_mae: 5.9749 - dense_48_mae: 13.8944 - dense_49_mae: 32.1311 - dense_50_mae: 5.3877 - dense_51_mae: 11.6367\n",
      "Epoch 52/200\n",
      "193115/193115 [==============================] - ETA: 0s - loss: 16232.7373 - dense_40_loss: 3603.4082 - dense_41_loss: 1023.7396 - dense_42_loss: 433.4284 - dense_43_loss: 3693.1467 - dense_44_loss: 933.9134 - dense_45_loss: 535.6011 - dense_46_loss: 2494.5481 - dense_47_loss: 82.6119 - dense_48_loss: 408.1309 - dense_49_loss: 2607.6409 - dense_50_loss: 72.3213 - dense_51_loss: 344.2475 - dense_40_mae: 37.4277 - dense_41_mae: 22.5080 - dense_42_mae: 13.9799 - dense_43_mae: 37.8997 - dense_44_mae: 21.3937 - dense_45_mae: 15.8314 - dense_46_mae: 31.2320 - dense_47_mae: 5.9064 - dense_48_mae: 13.8867 - dense_49_mae: 32.0107 - dense_50_mae: 5.3625 - dense_51_mae: 11.66 - 22s 114us/sample - loss: 16231.9951 - dense_40_loss: 3602.9961 - dense_41_loss: 1023.8372 - dense_42_loss: 433.3768 - dense_43_loss: 3692.7888 - dense_44_loss: 934.0902 - dense_45_loss: 535.4839 - dense_46_loss: 2494.4255 - dense_47_loss: 82.5884 - dense_48_loss: 408.1964 - dense_49_loss: 2607.6047 - dense_50_loss: 72.2983 - dense_51_loss: 344.2508 - dense_40_mae: 37.4287 - dense_41_mae: 22.5095 - dense_42_mae: 13.9795 - dense_43_mae: 37.9019 - dense_44_mae: 21.3940 - dense_45_mae: 15.8309 - dense_46_mae: 31.2278 - dense_47_mae: 5.9061 - dense_48_mae: 13.8870 - dense_49_mae: 32.0116 - dense_50_mae: 5.3620 - dense_51_mae: 11.6616\n",
      "Epoch 53/200\n",
      "193115/193115 [==============================] - 22s 112us/sample - loss: 16216.3624 - dense_40_loss: 3619.2163 - dense_41_loss: 1022.4024 - dense_42_loss: 431.9640 - dense_43_loss: 3676.0225 - dense_44_loss: 934.5211 - dense_45_loss: 536.3177 - dense_46_loss: 2486.6599 - dense_47_loss: 83.2522 - dense_48_loss: 408.9852 - dense_49_loss: 2602.2437 - dense_50_loss: 71.7013 - dense_51_loss: 343.2183 - dense_40_mae: 37.5564 - dense_41_mae: 22.4590 - dense_42_mae: 13.9488 - dense_43_mae: 37.7587 - dense_44_mae: 21.3547 - dense_45_mae: 15.8485 - dense_46_mae: 31.2010 - dense_47_mae: 5.9281 - dense_48_mae: 13.9221 - dense_49_mae: 31.9921 - dense_50_mae: 5.3372 - dense_51_mae: 11.6517\n",
      "Epoch 54/200\n",
      "193115/193115 [==============================] - 22s 116us/sample - loss: 16144.7395 - dense_40_loss: 3601.3398 - dense_41_loss: 1017.1666 - dense_42_loss: 434.6306 - dense_43_loss: 3677.7134 - dense_44_loss: 929.3476 - dense_45_loss: 534.2198 - dense_46_loss: 2455.0459 - dense_47_loss: 82.3856 - dense_48_loss: 407.3701 - dense_49_loss: 2590.2749 - dense_50_loss: 72.2200 - dense_51_loss: 342.1457 - dense_40_mae: 37.4622 - dense_41_mae: 22.4545 - dense_42_mae: 14.0026 - dense_43_mae: 37.8918 - dense_44_mae: 21.3417 - dense_45_mae: 15.8261 - dense_46_mae: 31.0045 - dense_47_mae: 5.9068 - dense_48_mae: 13.8860 - dense_49_mae: 32.0008 - dense_50_mae: 5.3605 - dense_51_mae: 11.6228\n",
      "Epoch 55/200\n"
     ]
    },
    {
     "name": "stdout",
     "output_type": "stream",
     "text": [
      "193115/193115 [==============================] - 22s 115us/sample - loss: 16134.3652 - dense_40_loss: 3594.9385 - dense_41_loss: 1007.0867 - dense_42_loss: 433.0674 - dense_43_loss: 3670.0828 - dense_44_loss: 917.8022 - dense_45_loss: 533.2330 - dense_46_loss: 2474.8760 - dense_47_loss: 82.6495 - dense_48_loss: 408.3234 - dense_49_loss: 2595.7776 - dense_50_loss: 72.7216 - dense_51_loss: 343.1682 - dense_40_mae: 37.5059 - dense_41_mae: 22.2399 - dense_42_mae: 13.9530 - dense_43_mae: 37.8581 - dense_44_mae: 21.0956 - dense_45_mae: 15.7822 - dense_46_mae: 31.2144 - dense_47_mae: 5.9337 - dense_48_mae: 13.9077 - dense_49_mae: 31.9708 - dense_50_mae: 5.3788 - dense_51_mae: 11.6374\n",
      "Epoch 56/200\n",
      "193115/193115 [==============================] - 22s 115us/sample - loss: 16056.4754 - dense_40_loss: 3578.8755 - dense_41_loss: 999.5586 - dense_42_loss: 429.4724 - dense_43_loss: 3661.3398 - dense_44_loss: 909.8510 - dense_45_loss: 529.9297 - dense_46_loss: 2457.8445 - dense_47_loss: 80.8792 - dense_48_loss: 407.7826 - dense_49_loss: 2588.9810 - dense_50_loss: 70.4458 - dense_51_loss: 341.9937 - dense_40_mae: 37.3250 - dense_41_mae: 22.1978 - dense_42_mae: 13.8824 - dense_43_mae: 37.8291 - dense_44_mae: 21.0389 - dense_45_mae: 15.7556 - dense_46_mae: 31.0423 - dense_47_mae: 5.7966 - dense_48_mae: 13.9008 - dense_49_mae: 32.0610 - dense_50_mae: 5.2885 - dense_51_mae: 11.6278\n",
      "Epoch 57/200\n",
      "193115/193115 [==============================] - 22s 114us/sample - loss: 16025.0112 - dense_40_loss: 3573.7253 - dense_41_loss: 1000.5912 - dense_42_loss: 429.9639 - dense_43_loss: 3658.3276 - dense_44_loss: 911.9668 - dense_45_loss: 532.0690 - dense_46_loss: 2451.8884 - dense_47_loss: 81.4765 - dense_48_loss: 406.7701 - dense_49_loss: 2565.9312 - dense_50_loss: 71.7215 - dense_51_loss: 339.9751 - dense_40_mae: 37.3290 - dense_41_mae: 22.2040 - dense_42_mae: 13.8907 - dense_43_mae: 37.8838 - dense_44_mae: 21.0875 - dense_45_mae: 15.7918 - dense_46_mae: 30.9862 - dense_47_mae: 5.8687 - dense_48_mae: 13.8813 - dense_49_mae: 31.8290 - dense_50_mae: 5.3382 - dense_51_mae: 11.5887\n",
      "Epoch 58/200\n",
      "193115/193115 [==============================] - 22s 112us/sample - loss: 15944.1604 - dense_40_loss: 3562.5063 - dense_41_loss: 993.5835 - dense_42_loss: 427.8262 - dense_43_loss: 3631.3442 - dense_44_loss: 901.6101 - dense_45_loss: 526.2868 - dense_46_loss: 2438.3276 - dense_47_loss: 81.0874 - dense_48_loss: 406.6526 - dense_49_loss: 2564.1033 - dense_50_loss: 70.6122 - dense_51_loss: 340.9516 - dense_40_mae: 37.1808 - dense_41_mae: 22.1085 - dense_42_mae: 13.8671 - dense_43_mae: 37.5903 - dense_44_mae: 20.9172 - dense_45_mae: 15.6442 - dense_46_mae: 30.8643 - dense_47_mae: 5.8471 - dense_48_mae: 13.8791 - dense_49_mae: 31.7832 - dense_50_mae: 5.2993 - dense_51_mae: 11.6027\n",
      "Epoch 59/200\n",
      "193115/193115 [==============================] - 22s 114us/sample - loss: 15947.8486 - dense_40_loss: 3558.1382 - dense_41_loss: 987.8679 - dense_42_loss: 426.5681 - dense_43_loss: 3630.2715 - dense_44_loss: 899.7001 - dense_45_loss: 530.3486 - dense_46_loss: 2450.8259 - dense_47_loss: 81.0669 - dense_48_loss: 408.7945 - dense_49_loss: 2561.6812 - dense_50_loss: 70.3490 - dense_51_loss: 341.8512 - dense_40_mae: 37.1657 - dense_41_mae: 22.0795 - dense_42_mae: 13.8307 - dense_43_mae: 37.5552 - dense_44_mae: 20.8979 - dense_45_mae: 15.7591 - dense_46_mae: 30.9627 - dense_47_mae: 5.8311 - dense_48_mae: 13.9326 - dense_49_mae: 31.7624 - dense_50_mae: 5.2972 - dense_51_mae: 11.6363\n",
      "Epoch 60/200\n",
      "193115/193115 [==============================] - 22s 114us/sample - loss: 15935.8755 - dense_40_loss: 3554.5688 - dense_41_loss: 997.5192 - dense_42_loss: 428.9617 - dense_43_loss: 3635.2246 - dense_44_loss: 905.3583 - dense_45_loss: 524.9174 - dense_46_loss: 2444.1531 - dense_47_loss: 80.7169 - dense_48_loss: 406.5592 - dense_49_loss: 2544.3586 - dense_50_loss: 71.6574 - dense_51_loss: 340.9519 - dense_40_mae: 37.2913 - dense_41_mae: 22.1984 - dense_42_mae: 13.8880 - dense_43_mae: 37.6594 - dense_44_mae: 21.0182 - dense_45_mae: 15.6967 - dense_46_mae: 31.0308 - dense_47_mae: 5.8421 - dense_48_mae: 13.8746 - dense_49_mae: 31.7355 - dense_50_mae: 5.3466 - dense_51_mae: 11.6234\n",
      "Epoch 61/200\n",
      "193115/193115 [==============================] - 22s 113us/sample - loss: 15856.4151 - dense_40_loss: 3538.8330 - dense_41_loss: 991.5155 - dense_42_loss: 426.5864 - dense_43_loss: 3606.2346 - dense_44_loss: 901.3021 - dense_45_loss: 527.9609 - dense_46_loss: 2426.3726 - dense_47_loss: 81.0611 - dense_48_loss: 406.6606 - dense_49_loss: 2538.4187 - dense_50_loss: 71.4232 - dense_51_loss: 340.3289 - dense_40_mae: 37.0828 - dense_41_mae: 22.1289 - dense_42_mae: 13.8464 - dense_43_mae: 37.4085 - dense_44_mae: 20.9356 - dense_45_mae: 15.7413 - dense_46_mae: 30.7985 - dense_47_mae: 5.8295 - dense_48_mae: 13.8930 - dense_49_mae: 31.7359 - dense_50_mae: 5.3024 - dense_51_mae: 11.6132\n",
      "Epoch 62/200\n",
      "193115/193115 [==============================] - 22s 113us/sample - loss: 15853.1619 - dense_40_loss: 3533.1084 - dense_41_loss: 994.5591 - dense_42_loss: 427.0178 - dense_43_loss: 3604.3108 - dense_44_loss: 908.3723 - dense_45_loss: 525.6412 - dense_46_loss: 2428.2659 - dense_47_loss: 80.5775 - dense_48_loss: 406.4710 - dense_49_loss: 2534.4175 - dense_50_loss: 70.6782 - dense_51_loss: 339.2448 - dense_40_mae: 37.0832 - dense_41_mae: 22.1680 - dense_42_mae: 13.8730 - dense_43_mae: 37.5086 - dense_44_mae: 21.0584 - dense_45_mae: 15.6943 - dense_46_mae: 30.8020 - dense_47_mae: 5.8101 - dense_48_mae: 13.8877 - dense_49_mae: 31.7325 - dense_50_mae: 5.3025 - dense_51_mae: 11.5891\n",
      "Epoch 63/200\n",
      "193115/193115 [==============================] - 22s 115us/sample - loss: 15822.0866 - dense_40_loss: 3530.3667 - dense_41_loss: 990.8426 - dense_42_loss: 428.5413 - dense_43_loss: 3601.8877 - dense_44_loss: 902.0685 - dense_45_loss: 523.4636 - dense_46_loss: 2423.4961 - dense_47_loss: 79.9960 - dense_48_loss: 406.5504 - dense_49_loss: 2524.1978 - dense_50_loss: 69.8645 - dense_51_loss: 340.0550 - dense_40_mae: 37.1288 - dense_41_mae: 22.1182 - dense_42_mae: 13.8656 - dense_43_mae: 37.4930 - dense_44_mae: 20.9523 - dense_45_mae: 15.6569 - dense_46_mae: 30.9260 - dense_47_mae: 5.7640 - dense_48_mae: 13.9029 - dense_49_mae: 31.6728 - dense_50_mae: 5.2467 - dense_51_mae: 11.6095\n",
      "Epoch 64/200\n",
      "193115/193115 [==============================] - 22s 111us/sample - loss: 15732.9637 - dense_40_loss: 3517.3284 - dense_41_loss: 976.8248 - dense_42_loss: 424.0125 - dense_43_loss: 3587.1621 - dense_44_loss: 888.2076 - dense_45_loss: 520.0300 - dense_46_loss: 2398.4622 - dense_47_loss: 79.9453 - dense_48_loss: 405.9559 - dense_49_loss: 2525.8962 - dense_50_loss: 70.0707 - dense_51_loss: 339.4391 - dense_40_mae: 36.9703 - dense_41_mae: 21.9261 - dense_42_mae: 13.7836 - dense_43_mae: 37.4031 - dense_44_mae: 20.7586 - dense_45_mae: 15.5844 - dense_46_mae: 30.6621 - dense_47_mae: 5.7888 - dense_48_mae: 13.8881 - dense_49_mae: 31.6266 - dense_50_mae: 5.2646 - dense_51_mae: 11.6153\n",
      "Epoch 65/200\n",
      "193115/193115 [==============================] - 22s 113us/sample - loss: 15768.2214 - dense_40_loss: 3531.5359 - dense_41_loss: 984.9680 - dense_42_loss: 424.5226 - dense_43_loss: 3587.6626 - dense_44_loss: 899.9404 - dense_45_loss: 525.0712 - dense_46_loss: 2398.4243 - dense_47_loss: 79.9291 - dense_48_loss: 406.2129 - dense_49_loss: 2521.2832 - dense_50_loss: 70.2116 - dense_51_loss: 338.6107 - dense_40_mae: 37.0364 - dense_41_mae: 22.0504 - dense_42_mae: 13.8054 - dense_43_mae: 37.4636 - dense_44_mae: 20.9364 - dense_45_mae: 15.6853 - dense_46_mae: 30.6735 - dense_47_mae: 5.7894 - dense_48_mae: 13.8916 - dense_49_mae: 31.5805 - dense_50_mae: 5.2850 - dense_51_mae: 11.5763\n",
      "Epoch 66/200\n"
     ]
    },
    {
     "name": "stdout",
     "output_type": "stream",
     "text": [
      "193115/193115 [==============================] - 22s 112us/sample - loss: 15599.8676 - dense_40_loss: 3487.8096 - dense_41_loss: 978.1409 - dense_42_loss: 425.2751 - dense_43_loss: 3537.8950 - dense_44_loss: 887.0028 - dense_45_loss: 521.6851 - dense_46_loss: 2374.8477 - dense_47_loss: 79.8851 - dense_48_loss: 405.3583 - dense_49_loss: 2491.1843 - dense_50_loss: 70.6779 - dense_51_loss: 340.0551 - dense_40_mae: 36.6873 - dense_41_mae: 21.9961 - dense_42_mae: 13.8383 - dense_43_mae: 36.9227 - dense_44_mae: 20.7853 - dense_45_mae: 15.6335 - dense_46_mae: 30.4005 - dense_47_mae: 5.7711 - dense_48_mae: 13.8787 - dense_49_mae: 31.3346 - dense_50_mae: 5.2607 - dense_51_mae: 11.6365\n",
      "Epoch 67/200\n",
      "193115/193115 [==============================] - 22s 113us/sample - loss: 15694.4861 - dense_40_loss: 3520.7671 - dense_41_loss: 983.5463 - dense_42_loss: 425.7906 - dense_43_loss: 3560.4966 - dense_44_loss: 890.9998 - dense_45_loss: 527.6457 - dense_46_loss: 2388.5952 - dense_47_loss: 79.3945 - dense_48_loss: 405.5003 - dense_49_loss: 2503.8333 - dense_50_loss: 69.7467 - dense_51_loss: 339.1649 - dense_40_mae: 36.9708 - dense_41_mae: 22.0489 - dense_42_mae: 13.8648 - dense_43_mae: 37.2223 - dense_44_mae: 20.8606 - dense_45_mae: 15.7397 - dense_46_mae: 30.6345 - dense_47_mae: 5.7627 - dense_48_mae: 13.8785 - dense_49_mae: 31.4924 - dense_50_mae: 5.2521 - dense_51_mae: 11.6162\n",
      "Epoch 68/200\n",
      "193115/193115 [==============================] - 23s 117us/sample - loss: 15607.1668 - dense_40_loss: 3489.9788 - dense_41_loss: 966.4323 - dense_42_loss: 422.4136 - dense_43_loss: 3543.8027 - dense_44_loss: 882.1378 - dense_45_loss: 520.1815 - dense_46_loss: 2391.7021 - dense_47_loss: 78.7642 - dense_48_loss: 406.3730 - dense_49_loss: 2496.0122 - dense_50_loss: 69.8900 - dense_51_loss: 338.5605 - dense_40_mae: 36.8314 - dense_41_mae: 21.8227 - dense_42_mae: 13.7267 - dense_43_mae: 37.1569 - dense_44_mae: 20.6767 - dense_45_mae: 15.6035 - dense_46_mae: 30.6462 - dense_47_mae: 5.7326 - dense_48_mae: 13.8983 - dense_49_mae: 31.3792 - dense_50_mae: 5.2430 - dense_51_mae: 11.6172\n",
      "Epoch 69/200\n",
      "193115/193115 [==============================] - 22s 113us/sample - loss: 15592.3030 - dense_40_loss: 3474.7251 - dense_41_loss: 973.1174 - dense_42_loss: 424.2431 - dense_43_loss: 3552.4277 - dense_44_loss: 884.1163 - dense_45_loss: 518.6701 - dense_46_loss: 2380.9016 - dense_47_loss: 79.8056 - dense_48_loss: 406.0160 - dense_49_loss: 2490.9592 - dense_50_loss: 69.6681 - dense_51_loss: 337.3273 - dense_40_mae: 36.7728 - dense_41_mae: 21.9543 - dense_42_mae: 13.8091 - dense_43_mae: 37.2424 - dense_44_mae: 20.8086 - dense_45_mae: 15.6029 - dense_46_mae: 30.5722 - dense_47_mae: 5.7879 - dense_48_mae: 13.9044 - dense_49_mae: 31.4743 - dense_50_mae: 5.2664 - dense_51_mae: 11.5939\n",
      "Epoch 70/200\n",
      "193115/193115 [==============================] - 22s 115us/sample - loss: 15588.2184 - dense_40_loss: 3499.8430 - dense_41_loss: 968.2418 - dense_42_loss: 423.6762 - dense_43_loss: 3545.7329 - dense_44_loss: 877.2048 - dense_45_loss: 515.9783 - dense_46_loss: 2381.5571 - dense_47_loss: 79.6933 - dense_48_loss: 407.1592 - dense_49_loss: 2482.7979 - dense_50_loss: 69.9565 - dense_51_loss: 336.4133 - dense_40_mae: 36.9768 - dense_41_mae: 21.8721 - dense_42_mae: 13.7958 - dense_43_mae: 37.1831 - dense_44_mae: 20.6585 - dense_45_mae: 15.5543 - dense_46_mae: 30.6372 - dense_47_mae: 5.7983 - dense_48_mae: 13.9202 - dense_49_mae: 31.4144 - dense_50_mae: 5.2967 - dense_51_mae: 11.5835\n",
      "Epoch 71/200\n",
      "193115/193115 [==============================] - 22s 114us/sample - loss: 15486.8697 - dense_40_loss: 3465.8723 - dense_41_loss: 967.6309 - dense_42_loss: 422.5068 - dense_43_loss: 3521.7754 - dense_44_loss: 880.9814 - dense_45_loss: 516.9728 - dense_46_loss: 2354.1768 - dense_47_loss: 77.8407 - dense_48_loss: 404.5625 - dense_49_loss: 2467.6692 - dense_50_loss: 68.7711 - dense_51_loss: 337.9910 - dense_40_mae: 36.6843 - dense_41_mae: 21.8609 - dense_42_mae: 13.7685 - dense_43_mae: 37.0778 - dense_44_mae: 20.7086 - dense_45_mae: 15.5943 - dense_46_mae: 30.4143 - dense_47_mae: 5.6959 - dense_48_mae: 13.8717 - dense_49_mae: 31.3579 - dense_50_mae: 5.2035 - dense_51_mae: 11.5941\n",
      "Epoch 72/200\n",
      "193115/193115 [==============================] - 22s 114us/sample - loss: 15617.6382 - dense_40_loss: 3491.4092 - dense_41_loss: 986.3108 - dense_42_loss: 428.8908 - dense_43_loss: 3551.4075 - dense_44_loss: 897.4733 - dense_45_loss: 521.9788 - dense_46_loss: 2363.9983 - dense_47_loss: 77.9756 - dense_48_loss: 405.7363 - dense_49_loss: 2485.6243 - dense_50_loss: 69.5180 - dense_51_loss: 336.5574 - dense_40_mae: 36.9506 - dense_41_mae: 22.1229 - dense_42_mae: 13.9351 - dense_43_mae: 37.2611 - dense_44_mae: 20.9654 - dense_45_mae: 15.6707 - dense_46_mae: 30.5253 - dense_47_mae: 5.6790 - dense_48_mae: 13.8895 - dense_49_mae: 31.4591 - dense_50_mae: 5.2110 - dense_51_mae: 11.5928\n",
      "Epoch 73/200\n",
      "193115/193115 [==============================] - 22s 114us/sample - loss: 15455.9673 - dense_40_loss: 3457.8044 - dense_41_loss: 971.8082 - dense_42_loss: 423.2640 - dense_43_loss: 3499.2170 - dense_44_loss: 884.3694 - dense_45_loss: 518.4323 - dense_46_loss: 2349.6941 - dense_47_loss: 78.9961 - dense_48_loss: 406.2200 - dense_49_loss: 2459.1738 - dense_50_loss: 69.6505 - dense_51_loss: 337.8229 - dense_40_mae: 36.7059 - dense_41_mae: 21.9392 - dense_42_mae: 13.7788 - dense_43_mae: 36.8669 - dense_44_mae: 20.7763 - dense_45_mae: 15.6516 - dense_46_mae: 30.4366 - dense_47_mae: 5.7679 - dense_48_mae: 13.9221 - dense_49_mae: 31.2574 - dense_50_mae: 5.2674 - dense_51_mae: 11.6079\n",
      "Epoch 74/200\n",
      "193115/193115 [==============================] - 22s 112us/sample - loss: 15441.0097 - dense_40_loss: 3460.9639 - dense_41_loss: 950.4372 - dense_42_loss: 420.5817 - dense_43_loss: 3515.3652 - dense_44_loss: 863.5181 - dense_45_loss: 514.0655 - dense_46_loss: 2360.6216 - dense_47_loss: 77.3985 - dense_48_loss: 405.0283 - dense_49_loss: 2465.9492 - dense_50_loss: 68.6544 - dense_51_loss: 337.2497 - dense_40_mae: 36.6587 - dense_41_mae: 21.5944 - dense_42_mae: 13.6999 - dense_43_mae: 36.9803 - dense_44_mae: 20.4578 - dense_45_mae: 15.5076 - dense_46_mae: 30.4577 - dense_47_mae: 5.6661 - dense_48_mae: 13.8742 - dense_49_mae: 31.3067 - dense_50_mae: 5.2043 - dense_51_mae: 11.5922\n",
      "Epoch 75/200\n",
      "193115/193115 [==============================] - 21s 110us/sample - loss: 15403.5366 - dense_40_loss: 3442.0210 - dense_41_loss: 967.2780 - dense_42_loss: 423.7538 - dense_43_loss: 3486.1658 - dense_44_loss: 877.9251 - dense_45_loss: 515.4496 - dense_46_loss: 2346.4626 - dense_47_loss: 77.9776 - dense_48_loss: 405.7701 - dense_49_loss: 2453.3000 - dense_50_loss: 68.9205 - dense_51_loss: 337.6628 - dense_40_mae: 36.6723 - dense_41_mae: 21.9065 - dense_42_mae: 13.7926 - dense_43_mae: 36.8352 - dense_44_mae: 20.6795 - dense_45_mae: 15.5430 - dense_46_mae: 30.3699 - dense_47_mae: 5.7076 - dense_48_mae: 13.8976 - dense_49_mae: 31.2034 - dense_50_mae: 5.2195 - dense_51_mae: 11.5948\n",
      "Epoch 76/200\n",
      "193115/193115 [==============================] - 20s 103us/sample - loss: 15413.0332 - dense_40_loss: 3442.1455 - dense_41_loss: 965.8019 - dense_42_loss: 423.5733 - dense_43_loss: 3501.4470 - dense_44_loss: 876.5533 - dense_45_loss: 516.5692 - dense_46_loss: 2343.6804 - dense_47_loss: 78.0810 - dense_48_loss: 405.5959 - dense_49_loss: 2453.4460 - dense_50_loss: 69.0904 - dense_51_loss: 336.9301 - dense_40_mae: 36.6110 - dense_41_mae: 21.8539 - dense_42_mae: 13.7940 - dense_43_mae: 36.9736 - dense_44_mae: 20.6650 - dense_45_mae: 15.5966 - dense_46_mae: 30.3415 - dense_47_mae: 5.7048 - dense_48_mae: 13.9005 - dense_49_mae: 31.2608 - dense_50_mae: 5.2237 - dense_51_mae: 11.6016\n",
      "Epoch 77/200\n"
     ]
    },
    {
     "name": "stdout",
     "output_type": "stream",
     "text": [
      "193115/193115 [==============================] - 22s 113us/sample - loss: 15391.7164 - dense_40_loss: 3454.4824 - dense_41_loss: 964.9084 - dense_42_loss: 423.2558 - dense_43_loss: 3490.4094 - dense_44_loss: 876.2720 - dense_45_loss: 518.7584 - dense_46_loss: 2341.0461 - dense_47_loss: 77.7204 - dense_48_loss: 404.5767 - dense_49_loss: 2436.6868 - dense_50_loss: 68.3866 - dense_51_loss: 335.8321 - dense_40_mae: 36.7012 - dense_41_mae: 21.8567 - dense_42_mae: 13.7725 - dense_43_mae: 36.9487 - dense_44_mae: 20.6640 - dense_45_mae: 15.6016 - dense_46_mae: 30.3744 - dense_47_mae: 5.6799 - dense_48_mae: 13.8860 - dense_49_mae: 31.2412 - dense_50_mae: 5.2140 - dense_51_mae: 11.5702\n",
      "Epoch 78/200\n",
      "193115/193115 [==============================] - 22s 115us/sample - loss: 15416.5601 - dense_40_loss: 3453.7192 - dense_41_loss: 961.2827 - dense_42_loss: 423.2677 - dense_43_loss: 3490.7900 - dense_44_loss: 875.7855 - dense_45_loss: 514.5073 - dense_46_loss: 2340.8110 - dense_47_loss: 76.9583 - dense_48_loss: 404.8314 - dense_49_loss: 2469.5073 - dense_50_loss: 68.4463 - dense_51_loss: 336.3074 - dense_40_mae: 36.7326 - dense_41_mae: 21.8250 - dense_42_mae: 13.8100 - dense_43_mae: 37.0973 - dense_44_mae: 20.6847 - dense_45_mae: 15.5622 - dense_46_mae: 30.4412 - dense_47_mae: 5.6443 - dense_48_mae: 13.8881 - dense_49_mae: 31.4689 - dense_50_mae: 5.1620 - dense_51_mae: 11.6002\n",
      "Epoch 79/200\n",
      "193115/193115 [==============================] - 22s 113us/sample - loss: 15270.4603 - dense_40_loss: 3427.2302 - dense_41_loss: 943.5886 - dense_42_loss: 419.0114 - dense_43_loss: 3458.5369 - dense_44_loss: 859.6244 - dense_45_loss: 512.0197 - dense_46_loss: 2329.5024 - dense_47_loss: 77.1668 - dense_48_loss: 404.8101 - dense_49_loss: 2435.3096 - dense_50_loss: 68.0563 - dense_51_loss: 335.7129 - dense_40_mae: 36.5002 - dense_41_mae: 21.5613 - dense_42_mae: 13.6832 - dense_43_mae: 36.6079 - dense_44_mae: 20.4085 - dense_45_mae: 15.5069 - dense_46_mae: 30.2752 - dense_47_mae: 5.6585 - dense_48_mae: 13.8897 - dense_49_mae: 31.0601 - dense_50_mae: 5.1842 - dense_51_mae: 11.5645\n",
      "Epoch 80/200\n",
      "193115/193115 [==============================] - 22s 113us/sample - loss: 15301.3676 - dense_40_loss: 3427.7068 - dense_41_loss: 952.0410 - dense_42_loss: 419.2122 - dense_43_loss: 3469.1575 - dense_44_loss: 865.1645 - dense_45_loss: 510.3633 - dense_46_loss: 2337.4463 - dense_47_loss: 76.3917 - dense_48_loss: 404.2174 - dense_49_loss: 2435.2393 - dense_50_loss: 68.5160 - dense_51_loss: 335.7908 - dense_40_mae: 36.5090 - dense_41_mae: 21.7307 - dense_42_mae: 13.7159 - dense_43_mae: 36.8121 - dense_44_mae: 20.5431 - dense_45_mae: 15.5259 - dense_46_mae: 30.3427 - dense_47_mae: 5.6419 - dense_48_mae: 13.8730 - dense_49_mae: 31.0954 - dense_50_mae: 5.1853 - dense_51_mae: 11.5813\n",
      "Epoch 81/200\n",
      "193115/193115 [==============================] - 22s 114us/sample - loss: 15253.9713 - dense_40_loss: 3434.5999 - dense_41_loss: 944.8446 - dense_42_loss: 420.3956 - dense_43_loss: 3457.8284 - dense_44_loss: 861.7456 - dense_45_loss: 510.8093 - dense_46_loss: 2312.8621 - dense_47_loss: 76.7963 - dense_48_loss: 403.6203 - dense_49_loss: 2426.2056 - dense_50_loss: 68.0047 - dense_51_loss: 335.8827 - dense_40_mae: 36.6636 - dense_41_mae: 21.5579 - dense_42_mae: 13.7117 - dense_43_mae: 36.7322 - dense_44_mae: 20.4402 - dense_45_mae: 15.4920 - dense_46_mae: 30.2115 - dense_47_mae: 5.6527 - dense_48_mae: 13.8634 - dense_49_mae: 31.0535 - dense_50_mae: 5.1918 - dense_51_mae: 11.6040\n",
      "Epoch 82/200\n",
      "193115/193115 [==============================] - 22s 113us/sample - loss: 15253.6819 - dense_40_loss: 3426.5522 - dense_41_loss: 951.9234 - dense_42_loss: 420.8618 - dense_43_loss: 3455.6106 - dense_44_loss: 860.6552 - dense_45_loss: 511.4185 - dense_46_loss: 2317.0686 - dense_47_loss: 75.2246 - dense_48_loss: 403.4814 - dense_49_loss: 2428.2131 - dense_50_loss: 67.5365 - dense_51_loss: 335.4890 - dense_40_mae: 36.5900 - dense_41_mae: 21.6930 - dense_42_mae: 13.7361 - dense_43_mae: 36.8033 - dense_44_mae: 20.4528 - dense_45_mae: 15.5417 - dense_46_mae: 30.2094 - dense_47_mae: 5.5760 - dense_48_mae: 13.8712 - dense_49_mae: 31.1013 - dense_50_mae: 5.1288 - dense_51_mae: 11.5766\n",
      "Epoch 83/200\n",
      "193115/193115 [==============================] - 22s 115us/sample - loss: 15285.9892 - dense_40_loss: 3420.6133 - dense_41_loss: 955.5545 - dense_42_loss: 421.2838 - dense_43_loss: 3465.6868 - dense_44_loss: 871.2774 - dense_45_loss: 513.3704 - dense_46_loss: 2324.2727 - dense_47_loss: 76.4123 - dense_48_loss: 404.5955 - dense_49_loss: 2427.8352 - dense_50_loss: 69.5362 - dense_51_loss: 335.0638 - dense_40_mae: 36.4699 - dense_41_mae: 21.7412 - dense_42_mae: 13.7506 - dense_43_mae: 36.7028 - dense_44_mae: 20.6154 - dense_45_mae: 15.5284 - dense_46_mae: 30.2738 - dense_47_mae: 5.5863 - dense_48_mae: 13.8962 - dense_49_mae: 31.1002 - dense_50_mae: 5.1477 - dense_51_mae: 11.5693\n",
      "Epoch 84/200\n",
      "193115/193115 [==============================] - 22s 112us/sample - loss: 15200.9146 - dense_40_loss: 3420.4895 - dense_41_loss: 948.7634 - dense_42_loss: 420.0755 - dense_43_loss: 3440.1643 - dense_44_loss: 860.7021 - dense_45_loss: 509.5406 - dense_46_loss: 2311.0679 - dense_47_loss: 76.9799 - dense_48_loss: 404.0377 - dense_49_loss: 2407.0935 - dense_50_loss: 68.3039 - dense_51_loss: 334.5140 - dense_40_mae: 36.4214 - dense_41_mae: 21.6711 - dense_42_mae: 13.7305 - dense_43_mae: 36.6043 - dense_44_mae: 20.4502 - dense_45_mae: 15.4865 - dense_46_mae: 30.2098 - dense_47_mae: 5.6643 - dense_48_mae: 13.8731 - dense_49_mae: 30.9911 - dense_50_mae: 5.1940 - dense_51_mae: 11.5740\n",
      "Epoch 85/200\n",
      "193115/193115 [==============================] - 22s 112us/sample - loss: 15139.5646 - dense_40_loss: 3389.3560 - dense_41_loss: 947.9089 - dense_42_loss: 419.9213 - dense_43_loss: 3439.0862 - dense_44_loss: 860.2717 - dense_45_loss: 507.3453 - dense_46_loss: 2301.6658 - dense_47_loss: 74.8123 - dense_48_loss: 403.6425 - dense_49_loss: 2396.1523 - dense_50_loss: 67.0401 - dense_51_loss: 333.6052 - dense_40_mae: 36.2671 - dense_41_mae: 21.6842 - dense_42_mae: 13.7144 - dense_43_mae: 36.6197 - dense_44_mae: 20.4820 - dense_45_mae: 15.4588 - dense_46_mae: 30.1235 - dense_47_mae: 5.5518 - dense_48_mae: 13.8729 - dense_49_mae: 30.8630 - dense_50_mae: 5.1480 - dense_51_mae: 11.5738\n",
      "Epoch 86/200\n",
      "193115/193115 [==============================] - 22s 113us/sample - loss: 15073.9153 - dense_40_loss: 3383.4639 - dense_41_loss: 944.0154 - dense_42_loss: 418.1278 - dense_43_loss: 3402.9863 - dense_44_loss: 858.0413 - dense_45_loss: 506.5963 - dense_46_loss: 2289.9819 - dense_47_loss: 74.8999 - dense_48_loss: 403.3429 - dense_49_loss: 2390.4951 - dense_50_loss: 67.0907 - dense_51_loss: 334.6427 - dense_40_mae: 36.1950 - dense_41_mae: 21.5950 - dense_42_mae: 13.6744 - dense_43_mae: 36.4761 - dense_44_mae: 20.4505 - dense_45_mae: 15.4197 - dense_46_mae: 30.0001 - dense_47_mae: 5.5468 - dense_48_mae: 13.8794 - dense_49_mae: 30.8063 - dense_50_mae: 5.1241 - dense_51_mae: 11.5719\n",
      "Epoch 87/200\n",
      "193115/193115 [==============================] - 22s 116us/sample - loss: 15122.4946 - dense_40_loss: 3387.0027 - dense_41_loss: 941.8502 - dense_42_loss: 419.4752 - dense_43_loss: 3427.4534 - dense_44_loss: 855.5417 - dense_45_loss: 505.8739 - dense_46_loss: 2297.4526 - dense_47_loss: 75.7826 - dense_48_loss: 403.5191 - dense_49_loss: 2405.9163 - dense_50_loss: 67.4016 - dense_51_loss: 335.0631 - dense_40_mae: 36.3452 - dense_41_mae: 21.5553 - dense_42_mae: 13.7103 - dense_43_mae: 36.5744 - dense_44_mae: 20.3716 - dense_45_mae: 15.4400 - dense_46_mae: 30.1123 - dense_47_mae: 5.6041 - dense_48_mae: 13.8766 - dense_49_mae: 31.0377 - dense_50_mae: 5.1438 - dense_51_mae: 11.5759\n",
      "Epoch 88/200\n"
     ]
    },
    {
     "name": "stdout",
     "output_type": "stream",
     "text": [
      "193115/193115 [==============================] - 22s 114us/sample - loss: 15082.7644 - dense_40_loss: 3375.6467 - dense_41_loss: 942.5400 - dense_42_loss: 417.6418 - dense_43_loss: 3423.4443 - dense_44_loss: 856.9833 - dense_45_loss: 503.7167 - dense_46_loss: 2295.3547 - dense_47_loss: 74.8188 - dense_48_loss: 404.7262 - dense_49_loss: 2388.7053 - dense_50_loss: 66.6829 - dense_51_loss: 333.8559 - dense_40_mae: 36.2361 - dense_41_mae: 21.6298 - dense_42_mae: 13.7016 - dense_43_mae: 36.5268 - dense_44_mae: 20.4643 - dense_45_mae: 15.4184 - dense_46_mae: 30.0406 - dense_47_mae: 5.5733 - dense_48_mae: 13.9112 - dense_49_mae: 30.8738 - dense_50_mae: 5.1186 - dense_51_mae: 11.5742\n",
      "Epoch 89/200\n",
      "193115/193115 [==============================] - 23s 117us/sample - loss: 15072.8101 - dense_40_loss: 3383.5024 - dense_41_loss: 939.8865 - dense_42_loss: 417.8056 - dense_43_loss: 3408.9751 - dense_44_loss: 850.6353 - dense_45_loss: 508.1660 - dense_46_loss: 2293.0029 - dense_47_loss: 74.9160 - dense_48_loss: 403.8250 - dense_49_loss: 2390.3533 - dense_50_loss: 67.2481 - dense_51_loss: 334.4881 - dense_40_mae: 36.2601 - dense_41_mae: 21.5598 - dense_42_mae: 13.6928 - dense_43_mae: 36.3795 - dense_44_mae: 20.3456 - dense_45_mae: 15.4678 - dense_46_mae: 30.0210 - dense_47_mae: 5.5770 - dense_48_mae: 13.8796 - dense_49_mae: 30.8223 - dense_50_mae: 5.1511 - dense_51_mae: 11.5754\n",
      "Epoch 90/200\n",
      "193115/193115 [==============================] - 22s 115us/sample - loss: 15061.5541 - dense_40_loss: 3393.7437 - dense_41_loss: 933.0756 - dense_42_loss: 416.7378 - dense_43_loss: 3414.4651 - dense_44_loss: 851.5296 - dense_45_loss: 504.1165 - dense_46_loss: 2286.0210 - dense_47_loss: 74.1997 - dense_48_loss: 402.9238 - dense_49_loss: 2384.3057 - dense_50_loss: 66.4525 - dense_51_loss: 333.4387 - dense_40_mae: 36.3616 - dense_41_mae: 21.4479 - dense_42_mae: 13.6492 - dense_43_mae: 36.4960 - dense_44_mae: 20.3045 - dense_45_mae: 15.3848 - dense_46_mae: 30.0549 - dense_47_mae: 5.5193 - dense_48_mae: 13.8564 - dense_49_mae: 30.8303 - dense_50_mae: 5.0951 - dense_51_mae: 11.5501\n",
      "Epoch 91/200\n",
      "193115/193115 [==============================] - 21s 111us/sample - loss: 15057.7202 - dense_40_loss: 3367.1370 - dense_41_loss: 940.8558 - dense_42_loss: 417.3887 - dense_43_loss: 3417.4602 - dense_44_loss: 856.4694 - dense_45_loss: 506.0155 - dense_46_loss: 2284.1992 - dense_47_loss: 74.0315 - dense_48_loss: 403.7906 - dense_49_loss: 2388.6428 - dense_50_loss: 66.9273 - dense_51_loss: 334.4860 - dense_40_mae: 36.2702 - dense_41_mae: 21.5663 - dense_42_mae: 13.6519 - dense_43_mae: 36.5687 - dense_44_mae: 20.3936 - dense_45_mae: 15.4415 - dense_46_mae: 30.0749 - dense_47_mae: 5.5317 - dense_48_mae: 13.8864 - dense_49_mae: 30.8744 - dense_50_mae: 5.1144 - dense_51_mae: 11.5855\n",
      "Epoch 92/200\n",
      "193115/193115 [==============================] - 22s 116us/sample - loss: 15018.0608 - dense_40_loss: 3366.4570 - dense_41_loss: 942.0584 - dense_42_loss: 417.4328 - dense_43_loss: 3389.3811 - dense_44_loss: 858.8959 - dense_45_loss: 503.1948 - dense_46_loss: 2281.3940 - dense_47_loss: 73.4019 - dense_48_loss: 404.2431 - dense_49_loss: 2382.1265 - dense_50_loss: 65.8615 - dense_51_loss: 333.3538 - dense_40_mae: 36.1247 - dense_41_mae: 21.6204 - dense_42_mae: 13.6734 - dense_43_mae: 36.2681 - dense_44_mae: 20.4922 - dense_45_mae: 15.4307 - dense_46_mae: 29.9758 - dense_47_mae: 5.4794 - dense_48_mae: 13.8983 - dense_49_mae: 30.8505 - dense_50_mae: 5.0635 - dense_51_mae: 11.5723\n",
      "Epoch 93/200\n",
      "193115/193115 [==============================] - 22s 114us/sample - loss: 15024.5781 - dense_40_loss: 3380.9666 - dense_41_loss: 929.8713 - dense_42_loss: 418.0542 - dense_43_loss: 3406.0540 - dense_44_loss: 848.0947 - dense_45_loss: 503.3400 - dense_46_loss: 2286.7275 - dense_47_loss: 72.4747 - dense_48_loss: 402.5122 - dense_49_loss: 2376.8228 - dense_50_loss: 65.3663 - dense_51_loss: 334.1019 - dense_40_mae: 36.3007 - dense_41_mae: 21.4189 - dense_42_mae: 13.6784 - dense_43_mae: 36.4681 - dense_44_mae: 20.3112 - dense_45_mae: 15.4195 - dense_46_mae: 30.0738 - dense_47_mae: 5.4442 - dense_48_mae: 13.8608 - dense_49_mae: 30.8072 - dense_50_mae: 5.0340 - dense_51_mae: 11.5652\n",
      "Epoch 94/200\n",
      "193115/193115 [==============================] - 22s 115us/sample - loss: 14991.5828 - dense_40_loss: 3374.0396 - dense_41_loss: 935.1830 - dense_42_loss: 416.8939 - dense_43_loss: 3393.0349 - dense_44_loss: 846.2009 - dense_45_loss: 501.8277 - dense_46_loss: 2277.2378 - dense_47_loss: 73.9571 - dense_48_loss: 403.3044 - dense_49_loss: 2369.4666 - dense_50_loss: 66.5461 - dense_51_loss: 334.0218 - dense_40_mae: 36.2491 - dense_41_mae: 21.5150 - dense_42_mae: 13.6834 - dense_43_mae: 36.3786 - dense_44_mae: 20.2760 - dense_45_mae: 15.3660 - dense_46_mae: 29.9786 - dense_47_mae: 5.5363 - dense_48_mae: 13.8794 - dense_49_mae: 30.6849 - dense_50_mae: 5.1201 - dense_51_mae: 11.5727\n",
      "Epoch 95/200\n",
      "193115/193115 [==============================] - 22s 112us/sample - loss: 14966.3797 - dense_40_loss: 3362.0352 - dense_41_loss: 937.3179 - dense_42_loss: 417.0341 - dense_43_loss: 3379.3384 - dense_44_loss: 850.4915 - dense_45_loss: 505.1370 - dense_46_loss: 2273.6853 - dense_47_loss: 72.7712 - dense_48_loss: 403.7000 - dense_49_loss: 2367.4614 - dense_50_loss: 66.0303 - dense_51_loss: 332.6275 - dense_40_mae: 36.2457 - dense_41_mae: 21.5527 - dense_42_mae: 13.6669 - dense_43_mae: 36.2551 - dense_44_mae: 20.3778 - dense_45_mae: 15.4537 - dense_46_mae: 29.9959 - dense_47_mae: 5.4477 - dense_48_mae: 13.8858 - dense_49_mae: 30.7796 - dense_50_mae: 5.0658 - dense_51_mae: 11.5345\n",
      "Epoch 96/200\n",
      "193115/193115 [==============================] - 22s 115us/sample - loss: 14912.7915 - dense_40_loss: 3342.9138 - dense_41_loss: 925.2509 - dense_42_loss: 417.2221 - dense_43_loss: 3379.2903 - dense_44_loss: 842.5485 - dense_45_loss: 501.2604 - dense_46_loss: 2266.5049 - dense_47_loss: 73.5150 - dense_48_loss: 403.1427 - dense_49_loss: 2362.0654 - dense_50_loss: 66.0432 - dense_51_loss: 333.1800 - dense_40_mae: 35.9833 - dense_41_mae: 21.3397 - dense_42_mae: 13.6658 - dense_43_mae: 36.3568 - dense_44_mae: 20.1868 - dense_45_mae: 15.3595 - dense_46_mae: 29.8884 - dense_47_mae: 5.4953 - dense_48_mae: 13.8696 - dense_49_mae: 30.7522 - dense_50_mae: 5.0896 - dense_51_mae: 11.5588\n",
      "Epoch 97/200\n",
      "193115/193115 [==============================] - 22s 113us/sample - loss: 14865.9928 - dense_40_loss: 3330.8894 - dense_41_loss: 928.4470 - dense_42_loss: 416.3323 - dense_43_loss: 3351.0605 - dense_44_loss: 843.6241 - dense_45_loss: 501.9988 - dense_46_loss: 2264.1611 - dense_47_loss: 73.9706 - dense_48_loss: 402.4285 - dense_49_loss: 2354.8379 - dense_50_loss: 65.7021 - dense_51_loss: 333.8253 - dense_40_mae: 36.0151 - dense_41_mae: 21.4239 - dense_42_mae: 13.6404 - dense_43_mae: 36.1017 - dense_44_mae: 20.2492 - dense_45_mae: 15.3911 - dense_46_mae: 29.8319 - dense_47_mae: 5.5035 - dense_48_mae: 13.8590 - dense_49_mae: 30.6619 - dense_50_mae: 5.0840 - dense_51_mae: 11.5695\n",
      "Epoch 98/200\n",
      "193115/193115 [==============================] - 22s 115us/sample - loss: 14871.4852 - dense_40_loss: 3339.9509 - dense_41_loss: 927.7203 - dense_42_loss: 417.3598 - dense_43_loss: 3370.7366 - dense_44_loss: 844.5990 - dense_45_loss: 499.9362 - dense_46_loss: 2250.4626 - dense_47_loss: 72.1909 - dense_48_loss: 401.8729 - dense_49_loss: 2348.6345 - dense_50_loss: 65.7678 - dense_51_loss: 332.0753 - dense_40_mae: 36.0829 - dense_41_mae: 21.4523 - dense_42_mae: 13.6914 - dense_43_mae: 36.1816 - dense_44_mae: 20.3142 - dense_45_mae: 15.3490 - dense_46_mae: 29.7760 - dense_47_mae: 5.4401 - dense_48_mae: 13.8445 - dense_49_mae: 30.6183 - dense_50_mae: 5.0516 - dense_51_mae: 11.5411\n",
      "Epoch 99/200\n"
     ]
    },
    {
     "name": "stdout",
     "output_type": "stream",
     "text": [
      "193115/193115 [==============================] - 22s 116us/sample - loss: 14851.6043 - dense_40_loss: 3346.7710 - dense_41_loss: 926.5552 - dense_42_loss: 415.5482 - dense_43_loss: 3345.2625 - dense_44_loss: 839.8762 - dense_45_loss: 501.1073 - dense_46_loss: 2258.4031 - dense_47_loss: 73.0585 - dense_48_loss: 402.9955 - dense_49_loss: 2345.5356 - dense_50_loss: 65.2955 - dense_51_loss: 331.5608 - dense_40_mae: 36.0746 - dense_41_mae: 21.4011 - dense_42_mae: 13.6247 - dense_43_mae: 36.1497 - dense_44_mae: 20.1804 - dense_45_mae: 15.3694 - dense_46_mae: 29.8799 - dense_47_mae: 5.4548 - dense_48_mae: 13.8705 - dense_49_mae: 30.5822 - dense_50_mae: 5.0682 - dense_51_mae: 11.5300\n",
      "Epoch 100/200\n",
      "193115/193115 [==============================] - 22s 114us/sample - loss: 14808.5636 - dense_40_loss: 3328.2590 - dense_41_loss: 917.6788 - dense_42_loss: 415.5359 - dense_43_loss: 3348.9678 - dense_44_loss: 835.1713 - dense_45_loss: 495.4333 - dense_46_loss: 2244.0054 - dense_47_loss: 72.3588 - dense_48_loss: 401.6448 - dense_49_loss: 2349.6145 - dense_50_loss: 65.4962 - dense_51_loss: 333.3141 - dense_40_mae: 36.0116 - dense_41_mae: 21.2581 - dense_42_mae: 13.6382 - dense_43_mae: 36.1474 - dense_44_mae: 20.0903 - dense_45_mae: 15.2667 - dense_46_mae: 29.7859 - dense_47_mae: 5.4271 - dense_48_mae: 13.8606 - dense_49_mae: 30.6693 - dense_50_mae: 5.0279 - dense_51_mae: 11.5917\n",
      "Epoch 101/200\n",
      "193115/193115 [==============================] - 22s 114us/sample - loss: 14805.6508 - dense_40_loss: 3320.3562 - dense_41_loss: 921.8416 - dense_42_loss: 415.7185 - dense_43_loss: 3349.1848 - dense_44_loss: 841.1804 - dense_45_loss: 496.2914 - dense_46_loss: 2238.5752 - dense_47_loss: 72.5602 - dense_48_loss: 402.2790 - dense_49_loss: 2348.9888 - dense_50_loss: 65.4406 - dense_51_loss: 333.9209 - dense_40_mae: 35.9017 - dense_41_mae: 21.3739 - dense_42_mae: 13.6457 - dense_43_mae: 36.1280 - dense_44_mae: 20.2500 - dense_45_mae: 15.3246 - dense_46_mae: 29.7659 - dense_47_mae: 5.4444 - dense_48_mae: 13.8731 - dense_49_mae: 30.6634 - dense_50_mae: 5.0659 - dense_51_mae: 11.5768\n",
      "Epoch 102/200\n",
      "193115/193115 [==============================] - 22s 115us/sample - loss: 14791.3864 - dense_40_loss: 3321.6560 - dense_41_loss: 925.3575 - dense_42_loss: 416.0771 - dense_43_loss: 3340.5859 - dense_44_loss: 839.2946 - dense_45_loss: 498.1410 - dense_46_loss: 2242.4258 - dense_47_loss: 71.9748 - dense_48_loss: 401.9470 - dense_49_loss: 2335.3992 - dense_50_loss: 65.0610 - dense_51_loss: 333.2360 - dense_40_mae: 35.9227 - dense_41_mae: 21.3965 - dense_42_mae: 13.6395 - dense_43_mae: 36.0956 - dense_44_mae: 20.2062 - dense_45_mae: 15.3173 - dense_46_mae: 29.7102 - dense_47_mae: 5.4279 - dense_48_mae: 13.8656 - dense_49_mae: 30.6229 - dense_50_mae: 5.0440 - dense_51_mae: 11.5543\n",
      "Epoch 103/200\n",
      "193115/193115 [==============================] - 22s 115us/sample - loss: 14775.3809 - dense_40_loss: 3315.5815 - dense_41_loss: 925.7727 - dense_42_loss: 415.2193 - dense_43_loss: 3338.4812 - dense_44_loss: 841.6716 - dense_45_loss: 498.5356 - dense_46_loss: 2232.8772 - dense_47_loss: 72.6053 - dense_48_loss: 400.7739 - dense_49_loss: 2336.7710 - dense_50_loss: 65.1532 - dense_51_loss: 332.2965 - dense_40_mae: 35.9104 - dense_41_mae: 21.4292 - dense_42_mae: 13.6505 - dense_43_mae: 36.0973 - dense_44_mae: 20.2961 - dense_45_mae: 15.3587 - dense_46_mae: 29.6448 - dense_47_mae: 5.4566 - dense_48_mae: 13.8328 - dense_49_mae: 30.5884 - dense_50_mae: 5.0377 - dense_51_mae: 11.5404\n",
      "Epoch 104/200\n",
      "193115/193115 [==============================] - 22s 115us/sample - loss: 14810.7455 - dense_40_loss: 3346.0750 - dense_41_loss: 922.0692 - dense_42_loss: 414.8825 - dense_43_loss: 3347.1606 - dense_44_loss: 838.1802 - dense_45_loss: 499.4912 - dense_46_loss: 2240.9866 - dense_47_loss: 71.6417 - dense_48_loss: 402.3842 - dense_49_loss: 2331.0271 - dense_50_loss: 64.6273 - dense_51_loss: 333.0993 - dense_40_mae: 36.1741 - dense_41_mae: 21.3635 - dense_42_mae: 13.6270 - dense_43_mae: 36.1790 - dense_44_mae: 20.1885 - dense_45_mae: 15.3516 - dense_46_mae: 29.8469 - dense_47_mae: 5.4121 - dense_48_mae: 13.8698 - dense_49_mae: 30.5306 - dense_50_mae: 5.0098 - dense_51_mae: 11.5504\n",
      "Epoch 105/200\n",
      "193115/193115 [==============================] - 22s 115us/sample - loss: 14748.5964 - dense_40_loss: 3316.3357 - dense_41_loss: 913.9092 - dense_42_loss: 413.3343 - dense_43_loss: 3324.3860 - dense_44_loss: 833.1960 - dense_45_loss: 495.8459 - dense_46_loss: 2251.8191 - dense_47_loss: 71.0943 - dense_48_loss: 402.5534 - dense_49_loss: 2327.1311 - dense_50_loss: 64.3408 - dense_51_loss: 334.2704 - dense_40_mae: 35.9874 - dense_41_mae: 21.2242 - dense_42_mae: 13.5940 - dense_43_mae: 36.0905 - dense_44_mae: 20.0927 - dense_45_mae: 15.2746 - dense_46_mae: 29.9139 - dense_47_mae: 5.3815 - dense_48_mae: 13.8745 - dense_49_mae: 30.5543 - dense_50_mae: 5.0082 - dense_51_mae: 11.5944\n",
      "Epoch 106/200\n",
      "193115/193115 [==============================] - 22s 116us/sample - loss: 14749.3017 - dense_40_loss: 3322.4185 - dense_41_loss: 915.9816 - dense_42_loss: 413.8185 - dense_43_loss: 3339.8870 - dense_44_loss: 830.7022 - dense_45_loss: 496.2679 - dense_46_loss: 2231.3684 - dense_47_loss: 73.2104 - dense_48_loss: 401.5436 - dense_49_loss: 2325.5508 - dense_50_loss: 65.7832 - dense_51_loss: 332.5541 - dense_40_mae: 35.9496 - dense_41_mae: 21.2778 - dense_42_mae: 13.6116 - dense_43_mae: 36.0768 - dense_44_mae: 20.0788 - dense_45_mae: 15.3039 - dense_46_mae: 29.6242 - dense_47_mae: 5.4651 - dense_48_mae: 13.8466 - dense_49_mae: 30.4655 - dense_50_mae: 5.0654 - dense_51_mae: 11.5476\n",
      "Epoch 107/200\n",
      "193115/193115 [==============================] - 22s 114us/sample - loss: 14725.9227 - dense_40_loss: 3307.4233 - dense_41_loss: 920.5253 - dense_42_loss: 416.2197 - dense_43_loss: 3327.5540 - dense_44_loss: 838.1791 - dense_45_loss: 495.7638 - dense_46_loss: 2234.3845 - dense_47_loss: 71.2307 - dense_48_loss: 401.1354 - dense_49_loss: 2315.5637 - dense_50_loss: 64.3356 - dense_51_loss: 332.9675 - dense_40_mae: 35.9179 - dense_41_mae: 21.3871 - dense_42_mae: 13.6794 - dense_43_mae: 35.9373 - dense_44_mae: 20.2032 - dense_45_mae: 15.3003 - dense_46_mae: 29.7633 - dense_47_mae: 5.3717 - dense_48_mae: 13.8587 - dense_49_mae: 30.4533 - dense_50_mae: 5.0123 - dense_51_mae: 11.5537\n",
      "Epoch 108/200\n",
      "193115/193115 [==============================] - 22s 116us/sample - loss: 14739.4118 - dense_40_loss: 3308.9163 - dense_41_loss: 918.6767 - dense_42_loss: 414.5009 - dense_43_loss: 3328.2551 - dense_44_loss: 836.4492 - dense_45_loss: 497.8452 - dense_46_loss: 2234.8513 - dense_47_loss: 71.6280 - dense_48_loss: 402.3716 - dense_49_loss: 2327.6816 - dense_50_loss: 64.5196 - dense_51_loss: 333.2572 - dense_40_mae: 35.9019 - dense_41_mae: 21.3436 - dense_42_mae: 13.6594 - dense_43_mae: 35.9683 - dense_44_mae: 20.2103 - dense_45_mae: 15.3611 - dense_46_mae: 29.7014 - dense_47_mae: 5.3981 - dense_48_mae: 13.8833 - dense_49_mae: 30.5198 - dense_50_mae: 5.0159 - dense_51_mae: 11.5992\n",
      "Epoch 109/200\n",
      "193115/193115 [==============================] - 22s 116us/sample - loss: 14685.3044 - dense_40_loss: 3297.2949 - dense_41_loss: 923.4460 - dense_42_loss: 417.6356 - dense_43_loss: 3312.2410 - dense_44_loss: 841.2523 - dense_45_loss: 497.6573 - dense_46_loss: 2217.8550 - dense_47_loss: 70.4529 - dense_48_loss: 401.2080 - dense_49_loss: 2308.7273 - dense_50_loss: 63.7608 - dense_51_loss: 333.8648 - dense_40_mae: 35.7673 - dense_41_mae: 21.3939 - dense_42_mae: 13.6887 - dense_43_mae: 35.9112 - dense_44_mae: 20.2276 - dense_45_mae: 15.3228 - dense_46_mae: 29.5278 - dense_47_mae: 5.3242 - dense_48_mae: 13.8569 - dense_49_mae: 30.4183 - dense_50_mae: 4.9552 - dense_51_mae: 11.5575\n",
      "Epoch 110/200\n"
     ]
    },
    {
     "name": "stdout",
     "output_type": "stream",
     "text": [
      "193115/193115 [==============================] - 22s 111us/sample - loss: 14680.6941 - dense_40_loss: 3302.5715 - dense_41_loss: 906.8132 - dense_42_loss: 413.1631 - dense_43_loss: 3328.2170 - dense_44_loss: 823.3709 - dense_45_loss: 494.7296 - dense_46_loss: 2232.5051 - dense_47_loss: 71.1372 - dense_48_loss: 401.4093 - dense_49_loss: 2308.8047 - dense_50_loss: 64.9365 - dense_51_loss: 333.1127 - dense_40_mae: 35.8835 - dense_41_mae: 21.1370 - dense_42_mae: 13.5747 - dense_43_mae: 36.0284 - dense_44_mae: 19.9569 - dense_45_mae: 15.2848 - dense_46_mae: 29.8020 - dense_47_mae: 5.4017 - dense_48_mae: 13.8681 - dense_49_mae: 30.3519 - dense_50_mae: 5.0443 - dense_51_mae: 11.5620\n",
      "Epoch 111/200\n",
      "193115/193115 [==============================] - 22s 115us/sample - loss: 14660.2869 - dense_40_loss: 3294.4583 - dense_41_loss: 907.9673 - dense_42_loss: 413.8844 - dense_43_loss: 3319.8193 - dense_44_loss: 827.2543 - dense_45_loss: 494.8371 - dense_46_loss: 2218.6326 - dense_47_loss: 70.7299 - dense_48_loss: 401.6421 - dense_49_loss: 2316.2307 - dense_50_loss: 64.0570 - dense_51_loss: 331.2591 - dense_40_mae: 35.7938 - dense_41_mae: 21.2112 - dense_42_mae: 13.6136 - dense_43_mae: 35.9099 - dense_44_mae: 20.0807 - dense_45_mae: 15.2884 - dense_46_mae: 29.6207 - dense_47_mae: 5.3530 - dense_48_mae: 13.8663 - dense_49_mae: 30.4997 - dense_50_mae: 4.9996 - dense_51_mae: 11.5358\n",
      "Epoch 112/200\n",
      "193115/193115 [==============================] - 22s 112us/sample - loss: 14618.2455 - dense_40_loss: 3298.2656 - dense_41_loss: 905.5782 - dense_42_loss: 411.7706 - dense_43_loss: 3306.7488 - dense_44_loss: 825.0602 - dense_45_loss: 491.7451 - dense_46_loss: 2199.3940 - dense_47_loss: 69.9940 - dense_48_loss: 401.4259 - dense_49_loss: 2310.9597 - dense_50_loss: 63.7006 - dense_51_loss: 334.1392 - dense_40_mae: 35.8232 - dense_41_mae: 21.1407 - dense_42_mae: 13.5865 - dense_43_mae: 35.9360 - dense_44_mae: 20.0087 - dense_45_mae: 15.2338 - dense_46_mae: 29.5232 - dense_47_mae: 5.3249 - dense_48_mae: 13.8763 - dense_49_mae: 30.4445 - dense_50_mae: 4.9734 - dense_51_mae: 11.5877\n",
      "Epoch 113/200\n",
      "193115/193115 [==============================] - 22s 113us/sample - loss: 14586.7540 - dense_40_loss: 3272.1438 - dense_41_loss: 912.2727 - dense_42_loss: 413.6837 - dense_43_loss: 3292.6912 - dense_44_loss: 829.8653 - dense_45_loss: 493.4859 - dense_46_loss: 2201.4106 - dense_47_loss: 71.1538 - dense_48_loss: 401.4092 - dense_49_loss: 2301.1941 - dense_50_loss: 64.7021 - dense_51_loss: 332.1068 - dense_40_mae: 35.6708 - dense_41_mae: 21.2313 - dense_42_mae: 13.6326 - dense_43_mae: 35.8586 - dense_44_mae: 20.0862 - dense_45_mae: 15.2472 - dense_46_mae: 29.4614 - dense_47_mae: 5.4034 - dense_48_mae: 13.8598 - dense_49_mae: 30.3512 - dense_50_mae: 5.0389 - dense_51_mae: 11.5518\n",
      "Epoch 114/200\n",
      "193115/193115 [==============================] - 22s 112us/sample - loss: 14586.3737 - dense_40_loss: 3289.0627 - dense_41_loss: 903.8910 - dense_42_loss: 413.0833 - dense_43_loss: 3294.2947 - dense_44_loss: 820.8280 - dense_45_loss: 488.6144 - dense_46_loss: 2220.4705 - dense_47_loss: 69.6940 - dense_48_loss: 399.9331 - dense_49_loss: 2290.9543 - dense_50_loss: 63.1914 - dense_51_loss: 332.8822 - dense_40_mae: 35.8102 - dense_41_mae: 21.1605 - dense_42_mae: 13.6039 - dense_43_mae: 35.8344 - dense_44_mae: 19.9232 - dense_45_mae: 15.1600 - dense_46_mae: 29.6197 - dense_47_mae: 5.3265 - dense_48_mae: 13.8334 - dense_49_mae: 30.2861 - dense_50_mae: 4.9776 - dense_51_mae: 11.5640\n",
      "Epoch 115/200\n",
      "193115/193115 [==============================] - 22s 112us/sample - loss: 14569.5175 - dense_40_loss: 3277.4570 - dense_41_loss: 907.6074 - dense_42_loss: 411.4904 - dense_43_loss: 3286.3579 - dense_44_loss: 824.8101 - dense_45_loss: 492.9324 - dense_46_loss: 2198.6357 - dense_47_loss: 71.0205 - dense_48_loss: 400.5362 - dense_49_loss: 2301.5564 - dense_50_loss: 64.4725 - dense_51_loss: 332.6115 - dense_40_mae: 35.7100 - dense_41_mae: 21.1981 - dense_42_mae: 13.5797 - dense_43_mae: 35.7942 - dense_44_mae: 20.0187 - dense_45_mae: 15.2725 - dense_46_mae: 29.4701 - dense_47_mae: 5.4028 - dense_48_mae: 13.8484 - dense_49_mae: 30.4248 - dense_50_mae: 5.0220 - dense_51_mae: 11.5391\n",
      "Epoch 116/200\n",
      "193115/193115 [==============================] - 22s 112us/sample - loss: 14555.9026 - dense_40_loss: 3286.1492 - dense_41_loss: 894.5306 - dense_42_loss: 411.2964 - dense_43_loss: 3284.5566 - dense_44_loss: 815.6865 - dense_45_loss: 489.5329 - dense_46_loss: 2211.5593 - dense_47_loss: 70.0710 - dense_48_loss: 400.5163 - dense_49_loss: 2295.7998 - dense_50_loss: 64.2150 - dense_51_loss: 331.9390 - dense_40_mae: 35.7587 - dense_41_mae: 21.0047 - dense_42_mae: 13.5591 - dense_43_mae: 35.7639 - dense_44_mae: 19.8774 - dense_45_mae: 15.1958 - dense_46_mae: 29.6042 - dense_47_mae: 5.3533 - dense_48_mae: 13.8469 - dense_49_mae: 30.3290 - dense_50_mae: 5.0017 - dense_51_mae: 11.5401\n",
      "Epoch 117/200\n",
      "193115/193115 [==============================] - 22s 116us/sample - loss: 14524.1914 - dense_40_loss: 3275.3735 - dense_41_loss: 896.8734 - dense_42_loss: 411.0033 - dense_43_loss: 3269.8091 - dense_44_loss: 819.7268 - dense_45_loss: 490.3482 - dense_46_loss: 2208.1345 - dense_47_loss: 70.3423 - dense_48_loss: 399.3957 - dense_49_loss: 2289.8245 - dense_50_loss: 62.9833 - dense_51_loss: 331.0556 - dense_40_mae: 35.6914 - dense_41_mae: 21.0229 - dense_42_mae: 13.5571 - dense_43_mae: 35.7010 - dense_44_mae: 19.9225 - dense_45_mae: 15.2174 - dense_46_mae: 29.5788 - dense_47_mae: 5.3372 - dense_48_mae: 13.8252 - dense_49_mae: 30.2803 - dense_50_mae: 4.9404 - dense_51_mae: 11.5424\n",
      "Epoch 118/200\n",
      "193115/193115 [==============================] - 22s 114us/sample - loss: 14501.3545 - dense_40_loss: 3259.9397 - dense_41_loss: 903.0644 - dense_42_loss: 411.9884 - dense_43_loss: 3264.4360 - dense_44_loss: 817.8232 - dense_45_loss: 490.6500 - dense_46_loss: 2197.8806 - dense_47_loss: 69.1255 - dense_48_loss: 400.7115 - dense_49_loss: 2289.7144 - dense_50_loss: 63.3487 - dense_51_loss: 332.4080 - dense_40_mae: 35.6350 - dense_41_mae: 21.1329 - dense_42_mae: 13.5799 - dense_43_mae: 35.6318 - dense_44_mae: 19.8961 - dense_45_mae: 15.2011 - dense_46_mae: 29.5004 - dense_47_mae: 5.2959 - dense_48_mae: 13.8268 - dense_49_mae: 30.2174 - dense_50_mae: 4.9510 - dense_51_mae: 11.5552\n",
      "Epoch 119/200\n",
      "193115/193115 [==============================] - 22s 113us/sample - loss: 14483.6425 - dense_40_loss: 3258.2681 - dense_41_loss: 904.5083 - dense_42_loss: 412.7777 - dense_43_loss: 3261.3442 - dense_44_loss: 823.0240 - dense_45_loss: 492.0321 - dense_46_loss: 2184.7603 - dense_47_loss: 68.7410 - dense_48_loss: 399.7088 - dense_49_loss: 2283.1528 - dense_50_loss: 62.8526 - dense_51_loss: 332.9581 - dense_40_mae: 35.6154 - dense_41_mae: 21.1578 - dense_42_mae: 13.5967 - dense_43_mae: 35.5779 - dense_44_mae: 20.0279 - dense_45_mae: 15.2742 - dense_46_mae: 29.4194 - dense_47_mae: 5.2721 - dense_48_mae: 13.8405 - dense_49_mae: 30.1718 - dense_50_mae: 4.9291 - dense_51_mae: 11.5764\n",
      "Epoch 120/200\n",
      "193115/193115 [==============================] - 23s 117us/sample - loss: 14514.1032 - dense_40_loss: 3258.6714 - dense_41_loss: 902.9800 - dense_42_loss: 411.4951 - dense_43_loss: 3281.6458 - dense_44_loss: 823.4698 - dense_45_loss: 490.3709 - dense_46_loss: 2196.8494 - dense_47_loss: 68.9332 - dense_48_loss: 399.6917 - dense_49_loss: 2286.9619 - dense_50_loss: 62.4720 - dense_51_loss: 331.2506 - dense_40_mae: 35.5810 - dense_41_mae: 21.1684 - dense_42_mae: 13.5873 - dense_43_mae: 35.7949 - dense_44_mae: 20.0214 - dense_45_mae: 15.2327 - dense_46_mae: 29.4370 - dense_47_mae: 5.2773 - dense_48_mae: 13.8239 - dense_49_mae: 30.2928 - dense_50_mae: 4.9338 - dense_51_mae: 11.5175\n",
      "Epoch 121/200\n"
     ]
    },
    {
     "name": "stdout",
     "output_type": "stream",
     "text": [
      "193115/193115 [==============================] - 22s 112us/sample - loss: 14520.0834 - dense_40_loss: 3270.5137 - dense_41_loss: 903.3245 - dense_42_loss: 413.0933 - dense_43_loss: 3276.0818 - dense_44_loss: 822.2132 - dense_45_loss: 489.6257 - dense_46_loss: 2193.9917 - dense_47_loss: 68.5174 - dense_48_loss: 401.0348 - dense_49_loss: 2286.7178 - dense_50_loss: 62.5222 - dense_51_loss: 332.5645 - dense_40_mae: 35.7951 - dense_41_mae: 21.1664 - dense_42_mae: 13.6212 - dense_43_mae: 35.8315 - dense_44_mae: 19.9977 - dense_45_mae: 15.2251 - dense_46_mae: 29.5995 - dense_47_mae: 5.2712 - dense_48_mae: 13.8819 - dense_49_mae: 30.3376 - dense_50_mae: 4.9157 - dense_51_mae: 11.5562\n",
      "Epoch 122/200\n",
      "193115/193115 [==============================] - 22s 113us/sample - loss: 14487.5321 - dense_40_loss: 3259.5605 - dense_41_loss: 897.8910 - dense_42_loss: 411.7061 - dense_43_loss: 3259.0178 - dense_44_loss: 820.8636 - dense_45_loss: 489.0266 - dense_46_loss: 2201.1646 - dense_47_loss: 69.2523 - dense_48_loss: 400.5332 - dense_49_loss: 2282.3503 - dense_50_loss: 62.9371 - dense_51_loss: 332.7569 - dense_40_mae: 35.5776 - dense_41_mae: 21.0285 - dense_42_mae: 13.5599 - dense_43_mae: 35.6502 - dense_44_mae: 19.9689 - dense_45_mae: 15.2137 - dense_46_mae: 29.5358 - dense_47_mae: 5.3143 - dense_48_mae: 13.8473 - dense_49_mae: 30.2319 - dense_50_mae: 4.9417 - dense_51_mae: 11.5430\n",
      "Epoch 123/200\n",
      "193115/193115 [==============================] - 23s 117us/sample - loss: 14426.9935 - dense_40_loss: 3253.9502 - dense_41_loss: 898.9485 - dense_42_loss: 411.3496 - dense_43_loss: 3244.3569 - dense_44_loss: 817.1873 - dense_45_loss: 491.0160 - dense_46_loss: 2179.0667 - dense_47_loss: 69.0676 - dense_48_loss: 399.4172 - dense_49_loss: 2268.3591 - dense_50_loss: 62.4685 - dense_51_loss: 331.5173 - dense_40_mae: 35.6045 - dense_41_mae: 21.0752 - dense_42_mae: 13.5629 - dense_43_mae: 35.5767 - dense_44_mae: 19.9070 - dense_45_mae: 15.2663 - dense_46_mae: 29.4565 - dense_47_mae: 5.2952 - dense_48_mae: 13.8326 - dense_49_mae: 30.1736 - dense_50_mae: 4.9273 - dense_51_mae: 11.5371\n",
      "Epoch 124/200\n",
      "193115/193115 [==============================] - 22s 114us/sample - loss: 14443.7934 - dense_40_loss: 3251.8489 - dense_41_loss: 898.2115 - dense_42_loss: 411.5233 - dense_43_loss: 3250.0002 - dense_44_loss: 820.5703 - dense_45_loss: 489.9088 - dense_46_loss: 2189.2156 - dense_47_loss: 68.9667 - dense_48_loss: 399.2463 - dense_49_loss: 2269.9844 - dense_50_loss: 62.2987 - dense_51_loss: 331.2256 - dense_40_mae: 35.6640 - dense_41_mae: 21.1101 - dense_42_mae: 13.6064 - dense_43_mae: 35.5841 - dense_44_mae: 19.9927 - dense_45_mae: 15.2482 - dense_46_mae: 29.4688 - dense_47_mae: 5.2830 - dense_48_mae: 13.8297 - dense_49_mae: 30.1663 - dense_50_mae: 4.9212 - dense_51_mae: 11.5235\n",
      "Epoch 125/200\n",
      "193115/193115 [==============================] - 21s 111us/sample - loss: 14413.9454 - dense_40_loss: 3236.0754 - dense_41_loss: 892.0682 - dense_42_loss: 409.8622 - dense_43_loss: 3258.7136 - dense_44_loss: 813.8054 - dense_45_loss: 486.3368 - dense_46_loss: 2190.1250 - dense_47_loss: 67.7001 - dense_48_loss: 399.8474 - dense_49_loss: 2266.2891 - dense_50_loss: 61.7469 - dense_51_loss: 332.3655 - dense_40_mae: 35.4149 - dense_41_mae: 20.9931 - dense_42_mae: 13.5374 - dense_43_mae: 35.6742 - dense_44_mae: 19.8701 - dense_45_mae: 15.1475 - dense_46_mae: 29.4239 - dense_47_mae: 5.2205 - dense_48_mae: 13.8490 - dense_49_mae: 30.1381 - dense_50_mae: 4.9138 - dense_51_mae: 11.5628\n",
      "Epoch 126/200\n",
      "193115/193115 [==============================] - 22s 114us/sample - loss: 14357.2138 - dense_40_loss: 3232.6863 - dense_41_loss: 893.1809 - dense_42_loss: 408.9204 - dense_43_loss: 3230.7307 - dense_44_loss: 812.3582 - dense_45_loss: 487.3438 - dense_46_loss: 2175.5469 - dense_47_loss: 67.7364 - dense_48_loss: 399.3580 - dense_49_loss: 2253.4131 - dense_50_loss: 62.3872 - dense_51_loss: 332.8508 - dense_40_mae: 35.4641 - dense_41_mae: 21.0308 - dense_42_mae: 13.5134 - dense_43_mae: 35.4178 - dense_44_mae: 19.8688 - dense_45_mae: 15.1589 - dense_46_mae: 29.2835 - dense_47_mae: 5.2392 - dense_48_mae: 13.8326 - dense_49_mae: 30.0257 - dense_50_mae: 4.9097 - dense_51_mae: 11.5542\n",
      "Epoch 127/200\n",
      "193115/193115 [==============================] - 22s 112us/sample - loss: 14382.2894 - dense_40_loss: 3243.3738 - dense_41_loss: 890.8380 - dense_42_loss: 409.3472 - dense_43_loss: 3243.2781 - dense_44_loss: 811.2282 - dense_45_loss: 485.6548 - dense_46_loss: 2177.8601 - dense_47_loss: 68.9162 - dense_48_loss: 400.4332 - dense_49_loss: 2256.9724 - dense_50_loss: 62.4463 - dense_51_loss: 331.6342 - dense_40_mae: 35.5064 - dense_41_mae: 20.9498 - dense_42_mae: 13.5237 - dense_43_mae: 35.5695 - dense_44_mae: 19.8164 - dense_45_mae: 15.1293 - dense_46_mae: 29.3224 - dense_47_mae: 5.2778 - dense_48_mae: 13.8645 - dense_49_mae: 30.1151 - dense_50_mae: 4.9260 - dense_51_mae: 11.5417\n",
      "Epoch 128/200\n",
      "193115/193115 [==============================] - 21s 110us/sample - loss: 14428.3793 - dense_40_loss: 3236.2610 - dense_41_loss: 900.8699 - dense_42_loss: 411.6146 - dense_43_loss: 3262.1245 - dense_44_loss: 818.3706 - dense_45_loss: 486.2229 - dense_46_loss: 2177.3188 - dense_47_loss: 68.9218 - dense_48_loss: 399.0984 - dense_49_loss: 2274.0125 - dense_50_loss: 62.1011 - dense_51_loss: 331.5452 - dense_40_mae: 35.5687 - dense_41_mae: 21.1405 - dense_42_mae: 13.5808 - dense_43_mae: 35.7938 - dense_44_mae: 19.9801 - dense_45_mae: 15.1664 - dense_46_mae: 29.4013 - dense_47_mae: 5.2745 - dense_48_mae: 13.8326 - dense_49_mae: 30.2846 - dense_50_mae: 4.9177 - dense_51_mae: 11.5379\n",
      "Epoch 129/200\n",
      "193115/193115 [==============================] - 19s 100us/sample - loss: 14354.0569 - dense_40_loss: 3226.4919 - dense_41_loss: 891.7150 - dense_42_loss: 408.5280 - dense_43_loss: 3238.5986 - dense_44_loss: 810.9550 - dense_45_loss: 487.1872 - dense_46_loss: 2173.6584 - dense_47_loss: 66.8174 - dense_48_loss: 399.1214 - dense_49_loss: 2256.6814 - dense_50_loss: 61.6578 - dense_51_loss: 332.0215 - dense_40_mae: 35.4722 - dense_41_mae: 20.9849 - dense_42_mae: 13.5171 - dense_43_mae: 35.4635 - dense_44_mae: 19.8448 - dense_45_mae: 15.1567 - dense_46_mae: 29.3909 - dense_47_mae: 5.1754 - dense_48_mae: 13.8269 - dense_49_mae: 30.0744 - dense_50_mae: 4.8626 - dense_51_mae: 11.5544\n",
      "Epoch 130/200\n",
      "193115/193115 [==============================] - 23s 117us/sample - loss: 14417.9101 - dense_40_loss: 3241.2441 - dense_41_loss: 897.3082 - dense_42_loss: 412.1526 - dense_43_loss: 3255.2275 - dense_44_loss: 813.8759 - dense_45_loss: 488.7423 - dense_46_loss: 2187.2646 - dense_47_loss: 68.6661 - dense_48_loss: 400.6544 - dense_49_loss: 2258.4492 - dense_50_loss: 62.6181 - dense_51_loss: 331.3591 - dense_40_mae: 35.5282 - dense_41_mae: 21.0556 - dense_42_mae: 13.5862 - dense_43_mae: 35.6727 - dense_44_mae: 19.8858 - dense_45_mae: 15.2207 - dense_46_mae: 29.5735 - dense_47_mae: 5.2852 - dense_48_mae: 13.8637 - dense_49_mae: 30.1464 - dense_50_mae: 4.9337 - dense_51_mae: 11.5392\n",
      "Epoch 131/200\n",
      "193115/193115 [==============================] - 22s 114us/sample - loss: 14299.7398 - dense_40_loss: 3214.8684 - dense_41_loss: 882.6624 - dense_42_loss: 408.7631 - dense_43_loss: 3228.7749 - dense_44_loss: 802.9025 - dense_45_loss: 482.9356 - dense_46_loss: 2165.9788 - dense_47_loss: 68.5085 - dense_48_loss: 400.1970 - dense_49_loss: 2249.8582 - dense_50_loss: 61.7673 - dense_51_loss: 332.6840 - dense_40_mae: 35.4161 - dense_41_mae: 20.8555 - dense_42_mae: 13.5061 - dense_43_mae: 35.4826 - dense_44_mae: 19.7196 - dense_45_mae: 15.1033 - dense_46_mae: 29.3036 - dense_47_mae: 5.2700 - dense_48_mae: 13.8568 - dense_49_mae: 30.0831 - dense_50_mae: 4.9132 - dense_51_mae: 11.5739\n",
      "Epoch 132/200\n"
     ]
    },
    {
     "name": "stdout",
     "output_type": "stream",
     "text": [
      "193115/193115 [==============================] - 22s 114us/sample - loss: 14334.8049 - dense_40_loss: 3220.4231 - dense_41_loss: 892.4974 - dense_42_loss: 409.3535 - dense_43_loss: 3225.9358 - dense_44_loss: 812.0612 - dense_45_loss: 487.0560 - dense_46_loss: 2169.4971 - dense_47_loss: 67.6199 - dense_48_loss: 400.5384 - dense_49_loss: 2256.6885 - dense_50_loss: 61.3056 - dense_51_loss: 331.5811 - dense_40_mae: 35.4652 - dense_41_mae: 21.0029 - dense_42_mae: 13.5186 - dense_43_mae: 35.4378 - dense_44_mae: 19.8238 - dense_45_mae: 15.1754 - dense_46_mae: 29.2997 - dense_47_mae: 5.2373 - dense_48_mae: 13.8630 - dense_49_mae: 30.1503 - dense_50_mae: 4.8865 - dense_51_mae: 11.5312\n",
      "Epoch 133/200\n",
      "193115/193115 [==============================] - 22s 112us/sample - loss: 14314.7539 - dense_40_loss: 3217.3523 - dense_41_loss: 895.5708 - dense_42_loss: 411.3944 - dense_43_loss: 3217.2146 - dense_44_loss: 818.4343 - dense_45_loss: 486.3192 - dense_46_loss: 2162.4106 - dense_47_loss: 68.2155 - dense_48_loss: 399.9032 - dense_49_loss: 2243.8765 - dense_50_loss: 62.0836 - dense_51_loss: 331.0669 - dense_40_mae: 35.4002 - dense_41_mae: 21.0477 - dense_42_mae: 13.5851 - dense_43_mae: 35.5008 - dense_44_mae: 19.9599 - dense_45_mae: 15.1618 - dense_46_mae: 29.2927 - dense_47_mae: 5.2710 - dense_48_mae: 13.8634 - dense_49_mae: 29.9945 - dense_50_mae: 4.9327 - dense_51_mae: 11.5244\n",
      "Epoch 134/200\n",
      "193115/193115 [==============================] - 22s 114us/sample - loss: 14286.5933 - dense_40_loss: 3223.7336 - dense_41_loss: 886.8722 - dense_42_loss: 408.2445 - dense_43_loss: 3217.7466 - dense_44_loss: 804.5965 - dense_45_loss: 483.7804 - dense_46_loss: 2161.5549 - dense_47_loss: 67.1912 - dense_48_loss: 399.2917 - dense_49_loss: 2240.3870 - dense_50_loss: 61.2079 - dense_51_loss: 332.5167 - dense_40_mae: 35.4545 - dense_41_mae: 20.9110 - dense_42_mae: 13.5015 - dense_43_mae: 35.3830 - dense_44_mae: 19.7450 - dense_45_mae: 15.0933 - dense_46_mae: 29.2992 - dense_47_mae: 5.2135 - dense_48_mae: 13.8399 - dense_49_mae: 29.9598 - dense_50_mae: 4.8635 - dense_51_mae: 11.5673\n",
      "Epoch 135/200\n",
      "193115/193115 [==============================] - 21s 111us/sample - loss: 14271.6975 - dense_40_loss: 3206.3008 - dense_41_loss: 891.9974 - dense_42_loss: 411.6600 - dense_43_loss: 3209.7344 - dense_44_loss: 810.0974 - dense_45_loss: 485.7623 - dense_46_loss: 2153.4009 - dense_47_loss: 67.6741 - dense_48_loss: 399.3369 - dense_49_loss: 2242.9409 - dense_50_loss: 61.7063 - dense_51_loss: 331.0519 - dense_40_mae: 35.3536 - dense_41_mae: 21.0386 - dense_42_mae: 13.5791 - dense_43_mae: 35.3629 - dense_44_mae: 19.8761 - dense_45_mae: 15.1654 - dense_46_mae: 29.1980 - dense_47_mae: 5.2270 - dense_48_mae: 13.8575 - dense_49_mae: 30.0082 - dense_50_mae: 4.8881 - dense_51_mae: 11.5310\n",
      "Epoch 136/200\n",
      "193115/193115 [==============================] - 22s 112us/sample - loss: 14235.3493 - dense_40_loss: 3213.6577 - dense_41_loss: 876.3199 - dense_42_loss: 406.4937 - dense_43_loss: 3215.2549 - dense_44_loss: 794.7480 - dense_45_loss: 481.5059 - dense_46_loss: 2143.8481 - dense_47_loss: 67.2426 - dense_48_loss: 398.2023 - dense_49_loss: 2243.5544 - dense_50_loss: 61.2138 - dense_51_loss: 333.2064 - dense_40_mae: 35.4288 - dense_41_mae: 20.7665 - dense_42_mae: 13.4786 - dense_43_mae: 35.4722 - dense_44_mae: 19.5792 - dense_45_mae: 15.0691 - dense_46_mae: 29.1632 - dense_47_mae: 5.2086 - dense_48_mae: 13.8247 - dense_49_mae: 30.0740 - dense_50_mae: 4.8835 - dense_51_mae: 11.5744\n",
      "Epoch 137/200\n",
      "193115/193115 [==============================] - 22s 116us/sample - loss: 14230.8067 - dense_40_loss: 3194.4873 - dense_41_loss: 886.2762 - dense_42_loss: 409.0199 - dense_43_loss: 3207.6812 - dense_44_loss: 808.3161 - dense_45_loss: 482.7722 - dense_46_loss: 2148.0447 - dense_47_loss: 66.7279 - dense_48_loss: 399.0138 - dense_49_loss: 2236.2229 - dense_50_loss: 60.8504 - dense_51_loss: 331.9205 - dense_40_mae: 35.3611 - dense_41_mae: 20.9554 - dense_42_mae: 13.5231 - dense_43_mae: 35.4571 - dense_44_mae: 19.8556 - dense_45_mae: 15.1270 - dense_46_mae: 29.1959 - dense_47_mae: 5.1680 - dense_48_mae: 13.8425 - dense_49_mae: 29.9831 - dense_50_mae: 4.8532 - dense_51_mae: 11.5393\n",
      "Epoch 138/200\n",
      "193115/193115 [==============================] - 22s 114us/sample - loss: 14218.9315 - dense_40_loss: 3205.0083 - dense_41_loss: 883.4733 - dense_42_loss: 408.9576 - dense_43_loss: 3187.6157 - dense_44_loss: 804.8400 - dense_45_loss: 483.0389 - dense_46_loss: 2156.2925 - dense_47_loss: 67.7853 - dense_48_loss: 398.4174 - dense_49_loss: 2230.8264 - dense_50_loss: 61.5232 - dense_51_loss: 331.1504 - dense_40_mae: 35.3889 - dense_41_mae: 20.8963 - dense_42_mae: 13.5293 - dense_43_mae: 35.2264 - dense_44_mae: 19.7962 - dense_45_mae: 15.1091 - dense_46_mae: 29.2206 - dense_47_mae: 5.2481 - dense_48_mae: 13.8202 - dense_49_mae: 29.8823 - dense_50_mae: 4.9091 - dense_51_mae: 11.5292\n",
      "Epoch 139/200\n",
      "193115/193115 [==============================] - 22s 114us/sample - loss: 14256.0175 - dense_40_loss: 3208.8018 - dense_41_loss: 882.9789 - dense_42_loss: 409.4534 - dense_43_loss: 3207.9963 - dense_44_loss: 803.5213 - dense_45_loss: 484.8887 - dense_46_loss: 2153.4961 - dense_47_loss: 67.5886 - dense_48_loss: 399.9090 - dense_49_loss: 2241.1040 - dense_50_loss: 61.7004 - dense_51_loss: 333.9694 - dense_40_mae: 35.4027 - dense_41_mae: 20.8964 - dense_42_mae: 13.5491 - dense_43_mae: 35.4568 - dense_44_mae: 19.7553 - dense_45_mae: 15.1589 - dense_46_mae: 29.3297 - dense_47_mae: 5.2325 - dense_48_mae: 13.8666 - dense_49_mae: 30.0397 - dense_50_mae: 4.8822 - dense_51_mae: 11.5948\n",
      "Epoch 140/200\n",
      "193115/193115 [==============================] - 22s 115us/sample - loss: 14229.7830 - dense_40_loss: 3207.4692 - dense_41_loss: 875.7440 - dense_42_loss: 406.7047 - dense_43_loss: 3206.6743 - dense_44_loss: 797.4199 - dense_45_loss: 480.8974 - dense_46_loss: 2159.7666 - dense_47_loss: 66.1896 - dense_48_loss: 398.7020 - dense_49_loss: 2236.5601 - dense_50_loss: 60.8116 - dense_51_loss: 331.9241 - dense_40_mae: 35.3685 - dense_41_mae: 20.7830 - dense_42_mae: 13.4683 - dense_43_mae: 35.4714 - dense_44_mae: 19.6631 - dense_45_mae: 15.0868 - dense_46_mae: 29.3224 - dense_47_mae: 5.1608 - dense_48_mae: 13.8293 - dense_49_mae: 30.0533 - dense_50_mae: 4.8484 - dense_51_mae: 11.5539\n",
      "Epoch 141/200\n",
      "193115/193115 [==============================] - 23s 118us/sample - loss: 14202.0422 - dense_40_loss: 3193.4302 - dense_41_loss: 881.1099 - dense_42_loss: 408.5206 - dense_43_loss: 3204.0249 - dense_44_loss: 799.4726 - dense_45_loss: 481.0295 - dense_46_loss: 2151.0476 - dense_47_loss: 66.5315 - dense_48_loss: 398.5294 - dense_49_loss: 2224.7151 - dense_50_loss: 60.8600 - dense_51_loss: 333.1175 - dense_40_mae: 35.2859 - dense_41_mae: 20.8406 - dense_42_mae: 13.5335 - dense_43_mae: 35.3341 - dense_44_mae: 19.7161 - dense_45_mae: 15.0932 - dense_46_mae: 29.2227 - dense_47_mae: 5.1721 - dense_48_mae: 13.8187 - dense_49_mae: 29.9537 - dense_50_mae: 4.8502 - dense_51_mae: 11.5839\n",
      "Epoch 142/200\n",
      "193115/193115 [==============================] - 22s 113us/sample - loss: 14141.3958 - dense_40_loss: 3179.9500 - dense_41_loss: 879.5215 - dense_42_loss: 407.7584 - dense_43_loss: 3175.7847 - dense_44_loss: 805.4993 - dense_45_loss: 481.8848 - dense_46_loss: 2136.7844 - dense_47_loss: 66.1699 - dense_48_loss: 399.6269 - dense_49_loss: 2216.7034 - dense_50_loss: 61.0437 - dense_51_loss: 330.8001 - dense_40_mae: 35.2642 - dense_41_mae: 20.8763 - dense_42_mae: 13.5057 - dense_43_mae: 35.1972 - dense_44_mae: 19.8003 - dense_45_mae: 15.1115 - dense_46_mae: 29.1320 - dense_47_mae: 5.1546 - dense_48_mae: 13.8680 - dense_49_mae: 29.8700 - dense_50_mae: 4.8497 - dense_51_mae: 11.5333\n",
      "Epoch 143/200\n"
     ]
    },
    {
     "name": "stdout",
     "output_type": "stream",
     "text": [
      "193115/193115 [==============================] - 22s 113us/sample - loss: 14165.3963 - dense_40_loss: 3188.8333 - dense_41_loss: 880.3690 - dense_42_loss: 406.2379 - dense_43_loss: 3186.2424 - dense_44_loss: 802.0397 - dense_45_loss: 481.7538 - dense_46_loss: 2133.8411 - dense_47_loss: 67.6947 - dense_48_loss: 399.2060 - dense_49_loss: 2224.6560 - dense_50_loss: 61.1693 - dense_51_loss: 332.8889 - dense_40_mae: 35.1812 - dense_41_mae: 20.8426 - dense_42_mae: 13.4659 - dense_43_mae: 35.1946 - dense_44_mae: 19.7500 - dense_45_mae: 15.1161 - dense_46_mae: 29.0833 - dense_47_mae: 5.2374 - dense_48_mae: 13.8582 - dense_49_mae: 29.8407 - dense_50_mae: 4.8787 - dense_51_mae: 11.5865\n",
      "Epoch 144/200\n",
      "193115/193115 [==============================] - 23s 119us/sample - loss: 14179.8919 - dense_40_loss: 3194.8071 - dense_41_loss: 887.1672 - dense_42_loss: 407.9959 - dense_43_loss: 3196.8523 - dense_44_loss: 806.4351 - dense_45_loss: 478.7632 - dense_46_loss: 2132.1663 - dense_47_loss: 66.1072 - dense_48_loss: 397.2550 - dense_49_loss: 2219.4922 - dense_50_loss: 60.6500 - dense_51_loss: 331.8606 - dense_40_mae: 35.4021 - dense_41_mae: 20.9868 - dense_42_mae: 13.5403 - dense_43_mae: 35.3072 - dense_44_mae: 19.8213 - dense_45_mae: 15.0405 - dense_46_mae: 29.2057 - dense_47_mae: 5.1841 - dense_48_mae: 13.7946 - dense_49_mae: 29.9311 - dense_50_mae: 4.8489 - dense_51_mae: 11.5348\n",
      "Epoch 145/200\n",
      "193115/193115 [==============================] - 22s 114us/sample - loss: 14153.8682 - dense_40_loss: 3185.3589 - dense_41_loss: 880.6280 - dense_42_loss: 408.1566 - dense_43_loss: 3192.3281 - dense_44_loss: 802.9689 - dense_45_loss: 480.4678 - dense_46_loss: 2128.7812 - dense_47_loss: 66.7060 - dense_48_loss: 398.3148 - dense_49_loss: 2217.4502 - dense_50_loss: 60.8913 - dense_51_loss: 331.6931 - dense_40_mae: 35.2312 - dense_41_mae: 20.8503 - dense_42_mae: 13.5188 - dense_43_mae: 35.3932 - dense_44_mae: 19.7433 - dense_45_mae: 15.0678 - dense_46_mae: 29.1010 - dense_47_mae: 5.2020 - dense_48_mae: 13.8320 - dense_49_mae: 29.9709 - dense_50_mae: 4.8637 - dense_51_mae: 11.5616\n",
      "Epoch 146/200\n",
      "193115/193115 [==============================] - 22s 114us/sample - loss: 14146.2173 - dense_40_loss: 3180.0178 - dense_41_loss: 877.7305 - dense_42_loss: 408.4657 - dense_43_loss: 3184.7803 - dense_44_loss: 799.1243 - dense_45_loss: 479.2584 - dense_46_loss: 2137.8445 - dense_47_loss: 65.8026 - dense_48_loss: 399.2264 - dense_49_loss: 2218.9194 - dense_50_loss: 60.7321 - dense_51_loss: 333.8206 - dense_40_mae: 35.2084 - dense_41_mae: 20.8720 - dense_42_mae: 13.5367 - dense_43_mae: 35.2067 - dense_44_mae: 19.7069 - dense_45_mae: 15.0752 - dense_46_mae: 29.1493 - dense_47_mae: 5.1706 - dense_48_mae: 13.8438 - dense_49_mae: 29.8781 - dense_50_mae: 4.8521 - dense_51_mae: 11.5955\n",
      "Epoch 147/200\n",
      "193115/193115 [==============================] - 22s 116us/sample - loss: 14108.6924 - dense_40_loss: 3177.6123 - dense_41_loss: 880.2643 - dense_42_loss: 408.0251 - dense_43_loss: 3173.8774 - dense_44_loss: 798.9232 - dense_45_loss: 480.6387 - dense_46_loss: 2122.2917 - dense_47_loss: 65.9335 - dense_48_loss: 398.2765 - dense_49_loss: 2211.9858 - dense_50_loss: 60.2574 - dense_51_loss: 330.8970 - dense_40_mae: 35.1926 - dense_41_mae: 20.8636 - dense_42_mae: 13.5098 - dense_43_mae: 35.1633 - dense_44_mae: 19.7214 - dense_45_mae: 15.0824 - dense_46_mae: 29.0184 - dense_47_mae: 5.1797 - dense_48_mae: 13.8233 - dense_49_mae: 29.8642 - dense_50_mae: 4.8417 - dense_51_mae: 11.5206\n",
      "Epoch 148/200\n",
      "193115/193115 [==============================] - 22s 112us/sample - loss: 14147.5976 - dense_40_loss: 3184.7339 - dense_41_loss: 883.0728 - dense_42_loss: 407.6975 - dense_43_loss: 3182.7458 - dense_44_loss: 802.6911 - dense_45_loss: 482.5043 - dense_46_loss: 2125.1780 - dense_47_loss: 66.8169 - dense_48_loss: 399.8647 - dense_49_loss: 2218.3867 - dense_50_loss: 60.6914 - dense_51_loss: 333.0232 - dense_40_mae: 35.3201 - dense_41_mae: 20.9048 - dense_42_mae: 13.5194 - dense_43_mae: 35.2950 - dense_44_mae: 19.7613 - dense_45_mae: 15.1276 - dense_46_mae: 29.0940 - dense_47_mae: 5.2279 - dense_48_mae: 13.8756 - dense_49_mae: 29.8908 - dense_50_mae: 4.8748 - dense_51_mae: 11.5592\n",
      "Epoch 149/200\n",
      "193115/193115 [==============================] - 22s 112us/sample - loss: 14088.5857 - dense_40_loss: 3187.1790 - dense_41_loss: 868.0218 - dense_42_loss: 405.4846 - dense_43_loss: 3165.3032 - dense_44_loss: 793.6794 - dense_45_loss: 477.4344 - dense_46_loss: 2123.3230 - dense_47_loss: 66.1634 - dense_48_loss: 398.3611 - dense_49_loss: 2209.3564 - dense_50_loss: 61.4129 - dense_51_loss: 333.6021 - dense_40_mae: 35.3243 - dense_41_mae: 20.7013 - dense_42_mae: 13.4511 - dense_43_mae: 35.1235 - dense_44_mae: 19.5910 - dense_45_mae: 15.0034 - dense_46_mae: 29.0752 - dense_47_mae: 5.1837 - dense_48_mae: 13.8376 - dense_49_mae: 29.8030 - dense_50_mae: 4.8680 - dense_51_mae: 11.5875\n",
      "Epoch 150/200\n",
      "193115/193115 [==============================] - 21s 111us/sample - loss: 14096.6189 - dense_40_loss: 3163.0083 - dense_41_loss: 878.9012 - dense_42_loss: 407.6002 - dense_43_loss: 3166.4739 - dense_44_loss: 803.1797 - dense_45_loss: 477.7562 - dense_46_loss: 2131.7136 - dense_47_loss: 66.1684 - dense_48_loss: 397.8405 - dense_49_loss: 2211.6694 - dense_50_loss: 60.4757 - dense_51_loss: 331.5774 - dense_40_mae: 35.1712 - dense_41_mae: 20.8685 - dense_42_mae: 13.5164 - dense_43_mae: 35.1190 - dense_44_mae: 19.7840 - dense_45_mae: 15.0605 - dense_46_mae: 29.0980 - dense_47_mae: 5.1469 - dense_48_mae: 13.8272 - dense_49_mae: 29.9202 - dense_50_mae: 4.8369 - dense_51_mae: 11.5593\n",
      "Epoch 151/200\n",
      "193115/193115 [==============================] - 22s 112us/sample - loss: 14072.5454 - dense_40_loss: 3163.9204 - dense_41_loss: 881.7236 - dense_42_loss: 407.1827 - dense_43_loss: 3161.2820 - dense_44_loss: 800.1934 - dense_45_loss: 480.3331 - dense_46_loss: 2124.2354 - dense_47_loss: 65.6477 - dense_48_loss: 398.0898 - dense_49_loss: 2196.8313 - dense_50_loss: 60.0692 - dense_51_loss: 332.6174 - dense_40_mae: 35.2203 - dense_41_mae: 20.9030 - dense_42_mae: 13.4962 - dense_43_mae: 35.1228 - dense_44_mae: 19.7331 - dense_45_mae: 15.0698 - dense_46_mae: 29.0518 - dense_47_mae: 5.1603 - dense_48_mae: 13.8289 - dense_49_mae: 29.7725 - dense_50_mae: 4.8368 - dense_51_mae: 11.5438\n",
      "Epoch 152/200\n",
      "193115/193115 [==============================] - 21s 110us/sample - loss: 14079.0309 - dense_40_loss: 3162.9790 - dense_41_loss: 870.9681 - dense_42_loss: 406.8931 - dense_43_loss: 3171.3516 - dense_44_loss: 791.0582 - dense_45_loss: 478.9899 - dense_46_loss: 2126.7576 - dense_47_loss: 66.2975 - dense_48_loss: 399.0704 - dense_49_loss: 2211.2871 - dense_50_loss: 60.2547 - dense_51_loss: 332.3961 - dense_40_mae: 35.1657 - dense_41_mae: 20.7132 - dense_42_mae: 13.4879 - dense_43_mae: 35.2707 - dense_44_mae: 19.5822 - dense_45_mae: 15.0776 - dense_46_mae: 29.1084 - dense_47_mae: 5.1890 - dense_48_mae: 13.8525 - dense_49_mae: 29.9036 - dense_50_mae: 4.8481 - dense_51_mae: 11.5592\n",
      "Epoch 153/200\n",
      "193115/193115 [==============================] - 22s 114us/sample - loss: 14052.3757 - dense_40_loss: 3168.5435 - dense_41_loss: 864.7603 - dense_42_loss: 407.6395 - dense_43_loss: 3155.9832 - dense_44_loss: 786.8394 - dense_45_loss: 477.2584 - dense_46_loss: 2134.8018 - dense_47_loss: 65.6733 - dense_48_loss: 398.4807 - dense_49_loss: 2200.2891 - dense_50_loss: 60.0918 - dense_51_loss: 332.5598 - dense_40_mae: 35.1473 - dense_41_mae: 20.6000 - dense_42_mae: 13.5108 - dense_43_mae: 35.0687 - dense_44_mae: 19.4861 - dense_45_mae: 15.0102 - dense_46_mae: 29.1913 - dense_47_mae: 5.1647 - dense_48_mae: 13.8348 - dense_49_mae: 29.7358 - dense_50_mae: 4.8352 - dense_51_mae: 11.5555\n",
      "Epoch 154/200\n"
     ]
    },
    {
     "name": "stdout",
     "output_type": "stream",
     "text": [
      "193115/193115 [==============================] - 22s 116us/sample - loss: 14044.4616 - dense_40_loss: 3172.6023 - dense_41_loss: 873.2614 - dense_42_loss: 405.7709 - dense_43_loss: 3156.9128 - dense_44_loss: 796.7605 - dense_45_loss: 474.8786 - dense_46_loss: 2116.5071 - dense_47_loss: 65.8593 - dense_48_loss: 398.7013 - dense_49_loss: 2190.3311 - dense_50_loss: 60.0206 - dense_51_loss: 332.7026 - dense_40_mae: 35.1736 - dense_41_mae: 20.8025 - dense_42_mae: 13.4663 - dense_43_mae: 35.0989 - dense_44_mae: 19.7070 - dense_45_mae: 14.9985 - dense_46_mae: 29.0163 - dense_47_mae: 5.1595 - dense_48_mae: 13.8462 - dense_49_mae: 29.6861 - dense_50_mae: 4.8474 - dense_51_mae: 11.5628\n",
      "Epoch 155/200\n",
      "193115/193115 [==============================] - 22s 115us/sample - loss: 14009.8723 - dense_40_loss: 3156.6484 - dense_41_loss: 863.8351 - dense_42_loss: 403.9096 - dense_43_loss: 3151.4456 - dense_44_loss: 786.2234 - dense_45_loss: 476.5651 - dense_46_loss: 2121.4126 - dense_47_loss: 65.5573 - dense_48_loss: 399.6323 - dense_49_loss: 2191.8394 - dense_50_loss: 59.6073 - dense_51_loss: 332.9279 - dense_40_mae: 35.1796 - dense_41_mae: 20.6155 - dense_42_mae: 13.4271 - dense_43_mae: 35.1027 - dense_44_mae: 19.5381 - dense_45_mae: 14.9955 - dense_46_mae: 29.0562 - dense_47_mae: 5.1575 - dense_48_mae: 13.8692 - dense_49_mae: 29.7407 - dense_50_mae: 4.8068 - dense_51_mae: 11.5726\n",
      "Epoch 156/200\n",
      "193115/193115 [==============================] - 22s 114us/sample - loss: 14035.2275 - dense_40_loss: 3172.2930 - dense_41_loss: 868.4709 - dense_42_loss: 407.1853 - dense_43_loss: 3155.8013 - dense_44_loss: 789.5663 - dense_45_loss: 474.7228 - dense_46_loss: 2115.7622 - dense_47_loss: 64.6916 - dense_48_loss: 398.3006 - dense_49_loss: 2196.6348 - dense_50_loss: 59.5416 - dense_51_loss: 332.9119 - dense_40_mae: 35.2297 - dense_41_mae: 20.7119 - dense_42_mae: 13.4898 - dense_43_mae: 35.2134 - dense_44_mae: 19.5743 - dense_45_mae: 14.9816 - dense_46_mae: 29.0435 - dense_47_mae: 5.1398 - dense_48_mae: 13.8320 - dense_49_mae: 29.8219 - dense_50_mae: 4.8212 - dense_51_mae: 11.5977\n",
      "Epoch 157/200\n",
      "193115/193115 [==============================] - 22s 114us/sample - loss: 14039.0035 - dense_40_loss: 3165.4895 - dense_41_loss: 878.0948 - dense_42_loss: 408.3369 - dense_43_loss: 3148.7041 - dense_44_loss: 801.1589 - dense_45_loss: 478.6302 - dense_46_loss: 2105.0796 - dense_47_loss: 65.7318 - dense_48_loss: 399.3859 - dense_49_loss: 2193.4761 - dense_50_loss: 59.9473 - dense_51_loss: 334.4901 - dense_40_mae: 35.1669 - dense_41_mae: 20.8657 - dense_42_mae: 13.5249 - dense_43_mae: 35.0944 - dense_44_mae: 19.7519 - dense_45_mae: 15.0808 - dense_46_mae: 28.9003 - dense_47_mae: 5.1523 - dense_48_mae: 13.8445 - dense_49_mae: 29.6615 - dense_50_mae: 4.8354 - dense_51_mae: 11.5776\n",
      "Epoch 158/200\n",
      "193115/193115 [==============================] - 22s 116us/sample - loss: 13967.3987 - dense_40_loss: 3144.1123 - dense_41_loss: 865.6349 - dense_42_loss: 405.7252 - dense_43_loss: 3132.4016 - dense_44_loss: 788.9542 - dense_45_loss: 475.9785 - dense_46_loss: 2118.5054 - dense_47_loss: 65.9581 - dense_48_loss: 399.5559 - dense_49_loss: 2176.4263 - dense_50_loss: 60.1022 - dense_51_loss: 333.0436 - dense_40_mae: 35.0159 - dense_41_mae: 20.6767 - dense_42_mae: 13.4543 - dense_43_mae: 34.9458 - dense_44_mae: 19.5596 - dense_45_mae: 15.0131 - dense_46_mae: 29.0552 - dense_47_mae: 5.1977 - dense_48_mae: 13.8587 - dense_49_mae: 29.6050 - dense_50_mae: 4.8704 - dense_51_mae: 11.5944\n",
      "Epoch 159/200\n",
      "193115/193115 [==============================] - 21s 111us/sample - loss: 13980.1839 - dense_40_loss: 3145.5374 - dense_41_loss: 870.4485 - dense_42_loss: 405.9105 - dense_43_loss: 3139.6755 - dense_44_loss: 791.1433 - dense_45_loss: 474.7247 - dense_46_loss: 2108.7788 - dense_47_loss: 65.0888 - dense_48_loss: 397.5876 - dense_49_loss: 2188.2419 - dense_50_loss: 59.8853 - dense_51_loss: 332.6684 - dense_40_mae: 35.0707 - dense_41_mae: 20.7494 - dense_42_mae: 13.5110 - dense_43_mae: 35.0219 - dense_44_mae: 19.6188 - dense_45_mae: 14.9912 - dense_46_mae: 29.0336 - dense_47_mae: 5.1112 - dense_48_mae: 13.8226 - dense_49_mae: 29.6919 - dense_50_mae: 4.8329 - dense_51_mae: 11.5662\n",
      "Epoch 160/200\n",
      "193115/193115 [==============================] - 22s 112us/sample - loss: 13958.4158 - dense_40_loss: 3142.3147 - dense_41_loss: 866.4758 - dense_42_loss: 405.1853 - dense_43_loss: 3133.4766 - dense_44_loss: 790.6544 - dense_45_loss: 478.0456 - dense_46_loss: 2103.4451 - dense_47_loss: 66.4856 - dense_48_loss: 398.1684 - dense_49_loss: 2182.1736 - dense_50_loss: 59.8714 - dense_51_loss: 332.6118 - dense_40_mae: 35.0464 - dense_41_mae: 20.6733 - dense_42_mae: 13.4630 - dense_43_mae: 34.8842 - dense_44_mae: 19.5909 - dense_45_mae: 15.0297 - dense_46_mae: 28.9449 - dense_47_mae: 5.1887 - dense_48_mae: 13.8254 - dense_49_mae: 29.6517 - dense_50_mae: 4.8460 - dense_51_mae: 11.5776\n",
      "Epoch 161/200\n",
      "193115/193115 [==============================] - 22s 115us/sample - loss: 13938.7848 - dense_40_loss: 3147.6125 - dense_41_loss: 861.0591 - dense_42_loss: 404.0028 - dense_43_loss: 3130.9851 - dense_44_loss: 785.6357 - dense_45_loss: 476.1451 - dense_46_loss: 2103.4988 - dense_47_loss: 64.7883 - dense_48_loss: 397.8419 - dense_49_loss: 2176.5332 - dense_50_loss: 59.7973 - dense_51_loss: 330.9642 - dense_40_mae: 35.0788 - dense_41_mae: 20.6287 - dense_42_mae: 13.4263 - dense_43_mae: 34.8762 - dense_44_mae: 19.5128 - dense_45_mae: 15.0065 - dense_46_mae: 28.8956 - dense_47_mae: 5.1432 - dense_48_mae: 13.8181 - dense_49_mae: 29.5269 - dense_50_mae: 4.8367 - dense_51_mae: 11.5306\n",
      "Epoch 162/200\n",
      "193115/193115 [==============================] - 22s 113us/sample - loss: 13930.8784 - dense_40_loss: 3138.3728 - dense_41_loss: 862.2080 - dense_42_loss: 405.1486 - dense_43_loss: 3132.3357 - dense_44_loss: 782.5571 - dense_45_loss: 474.1914 - dense_46_loss: 2097.8691 - dense_47_loss: 65.8945 - dense_48_loss: 397.9691 - dense_49_loss: 2183.2729 - dense_50_loss: 59.9415 - dense_51_loss: 331.0167 - dense_40_mae: 35.0466 - dense_41_mae: 20.6698 - dense_42_mae: 13.4662 - dense_43_mae: 35.0288 - dense_44_mae: 19.4961 - dense_45_mae: 14.9768 - dense_46_mae: 28.9492 - dense_47_mae: 5.2030 - dense_48_mae: 13.8228 - dense_49_mae: 29.6635 - dense_50_mae: 4.8417 - dense_51_mae: 11.5406\n",
      "Epoch 163/200\n",
      "193115/193115 [==============================] - 22s 115us/sample - loss: 13986.2941 - dense_40_loss: 3156.9788 - dense_41_loss: 863.9256 - dense_42_loss: 405.1571 - dense_43_loss: 3146.1133 - dense_44_loss: 783.4915 - dense_45_loss: 476.8578 - dense_46_loss: 2105.0710 - dense_47_loss: 65.0385 - dense_48_loss: 399.3425 - dense_49_loss: 2190.9880 - dense_50_loss: 59.1607 - dense_51_loss: 333.7826 - dense_40_mae: 35.2025 - dense_41_mae: 20.6534 - dense_42_mae: 13.4578 - dense_43_mae: 35.1450 - dense_44_mae: 19.4805 - dense_45_mae: 14.9946 - dense_46_mae: 28.9862 - dense_47_mae: 5.1469 - dense_48_mae: 13.8643 - dense_49_mae: 29.7680 - dense_50_mae: 4.8176 - dense_51_mae: 11.5880\n",
      "Epoch 164/200\n",
      "193115/193115 [==============================] - 22s 115us/sample - loss: 13879.6988 - dense_40_loss: 3126.6167 - dense_41_loss: 855.1972 - dense_42_loss: 403.2134 - dense_43_loss: 3124.4409 - dense_44_loss: 780.9089 - dense_45_loss: 472.9875 - dense_46_loss: 2098.2595 - dense_47_loss: 63.6265 - dense_48_loss: 398.9976 - dense_49_loss: 2165.4617 - dense_50_loss: 58.0996 - dense_51_loss: 331.4630 - dense_40_mae: 34.9443 - dense_41_mae: 20.5067 - dense_42_mae: 13.4013 - dense_43_mae: 34.8962 - dense_44_mae: 19.4456 - dense_45_mae: 14.9613 - dense_46_mae: 28.8656 - dense_47_mae: 5.0568 - dense_48_mae: 13.8398 - dense_49_mae: 29.5475 - dense_50_mae: 4.7378 - dense_51_mae: 11.5486\n",
      "Epoch 165/200\n"
     ]
    },
    {
     "name": "stdout",
     "output_type": "stream",
     "text": [
      "193115/193115 [==============================] - 23s 118us/sample - loss: 13920.1290 - dense_40_loss: 3145.5566 - dense_41_loss: 860.0412 - dense_42_loss: 404.0586 - dense_43_loss: 3119.6780 - dense_44_loss: 783.3799 - dense_45_loss: 473.9685 - dense_46_loss: 2100.3352 - dense_47_loss: 64.7901 - dense_48_loss: 398.2530 - dense_49_loss: 2180.0532 - dense_50_loss: 58.5170 - dense_51_loss: 331.6745 - dense_40_mae: 35.0950 - dense_41_mae: 20.6590 - dense_42_mae: 13.4636 - dense_43_mae: 34.8715 - dense_44_mae: 19.5054 - dense_45_mae: 14.9437 - dense_46_mae: 28.9475 - dense_47_mae: 5.1280 - dense_48_mae: 13.8455 - dense_49_mae: 29.6633 - dense_50_mae: 4.7774 - dense_51_mae: 11.5272\n",
      "Epoch 166/200\n",
      "193115/193115 [==============================] - 22s 114us/sample - loss: 13901.0369 - dense_40_loss: 3143.9795 - dense_41_loss: 857.9847 - dense_42_loss: 405.6055 - dense_43_loss: 3122.8801 - dense_44_loss: 782.1752 - dense_45_loss: 470.5519 - dense_46_loss: 2099.3340 - dense_47_loss: 65.1232 - dense_48_loss: 397.4964 - dense_49_loss: 2165.3501 - dense_50_loss: 59.7825 - dense_51_loss: 331.0364 - dense_40_mae: 35.0959 - dense_41_mae: 20.5699 - dense_42_mae: 13.4841 - dense_43_mae: 34.9087 - dense_44_mae: 19.4811 - dense_45_mae: 14.8810 - dense_46_mae: 28.9571 - dense_47_mae: 5.1484 - dense_48_mae: 13.8147 - dense_49_mae: 29.5383 - dense_50_mae: 4.8505 - dense_51_mae: 11.5264\n",
      "Epoch 167/200\n",
      "193115/193115 [==============================] - 22s 115us/sample - loss: 13899.1954 - dense_40_loss: 3139.2095 - dense_41_loss: 864.3907 - dense_42_loss: 404.0042 - dense_43_loss: 3118.2615 - dense_44_loss: 781.5359 - dense_45_loss: 473.5345 - dense_46_loss: 2098.7622 - dense_47_loss: 65.0758 - dense_48_loss: 397.3215 - dense_49_loss: 2166.0576 - dense_50_loss: 59.2224 - dense_51_loss: 331.1659 - dense_40_mae: 35.1032 - dense_41_mae: 20.6490 - dense_42_mae: 13.4405 - dense_43_mae: 34.9275 - dense_44_mae: 19.4769 - dense_45_mae: 14.9741 - dense_46_mae: 28.9457 - dense_47_mae: 5.1494 - dense_48_mae: 13.8095 - dense_49_mae: 29.6304 - dense_50_mae: 4.8195 - dense_51_mae: 11.5322\n",
      "Epoch 168/200\n",
      "193115/193115 [==============================] - 22s 115us/sample - loss: 13919.8520 - dense_40_loss: 3137.1177 - dense_41_loss: 863.6135 - dense_42_loss: 404.3068 - dense_43_loss: 3124.1311 - dense_44_loss: 782.8918 - dense_45_loss: 475.1713 - dense_46_loss: 2105.9993 - dense_47_loss: 64.9767 - dense_48_loss: 397.8304 - dense_49_loss: 2173.6284 - dense_50_loss: 58.8141 - dense_51_loss: 330.6020 - dense_40_mae: 35.0949 - dense_41_mae: 20.6714 - dense_42_mae: 13.4413 - dense_43_mae: 34.9011 - dense_44_mae: 19.5017 - dense_45_mae: 15.0066 - dense_46_mae: 29.0012 - dense_47_mae: 5.1410 - dense_48_mae: 13.8201 - dense_49_mae: 29.5960 - dense_50_mae: 4.8157 - dense_51_mae: 11.5016\n",
      "Epoch 169/200\n",
      "193115/193115 [==============================] - 22s 114us/sample - loss: 13903.1843 - dense_40_loss: 3133.6951 - dense_41_loss: 853.7714 - dense_42_loss: 404.7480 - dense_43_loss: 3125.0967 - dense_44_loss: 780.0188 - dense_45_loss: 472.7115 - dense_46_loss: 2101.6272 - dense_47_loss: 64.9397 - dense_48_loss: 397.8787 - dense_49_loss: 2176.0967 - dense_50_loss: 58.9438 - dense_51_loss: 332.8045 - dense_40_mae: 35.0868 - dense_41_mae: 20.5111 - dense_42_mae: 13.4580 - dense_43_mae: 35.0505 - dense_44_mae: 19.4497 - dense_45_mae: 14.9703 - dense_46_mae: 28.9564 - dense_47_mae: 5.1647 - dense_48_mae: 13.8104 - dense_49_mae: 29.6853 - dense_50_mae: 4.8285 - dense_51_mae: 11.5818\n",
      "Epoch 170/200\n",
      "193115/193115 [==============================] - 22s 114us/sample - loss: 13838.0274 - dense_40_loss: 3123.5596 - dense_41_loss: 857.2413 - dense_42_loss: 403.6048 - dense_43_loss: 3107.6467 - dense_44_loss: 779.6795 - dense_45_loss: 471.0541 - dense_46_loss: 2080.6858 - dense_47_loss: 63.9863 - dense_48_loss: 398.3098 - dense_49_loss: 2162.6912 - dense_50_loss: 58.1148 - dense_51_loss: 331.7348 - dense_40_mae: 34.8451 - dense_41_mae: 20.5617 - dense_42_mae: 13.4214 - dense_43_mae: 34.7558 - dense_44_mae: 19.4354 - dense_45_mae: 14.9126 - dense_46_mae: 28.7560 - dense_47_mae: 5.0881 - dense_48_mae: 13.8345 - dense_49_mae: 29.5121 - dense_50_mae: 4.7619 - dense_51_mae: 11.5628\n",
      "Epoch 171/200\n",
      "193115/193115 [==============================] - 22s 114us/sample - loss: 13829.2959 - dense_40_loss: 3117.1548 - dense_41_loss: 858.0533 - dense_42_loss: 402.6546 - dense_43_loss: 3107.3674 - dense_44_loss: 782.1238 - dense_45_loss: 471.5772 - dense_46_loss: 2086.3188 - dense_47_loss: 64.7400 - dense_48_loss: 400.4623 - dense_49_loss: 2148.0615 - dense_50_loss: 59.2836 - dense_51_loss: 331.9660 - dense_40_mae: 34.9476 - dense_41_mae: 20.6191 - dense_42_mae: 13.4150 - dense_43_mae: 34.7077 - dense_44_mae: 19.5423 - dense_45_mae: 14.9478 - dense_46_mae: 28.8041 - dense_47_mae: 5.1611 - dense_48_mae: 13.8901 - dense_49_mae: 29.4239 - dense_50_mae: 4.8665 - dense_51_mae: 11.5448\n",
      "Epoch 172/200\n",
      "193115/193115 [==============================] - 22s 114us/sample - loss: 13855.8666 - dense_40_loss: 3132.6960 - dense_41_loss: 858.1438 - dense_42_loss: 402.3422 - dense_43_loss: 3105.6226 - dense_44_loss: 781.7904 - dense_45_loss: 471.8513 - dense_46_loss: 2089.3230 - dense_47_loss: 64.4878 - dense_48_loss: 397.4888 - dense_49_loss: 2161.0781 - dense_50_loss: 58.8102 - dense_51_loss: 331.7325 - dense_40_mae: 35.0847 - dense_41_mae: 20.6139 - dense_42_mae: 13.4031 - dense_43_mae: 34.8371 - dense_44_mae: 19.4887 - dense_45_mae: 14.9402 - dense_46_mae: 28.8715 - dense_47_mae: 5.1333 - dense_48_mae: 13.8142 - dense_49_mae: 29.6502 - dense_50_mae: 4.8143 - dense_51_mae: 11.5576\n",
      "Epoch 173/200\n",
      "193115/193115 [==============================] - 22s 115us/sample - loss: 13810.9043 - dense_40_loss: 3112.5730 - dense_41_loss: 853.0295 - dense_42_loss: 403.8737 - dense_43_loss: 3093.8755 - dense_44_loss: 777.9271 - dense_45_loss: 473.7295 - dense_46_loss: 2080.2683 - dense_47_loss: 63.8564 - dense_48_loss: 397.6672 - dense_49_loss: 2162.3755 - dense_50_loss: 58.2828 - dense_51_loss: 332.6340 - dense_40_mae: 34.9559 - dense_41_mae: 20.5193 - dense_42_mae: 13.4516 - dense_43_mae: 34.8237 - dense_44_mae: 19.4314 - dense_45_mae: 14.9983 - dense_46_mae: 28.7896 - dense_47_mae: 5.1017 - dense_48_mae: 13.8181 - dense_49_mae: 29.5958 - dense_50_mae: 4.7907 - dense_51_mae: 11.5766\n",
      "Epoch 174/200\n",
      "193115/193115 [==============================] - 22s 112us/sample - loss: 13819.3704 - dense_40_loss: 3118.8442 - dense_41_loss: 855.5674 - dense_42_loss: 402.6647 - dense_43_loss: 3096.4111 - dense_44_loss: 783.1656 - dense_45_loss: 471.7700 - dense_46_loss: 2081.6929 - dense_47_loss: 64.1581 - dense_48_loss: 398.8716 - dense_49_loss: 2154.1467 - dense_50_loss: 58.6439 - dense_51_loss: 333.2611 - dense_40_mae: 34.8850 - dense_41_mae: 20.5635 - dense_42_mae: 13.4198 - dense_43_mae: 34.7480 - dense_44_mae: 19.5292 - dense_45_mae: 14.9469 - dense_46_mae: 28.8445 - dense_47_mae: 5.1103 - dense_48_mae: 13.8705 - dense_49_mae: 29.5100 - dense_50_mae: 4.7921 - dense_51_mae: 11.5973\n",
      "Epoch 175/200\n",
      "193115/193115 [==============================] - 22s 116us/sample - loss: 13824.7218 - dense_40_loss: 3122.8052 - dense_41_loss: 856.3342 - dense_42_loss: 403.5606 - dense_43_loss: 3099.6060 - dense_44_loss: 779.0585 - dense_45_loss: 472.0139 - dense_46_loss: 2087.6445 - dense_47_loss: 64.7840 - dense_48_loss: 399.0280 - dense_49_loss: 2150.0974 - dense_50_loss: 58.6175 - dense_51_loss: 330.9540 - dense_40_mae: 35.0914 - dense_41_mae: 20.5471 - dense_42_mae: 13.4195 - dense_43_mae: 34.8718 - dense_44_mae: 19.4402 - dense_45_mae: 14.9365 - dense_46_mae: 28.8958 - dense_47_mae: 5.1464 - dense_48_mae: 13.8600 - dense_49_mae: 29.4495 - dense_50_mae: 4.8008 - dense_51_mae: 11.5440\n",
      "Epoch 176/200\n"
     ]
    },
    {
     "name": "stdout",
     "output_type": "stream",
     "text": [
      "193115/193115 [==============================] - 22s 115us/sample - loss: 13779.1410 - dense_40_loss: 3097.2363 - dense_41_loss: 857.5582 - dense_42_loss: 403.6060 - dense_43_loss: 3096.2354 - dense_44_loss: 782.7002 - dense_45_loss: 472.4253 - dense_46_loss: 2078.1528 - dense_47_loss: 64.0948 - dense_48_loss: 397.5252 - dense_49_loss: 2140.3496 - dense_50_loss: 58.0028 - dense_51_loss: 330.7577 - dense_40_mae: 34.7754 - dense_41_mae: 20.5745 - dense_42_mae: 13.4495 - dense_43_mae: 34.7549 - dense_44_mae: 19.5092 - dense_45_mae: 14.9642 - dense_46_mae: 28.7098 - dense_47_mae: 5.0987 - dense_48_mae: 13.8196 - dense_49_mae: 29.3808 - dense_50_mae: 4.7710 - dense_51_mae: 11.5346\n",
      "Epoch 177/200\n",
      "193115/193115 [==============================] - 22s 115us/sample - loss: 13809.3291 - dense_40_loss: 3116.2644 - dense_41_loss: 855.2313 - dense_42_loss: 403.3789 - dense_43_loss: 3106.1265 - dense_44_loss: 777.2869 - dense_45_loss: 471.7047 - dense_46_loss: 2076.0012 - dense_47_loss: 63.3935 - dense_48_loss: 398.3820 - dense_49_loss: 2151.1274 - dense_50_loss: 58.5325 - dense_51_loss: 331.9465 - dense_40_mae: 34.9285 - dense_41_mae: 20.5520 - dense_42_mae: 13.4318 - dense_43_mae: 34.8287 - dense_44_mae: 19.4257 - dense_45_mae: 14.9288 - dense_46_mae: 28.7893 - dense_47_mae: 5.0902 - dense_48_mae: 13.8331 - dense_49_mae: 29.5475 - dense_50_mae: 4.8055 - dense_51_mae: 11.5806\n",
      "Epoch 178/200\n",
      "193115/193115 [==============================] - 21s 111us/sample - loss: 13794.9069 - dense_40_loss: 3115.1672 - dense_41_loss: 855.1898 - dense_42_loss: 403.1048 - dense_43_loss: 3093.2993 - dense_44_loss: 779.6637 - dense_45_loss: 470.5856 - dense_46_loss: 2075.7856 - dense_47_loss: 64.3476 - dense_48_loss: 398.5707 - dense_49_loss: 2150.3923 - dense_50_loss: 58.0790 - dense_51_loss: 330.7455 - dense_40_mae: 35.0325 - dense_41_mae: 20.5609 - dense_42_mae: 13.4296 - dense_43_mae: 34.8550 - dense_44_mae: 19.4998 - dense_45_mae: 14.9442 - dense_46_mae: 28.8308 - dense_47_mae: 5.1308 - dense_48_mae: 13.8524 - dense_49_mae: 29.5143 - dense_50_mae: 4.7881 - dense_51_mae: 11.5264\n",
      "Epoch 179/200\n",
      "193115/193115 [==============================] - 23s 118us/sample - loss: 13793.3347 - dense_40_loss: 3109.4910 - dense_41_loss: 857.0636 - dense_42_loss: 403.5961 - dense_43_loss: 3092.8416 - dense_44_loss: 778.5953 - dense_45_loss: 470.9927 - dense_46_loss: 2078.3828 - dense_47_loss: 63.8818 - dense_48_loss: 398.7530 - dense_49_loss: 2150.2473 - dense_50_loss: 58.5893 - dense_51_loss: 331.2321 - dense_40_mae: 34.8852 - dense_41_mae: 20.6086 - dense_42_mae: 13.4130 - dense_43_mae: 34.8140 - dense_44_mae: 19.4796 - dense_45_mae: 14.9335 - dense_46_mae: 28.8350 - dense_47_mae: 5.1269 - dense_48_mae: 13.8542 - dense_49_mae: 29.4724 - dense_50_mae: 4.8067 - dense_51_mae: 11.5208\n",
      "Epoch 180/200\n",
      "193115/193115 [==============================] - 22s 115us/sample - loss: 13761.3604 - dense_40_loss: 3108.0410 - dense_41_loss: 850.0750 - dense_42_loss: 400.9720 - dense_43_loss: 3094.1956 - dense_44_loss: 771.9540 - dense_45_loss: 468.8196 - dense_46_loss: 2067.2842 - dense_47_loss: 64.3310 - dense_48_loss: 397.9006 - dense_49_loss: 2148.3718 - dense_50_loss: 58.6326 - dense_51_loss: 331.6494 - dense_40_mae: 34.8884 - dense_41_mae: 20.4766 - dense_42_mae: 13.3566 - dense_43_mae: 34.7931 - dense_44_mae: 19.3176 - dense_45_mae: 14.8734 - dense_46_mae: 28.6453 - dense_47_mae: 5.1374 - dense_48_mae: 13.8297 - dense_49_mae: 29.4799 - dense_50_mae: 4.8260 - dense_51_mae: 11.5490\n",
      "Epoch 181/200\n",
      "193115/193115 [==============================] - 22s 115us/sample - loss: 13780.7619 - dense_40_loss: 3105.8433 - dense_41_loss: 851.5923 - dense_42_loss: 403.8459 - dense_43_loss: 3101.8064 - dense_44_loss: 774.8940 - dense_45_loss: 469.8673 - dense_46_loss: 2073.0686 - dense_47_loss: 63.7685 - dense_48_loss: 397.5573 - dense_49_loss: 2148.2678 - dense_50_loss: 57.5390 - dense_51_loss: 332.8921 - dense_40_mae: 34.8347 - dense_41_mae: 20.5304 - dense_42_mae: 13.4397 - dense_43_mae: 34.8789 - dense_44_mae: 19.4361 - dense_45_mae: 14.9213 - dense_46_mae: 28.7847 - dense_47_mae: 5.0910 - dense_48_mae: 13.8472 - dense_49_mae: 29.4727 - dense_50_mae: 4.7485 - dense_51_mae: 11.5862\n",
      "Epoch 182/200\n",
      "193115/193115 [==============================] - 22s 112us/sample - loss: 13715.5498 - dense_40_loss: 3097.8132 - dense_41_loss: 846.3942 - dense_42_loss: 402.1407 - dense_43_loss: 3076.8704 - dense_44_loss: 770.8131 - dense_45_loss: 468.2536 - dense_46_loss: 2060.6248 - dense_47_loss: 63.3532 - dense_48_loss: 397.8864 - dense_49_loss: 2141.5520 - dense_50_loss: 57.8528 - dense_51_loss: 331.6739 - dense_40_mae: 34.8444 - dense_41_mae: 20.4519 - dense_42_mae: 13.4191 - dense_43_mae: 34.6951 - dense_44_mae: 19.3273 - dense_45_mae: 14.8857 - dense_46_mae: 28.6105 - dense_47_mae: 5.0889 - dense_48_mae: 13.8466 - dense_49_mae: 29.4669 - dense_50_mae: 4.7827 - dense_51_mae: 11.5547\n",
      "Epoch 183/200\n",
      "193115/193115 [==============================] - 22s 113us/sample - loss: 13747.9531 - dense_40_loss: 3093.3025 - dense_41_loss: 850.2503 - dense_42_loss: 403.1911 - dense_43_loss: 3087.6697 - dense_44_loss: 775.0395 - dense_45_loss: 470.5370 - dense_46_loss: 2074.3462 - dense_47_loss: 63.6878 - dense_48_loss: 399.5243 - dense_49_loss: 2141.5383 - dense_50_loss: 57.9084 - dense_51_loss: 330.9069 - dense_40_mae: 34.8247 - dense_41_mae: 20.5149 - dense_42_mae: 13.4390 - dense_43_mae: 34.7536 - dense_44_mae: 19.3900 - dense_45_mae: 14.9259 - dense_46_mae: 28.7528 - dense_47_mae: 5.1320 - dense_48_mae: 13.8798 - dense_49_mae: 29.3814 - dense_50_mae: 4.7928 - dense_51_mae: 11.5313\n",
      "Epoch 184/200\n",
      "193115/193115 [==============================] - 22s 113us/sample - loss: 13719.1422 - dense_40_loss: 3089.0823 - dense_41_loss: 849.2431 - dense_42_loss: 402.1815 - dense_43_loss: 3074.4749 - dense_44_loss: 775.2516 - dense_45_loss: 467.7053 - dense_46_loss: 2076.1018 - dense_47_loss: 64.1839 - dense_48_loss: 399.3357 - dense_49_loss: 2132.1560 - dense_50_loss: 58.1358 - dense_51_loss: 331.1911 - dense_40_mae: 34.7546 - dense_41_mae: 20.5099 - dense_42_mae: 13.4123 - dense_43_mae: 34.5458 - dense_44_mae: 19.4194 - dense_45_mae: 14.9032 - dense_46_mae: 28.8040 - dense_47_mae: 5.1681 - dense_48_mae: 13.8742 - dense_49_mae: 29.3375 - dense_50_mae: 4.8188 - dense_51_mae: 11.5416\n",
      "Epoch 185/200\n",
      "193115/193115 [==============================] - 22s 114us/sample - loss: 13695.9306 - dense_40_loss: 3074.6643 - dense_41_loss: 851.6777 - dense_42_loss: 402.4454 - dense_43_loss: 3077.7522 - dense_44_loss: 771.5325 - dense_45_loss: 469.9418 - dense_46_loss: 2058.8882 - dense_47_loss: 63.4002 - dense_48_loss: 397.2047 - dense_49_loss: 2138.4968 - dense_50_loss: 57.5232 - dense_51_loss: 331.5754 - dense_40_mae: 34.7166 - dense_41_mae: 20.5577 - dense_42_mae: 13.4253 - dense_43_mae: 34.6529 - dense_44_mae: 19.3369 - dense_45_mae: 14.9359 - dense_46_mae: 28.6422 - dense_47_mae: 5.0990 - dense_48_mae: 13.8254 - dense_49_mae: 29.4576 - dense_50_mae: 4.7661 - dense_51_mae: 11.5512\n",
      "Epoch 186/200\n",
      "193115/193115 [==============================] - 22s 112us/sample - loss: 13712.6280 - dense_40_loss: 3090.7188 - dense_41_loss: 854.5162 - dense_42_loss: 405.7364 - dense_43_loss: 3074.8406 - dense_44_loss: 780.1271 - dense_45_loss: 469.6790 - dense_46_loss: 2056.7539 - dense_47_loss: 62.7658 - dense_48_loss: 396.8207 - dense_49_loss: 2131.0813 - dense_50_loss: 57.7475 - dense_51_loss: 331.2124 - dense_40_mae: 34.8028 - dense_41_mae: 20.5975 - dense_42_mae: 13.4872 - dense_43_mae: 34.6169 - dense_44_mae: 19.5106 - dense_45_mae: 14.9109 - dense_46_mae: 28.6362 - dense_47_mae: 5.0612 - dense_48_mae: 13.8071 - dense_49_mae: 29.3293 - dense_50_mae: 4.7670 - dense_51_mae: 11.5166\n",
      "Epoch 187/200\n"
     ]
    },
    {
     "name": "stdout",
     "output_type": "stream",
     "text": [
      "193115/193115 [==============================] - 21s 107us/sample - loss: 13732.5737 - dense_40_loss: 3096.1633 - dense_41_loss: 848.6868 - dense_42_loss: 403.2871 - dense_43_loss: 3070.7710 - dense_44_loss: 773.6176 - dense_45_loss: 467.9265 - dense_46_loss: 2079.4873 - dense_47_loss: 63.0206 - dense_48_loss: 397.2707 - dense_49_loss: 2142.3430 - dense_50_loss: 57.3084 - dense_51_loss: 333.1016 - dense_40_mae: 34.8690 - dense_41_mae: 20.4893 - dense_42_mae: 13.4319 - dense_43_mae: 34.6559 - dense_44_mae: 19.3831 - dense_45_mae: 14.8819 - dense_46_mae: 28.9187 - dense_47_mae: 5.0777 - dense_48_mae: 13.8325 - dense_49_mae: 29.4398 - dense_50_mae: 4.7546 - dense_51_mae: 11.5873\n",
      "Epoch 188/200\n",
      "193115/193115 [==============================] - 19s 100us/sample - loss: 13699.0838 - dense_40_loss: 3089.8042 - dense_41_loss: 847.6069 - dense_42_loss: 401.1068 - dense_43_loss: 3073.7280 - dense_44_loss: 769.3409 - dense_45_loss: 469.2645 - dense_46_loss: 2065.2444 - dense_47_loss: 62.5048 - dense_48_loss: 398.2385 - dense_49_loss: 2133.7505 - dense_50_loss: 56.8797 - dense_51_loss: 330.7198 - dense_40_mae: 34.8391 - dense_41_mae: 20.4376 - dense_42_mae: 13.3950 - dense_43_mae: 34.6955 - dense_44_mae: 19.3058 - dense_45_mae: 14.9025 - dense_46_mae: 28.7375 - dense_47_mae: 5.0435 - dense_48_mae: 13.8520 - dense_49_mae: 29.3871 - dense_50_mae: 4.7422 - dense_51_mae: 11.5384\n",
      "Epoch 189/200\n",
      "193115/193115 [==============================] - 22s 112us/sample - loss: 13664.2237 - dense_40_loss: 3065.5964 - dense_41_loss: 849.3973 - dense_42_loss: 402.9107 - dense_43_loss: 3060.8352 - dense_44_loss: 773.3027 - dense_45_loss: 467.5305 - dense_46_loss: 2060.8572 - dense_47_loss: 63.1693 - dense_48_loss: 396.8395 - dense_49_loss: 2133.7188 - dense_50_loss: 57.5241 - dense_51_loss: 332.2021 - dense_40_mae: 34.6444 - dense_41_mae: 20.5249 - dense_42_mae: 13.4300 - dense_43_mae: 34.5782 - dense_44_mae: 19.3922 - dense_45_mae: 14.8708 - dense_46_mae: 28.6830 - dense_47_mae: 5.0840 - dense_48_mae: 13.8263 - dense_49_mae: 29.3406 - dense_50_mae: 4.7627 - dense_51_mae: 11.5574\n",
      "Epoch 190/200\n",
      "193115/193115 [==============================] - 22s 115us/sample - loss: 13666.0701 - dense_40_loss: 3075.3870 - dense_41_loss: 847.8645 - dense_42_loss: 401.4041 - dense_43_loss: 3058.0791 - dense_44_loss: 771.0919 - dense_45_loss: 468.6267 - dense_46_loss: 2058.6421 - dense_47_loss: 62.4483 - dense_48_loss: 398.4482 - dense_49_loss: 2136.8005 - dense_50_loss: 56.8522 - dense_51_loss: 330.5928 - dense_40_mae: 34.7700 - dense_41_mae: 20.4794 - dense_42_mae: 13.3888 - dense_43_mae: 34.6490 - dense_44_mae: 19.3556 - dense_45_mae: 14.8965 - dense_46_mae: 28.7180 - dense_47_mae: 5.0428 - dense_48_mae: 13.8530 - dense_49_mae: 29.4361 - dense_50_mae: 4.7314 - dense_51_mae: 11.5187\n",
      "Epoch 191/200\n",
      "193115/193115 [==============================] - 21s 110us/sample - loss: 13640.8164 - dense_40_loss: 3078.2007 - dense_41_loss: 844.0890 - dense_42_loss: 400.7058 - dense_43_loss: 3059.3032 - dense_44_loss: 767.2976 - dense_45_loss: 466.2660 - dense_46_loss: 2056.6335 - dense_47_loss: 62.7496 - dense_48_loss: 397.7386 - dense_49_loss: 2119.8845 - dense_50_loss: 57.0109 - dense_51_loss: 331.1306 - dense_40_mae: 34.7623 - dense_41_mae: 20.4424 - dense_42_mae: 13.3795 - dense_43_mae: 34.6246 - dense_44_mae: 19.2875 - dense_45_mae: 14.8656 - dense_46_mae: 28.6621 - dense_47_mae: 5.0628 - dense_48_mae: 13.8311 - dense_49_mae: 29.2399 - dense_50_mae: 4.7254 - dense_51_mae: 11.5436\n",
      "Epoch 192/200\n",
      "193115/193115 [==============================] - 22s 116us/sample - loss: 13641.6712 - dense_40_loss: 3068.1912 - dense_41_loss: 851.6798 - dense_42_loss: 403.6262 - dense_43_loss: 3046.5220 - dense_44_loss: 776.5262 - dense_45_loss: 468.8224 - dense_46_loss: 2050.9658 - dense_47_loss: 62.5796 - dense_48_loss: 397.1705 - dense_49_loss: 2128.3281 - dense_50_loss: 57.1091 - dense_51_loss: 330.6357 - dense_40_mae: 34.7053 - dense_41_mae: 20.5527 - dense_42_mae: 13.4432 - dense_43_mae: 34.5852 - dense_44_mae: 19.4442 - dense_45_mae: 14.9349 - dense_46_mae: 28.6248 - dense_47_mae: 5.0549 - dense_48_mae: 13.8180 - dense_49_mae: 29.3716 - dense_50_mae: 4.7514 - dense_51_mae: 11.5155\n",
      "Epoch 193/200\n",
      "193115/193115 [==============================] - 22s 116us/sample - loss: 13622.1671 - dense_40_loss: 3069.2969 - dense_41_loss: 841.7878 - dense_42_loss: 401.1676 - dense_43_loss: 3050.9827 - dense_44_loss: 765.2822 - dense_45_loss: 467.1945 - dense_46_loss: 2045.2042 - dense_47_loss: 63.2908 - dense_48_loss: 398.2832 - dense_49_loss: 2131.7900 - dense_50_loss: 57.5092 - dense_51_loss: 330.8090 - dense_40_mae: 34.6919 - dense_41_mae: 20.3971 - dense_42_mae: 13.3901 - dense_43_mae: 34.4598 - dense_44_mae: 19.2761 - dense_45_mae: 14.8787 - dense_46_mae: 28.5611 - dense_47_mae: 5.1204 - dense_48_mae: 13.8500 - dense_49_mae: 29.3249 - dense_50_mae: 4.7859 - dense_51_mae: 11.5181\n",
      "Epoch 194/200\n",
      "193115/193115 [==============================] - 22s 114us/sample - loss: 13636.7474 - dense_40_loss: 3069.1328 - dense_41_loss: 845.6779 - dense_42_loss: 401.3871 - dense_43_loss: 3059.8477 - dense_44_loss: 768.7526 - dense_45_loss: 468.8459 - dense_46_loss: 2053.8884 - dense_47_loss: 62.1781 - dense_48_loss: 396.8200 - dense_49_loss: 2121.8352 - dense_50_loss: 56.8126 - dense_51_loss: 332.4097 - dense_40_mae: 34.7340 - dense_41_mae: 20.4293 - dense_42_mae: 13.3922 - dense_43_mae: 34.6935 - dense_44_mae: 19.3194 - dense_45_mae: 14.9127 - dense_46_mae: 28.6593 - dense_47_mae: 5.0280 - dense_48_mae: 13.8121 - dense_49_mae: 29.3651 - dense_50_mae: 4.7133 - dense_51_mae: 11.5823\n",
      "Epoch 195/200\n",
      "193115/193115 [==============================] - 22s 113us/sample - loss: 13632.2252 - dense_40_loss: 3068.9148 - dense_41_loss: 840.0223 - dense_42_loss: 400.6374 - dense_43_loss: 3066.1250 - dense_44_loss: 763.5136 - dense_45_loss: 465.8746 - dense_46_loss: 2053.4937 - dense_47_loss: 63.3637 - dense_48_loss: 397.5705 - dense_49_loss: 2124.1606 - dense_50_loss: 57.5089 - dense_51_loss: 331.8369 - dense_40_mae: 34.7538 - dense_41_mae: 20.3489 - dense_42_mae: 13.3908 - dense_43_mae: 34.6360 - dense_44_mae: 19.2215 - dense_45_mae: 14.8678 - dense_46_mae: 28.6380 - dense_47_mae: 5.1011 - dense_48_mae: 13.8311 - dense_49_mae: 29.3773 - dense_50_mae: 4.7797 - dense_51_mae: 11.5494\n",
      "Epoch 196/200\n",
      "193115/193115 [==============================] - 22s 113us/sample - loss: 13626.9258 - dense_40_loss: 3076.7700 - dense_41_loss: 841.5879 - dense_42_loss: 399.8538 - dense_43_loss: 3052.5696 - dense_44_loss: 768.8208 - dense_45_loss: 466.2939 - dense_46_loss: 2049.9854 - dense_47_loss: 63.1265 - dense_48_loss: 397.1059 - dense_49_loss: 2122.2617 - dense_50_loss: 57.4781 - dense_51_loss: 331.2180 - dense_40_mae: 34.8348 - dense_41_mae: 20.3730 - dense_42_mae: 13.3770 - dense_43_mae: 34.5629 - dense_44_mae: 19.3065 - dense_45_mae: 14.8608 - dense_46_mae: 28.5902 - dense_47_mae: 5.1217 - dense_48_mae: 13.8158 - dense_49_mae: 29.3368 - dense_50_mae: 4.7840 - dense_51_mae: 11.5362\n",
      "Epoch 197/200\n",
      "193115/193115 [==============================] - 22s 114us/sample - loss: 13667.3333 - dense_40_loss: 3071.0071 - dense_41_loss: 849.2827 - dense_42_loss: 402.6613 - dense_43_loss: 3058.5046 - dense_44_loss: 774.3727 - dense_45_loss: 466.5399 - dense_46_loss: 2066.4773 - dense_47_loss: 63.2923 - dense_48_loss: 397.5062 - dense_49_loss: 2128.4011 - dense_50_loss: 57.3215 - dense_51_loss: 332.0833 - dense_40_mae: 34.7411 - dense_41_mae: 20.5084 - dense_42_mae: 13.4178 - dense_43_mae: 34.6883 - dense_44_mae: 19.4458 - dense_45_mae: 14.8833 - dense_46_mae: 28.7445 - dense_47_mae: 5.1059 - dense_48_mae: 13.8336 - dense_49_mae: 29.4007 - dense_50_mae: 4.7770 - dense_51_mae: 11.5537\n",
      "Epoch 198/200\n"
     ]
    },
    {
     "name": "stdout",
     "output_type": "stream",
     "text": [
      "193115/193115 [==============================] - 22s 116us/sample - loss: 13592.9697 - dense_40_loss: 3065.8877 - dense_41_loss: 835.5238 - dense_42_loss: 400.2976 - dense_43_loss: 3045.9075 - dense_44_loss: 763.3950 - dense_45_loss: 466.0879 - dense_46_loss: 2042.2784 - dense_47_loss: 63.7600 - dense_48_loss: 397.4050 - dense_49_loss: 2123.7749 - dense_50_loss: 57.3737 - dense_51_loss: 331.8658 - dense_40_mae: 34.6303 - dense_41_mae: 20.2492 - dense_42_mae: 13.3610 - dense_43_mae: 34.5296 - dense_44_mae: 19.2040 - dense_45_mae: 14.8520 - dense_46_mae: 28.5851 - dense_47_mae: 5.1590 - dense_48_mae: 13.8310 - dense_49_mae: 29.3443 - dense_50_mae: 4.7909 - dense_51_mae: 11.5558\n",
      "Epoch 199/200\n",
      "193115/193115 [==============================] - 22s 115us/sample - loss: 13566.1841 - dense_40_loss: 3051.0762 - dense_41_loss: 842.4949 - dense_42_loss: 400.7049 - dense_43_loss: 3029.3738 - dense_44_loss: 762.9007 - dense_45_loss: 465.2168 - dense_46_loss: 2047.4600 - dense_47_loss: 62.3468 - dense_48_loss: 395.3493 - dense_49_loss: 2119.5146 - dense_50_loss: 56.9351 - dense_51_loss: 332.2092 - dense_40_mae: 34.5524 - dense_41_mae: 20.4284 - dense_42_mae: 13.4051 - dense_43_mae: 34.4479 - dense_44_mae: 19.2536 - dense_45_mae: 14.8499 - dense_46_mae: 28.5506 - dense_47_mae: 5.0642 - dense_48_mae: 13.7856 - dense_49_mae: 29.3278 - dense_50_mae: 4.7474 - dense_51_mae: 11.5646\n",
      "Epoch 200/200\n",
      "193115/193115 [==============================] - 22s 113us/sample - loss: 13582.5153 - dense_40_loss: 3065.1680 - dense_41_loss: 840.7020 - dense_42_loss: 400.4937 - dense_43_loss: 3039.2544 - dense_44_loss: 764.6465 - dense_45_loss: 465.2984 - dense_46_loss: 2040.3896 - dense_47_loss: 63.3272 - dense_48_loss: 396.8424 - dense_49_loss: 2116.8135 - dense_50_loss: 56.9400 - dense_51_loss: 331.6749 - dense_40_mae: 34.7001 - dense_41_mae: 20.3805 - dense_42_mae: 13.3833 - dense_43_mae: 34.5668 - dense_44_mae: 19.2648 - dense_45_mae: 14.8790 - dense_46_mae: 28.6093 - dense_47_mae: 5.1007 - dense_48_mae: 13.8247 - dense_49_mae: 29.3204 - dense_50_mae: 4.7623 - dense_51_mae: 11.5376\n"
     ]
    }
   ],
   "source": [
    "model.compile(optimizer='adam', loss='mse',metrics=['mae'])\n",
    "history = model.fit(X_train,[Y_train4,Y_train5,Y_train6,Y_train10,Y_train11,Y_train12,Y_train16,Y_train17,Y_train18,Y_train22,Y_train23,Y_train24], epochs= 200, batch_size=128)\n",
    "model.save(\"home/iotadmin/notebooks/model/moment_multitask.h5\")\n"
   ]
  },
  {
   "cell_type": "code",
   "execution_count": 6,
   "metadata": {},
   "outputs": [],
   "source": [
    "from tensorflow.keras.models import load_model\n",
    "model = load_model(\"home/iotadmin/notebooks/model/front_rear_2_multitask.h5\")"
   ]
  },
  {
   "cell_type": "code",
   "execution_count": 1,
   "metadata": {},
   "outputs": [],
   "source": [
    "from tensorflow.keras.models import load_model\n",
    "model = load_model(\"home/iotadmin/notebooks/model/moment_multitask.h5\")"
   ]
  },
  {
   "cell_type": "code",
   "execution_count": 7,
   "metadata": {
    "scrolled": false
   },
   "outputs": [],
   "source": [
    "Y_predict4,Y_predict5,Y_predict6,Y_predict10,Y_predict11,Y_predict12,Y_predict16,Y_predict17,Y_predict18,Y_predict22,Y_predict23,Y_predict24 = model.predict(X_test)\n",
    "Y_predict4 =Y_predict4.reshape(Y_predict4.shape[0],)\n",
    "Y_predict5 =Y_predict5.reshape(Y_predict5.shape[0],)\n",
    "Y_predict6 =Y_predict6.reshape(Y_predict6.shape[0],)\n",
    "Y_predict10 =Y_predict10.reshape(Y_predict10.shape[0],)\n",
    "Y_predict11 =Y_predict11.reshape(Y_predict11.shape[0],)\n",
    "Y_predict12 =Y_predict12.reshape(Y_predict12.shape[0],)\n",
    "Y_predict16 =Y_predict16.reshape(Y_predict16.shape[0],)\n",
    "Y_predict17 =Y_predict17.reshape(Y_predict17.shape[0],)\n",
    "Y_predict18 =Y_predict18.reshape(Y_predict18.shape[0],)\n",
    "Y_predict22 =Y_predict22.reshape(Y_predict22.shape[0],)\n",
    "Y_predict23 =Y_predict23.reshape(Y_predict23.shape[0],)\n",
    "Y_predict24 =Y_predict24.reshape(Y_predict24.shape[0],)"
   ]
  },
  {
   "cell_type": "code",
   "execution_count": 9,
   "metadata": {
    "scrolled": true
   },
   "outputs": [
    {
     "name": "stdout",
     "output_type": "stream",
     "text": [
      "87947.27853301654\n",
      "296.55906415588873\n",
      "0.26478284644572003\n",
      "/n\n",
      "1033577.7082134975\n",
      "1016.6502388793785\n",
      "-5.03472219687274\n",
      "/n\n",
      "16694.152985738154\n",
      "129.20585507529506\n",
      "0.05366933016652553\n",
      "/n\n",
      "5904.613051655357\n",
      "76.84148001994338\n",
      "0.7838549592843319\n",
      "/n\n",
      "902.094980254686\n",
      "30.034896042015628\n",
      "0.8186592945000946\n",
      "/n\n",
      "52557.35958886425\n",
      "229.25391946238182\n",
      "-5.492907408372723\n",
      "/n\n",
      "183507.80499911227\n",
      "428.3781098505294\n",
      "-0.41936945093658196\n",
      "/n\n",
      "971974.524173921\n",
      "985.8876833462932\n",
      "-4.681720064778099\n",
      "/n\n",
      "609288.471676383\n",
      "780.569325349378\n",
      "-1.1776281434203697\n",
      "/n\n",
      "73461.14900599714\n",
      "271.0371727383481\n",
      "-1.4024766110141846\n",
      "/n\n",
      "13914.050032555884\n",
      "117.95783158635922\n",
      "-1.3758556820077281\n",
      "/n\n",
      "10487.724174606285\n",
      "102.40959024723361\n",
      "0.18288815898529975\n",
      "/n\n",
      "281957.56210703193\n",
      "530.9967628027802\n",
      "-0.7408227026724123\n",
      "/n\n",
      "459585.2455265932\n",
      "677.9271683054111\n",
      "-2.752196400791947\n",
      "/n\n",
      "7961.434534720508\n",
      "89.22687114720827\n",
      "-0.10239201494975947\n",
      "/n\n",
      "756.1981311737821\n",
      "27.4990569142613\n",
      "0.2998949546433921\n",
      "/n\n",
      "733.7820700161312\n",
      "27.08841209846253\n",
      "0.1391708649602037\n",
      "/n\n",
      "26066.966579652868\n",
      "161.45267597550952\n",
      "0.13003158836543227\n",
      "/n\n",
      "41975.0063516897\n",
      "204.8780279866284\n",
      "0.17052369257688238\n",
      "/n\n",
      "635425.7201397582\n",
      "797.135948342413\n",
      "-4.1602807320269\n",
      "/n\n",
      "13746.098254443225\n",
      "117.24375571621384\n",
      "-1.090365021818441\n",
      "/n\n",
      "373.345938368591\n",
      "19.32216184510913\n",
      "0.5836017411228357\n",
      "/n\n",
      "217.01665038973192\n",
      "14.731485002868242\n",
      "0.30182626407859314\n"
     ]
    }
   ],
   "source": [
    "print((np.corrcoef([Y_test1,Y_predict1])[0][1])**2)\n",
    "print((np.corrcoef([Y_test2,Y_predict2])[0][1])**2)\n",
    "print((np.corrcoef([Y_test3,Y_predict3])[0][1])**2)\n",
    "print((np.corrcoef([Y_test4,Y_predict4])[0][1])**2)\n",
    "print((np.corrcoef([Y_test5,Y_predict5])[0][1])**2)\n",
    "print((np.corrcoef([Y_test6,Y_predict6])[0][1])**2)\n",
    "print((np.corrcoef([Y_test7,Y_predict7])[0][1])**2)\n",
    "print((np.corrcoef([Y_test8,Y_predict8])[0][1])**2)\n",
    "print((np.corrcoef([Y_test9,Y_predict9])[0][1])**2)\n",
    "print((np.corrcoef([Y_test10,Y_predict10])[0][1])**2)\n",
    "print((np.corrcoef([Y_test11,Y_predict11])[0][1])**2)\n",
    "print((np.corrcoef([Y_test12,Y_predict12])[0][1])**2)\n",
    "print((np.corrcoef([Y_test13,Y_predict13])[0][1])**2)\n",
    "print((np.corrcoef([Y_test14,Y_predict14])[0][1])**2)\n",
    "print((np.corrcoef([Y_test15,Y_predict15])[0][1])**2)\n",
    "print((np.corrcoef([Y_test16,Y_predict16])[0][1])**2)\n",
    "print((np.corrcoef([Y_test17,Y_predict17])[0][1])**2)\n",
    "print((np.corrcoef([Y_test18,Y_predict18])[0][1])**2)\n",
    "print((np.corrcoef([Y_test19,Y_predict19])[0][1])**2)\n",
    "print((np.corrcoef([Y_test20,Y_predict20])[0][1])**2)\n",
    "print((np.corrcoef([Y_test21,Y_predict21])[0][1])**2)\n",
    "print((np.corrcoef([Y_test22,Y_predict22])[0][1])**2)\n",
    "print((np.corrcoef([Y_test23,Y_predict23])[0][1])**2)\n",
    "print((np.corrcoef([Y_test24,Y_predict24])[0][1])**2)"
   ]
  },
  {
   "cell_type": "code",
   "execution_count": 8,
   "metadata": {
    "scrolled": true
   },
   "outputs": [],
   "source": [
    "submit = pd.DataFrame({\"FLMX\":Y_test4,\"FLMX_pred\":Y_predict4,\"FLMY\":Y_test5,\"FLMY_pred\":Y_predict5,\"FLMZ\":Y_test6,\"FLMZ_pred\":Y_predict6,\"FRMX\":Y_test10,\"FRMX_pred\":Y_predict10,\"FRMY\":Y_test11,\"FRMY_pred\":Y_predict11,\"FRMZ\":Y_test12,\"FRMZ_pred\":Y_predict12,\"RLMX\":Y_test16,\"RLMX_pred\":Y_predict16,\"RLMY\":Y_test17,\"RLMY_pred\":Y_predict17,\"RLMZ\":Y_test18,\"RLMZ_pred\":Y_predict18,\"RRMX\":Y_test22,\"RRMX_pred\":Y_predict22,\"RRMY\":Y_test23,\"RRMY_pred\":Y_predict23,\"RRMZ\":Y_test24,\"RRMZ_pred\":Y_predict24})\n",
    "submit.to_csv('/home/iotadmin/notebooks/csv/moment_multitask.csv', index = False)"
   ]
  },
  {
   "cell_type": "code",
   "execution_count": 7,
   "metadata": {},
   "outputs": [],
   "source": [
    "Y_predict13,Y_predict14,Y_predict15,Y_predict16,Y_predict17,Y_predict18,Y_predict19,Y_predict20,Y_predict21,Y_predict22,Y_predict23,Y_predict24 = model.predict(X_test)\n",
    "Y_predict13 =Y_predict13.reshape(Y_predict13.shape[0],)\n",
    "Y_predict14 =Y_predict14.reshape(Y_predict14.shape[0],)\n",
    "Y_predict15 =Y_predict15.reshape(Y_predict15.shape[0],)\n",
    "Y_predict16 =Y_predict16.reshape(Y_predict16.shape[0],)\n",
    "Y_predict17 =Y_predict17.reshape(Y_predict17.shape[0],)\n",
    "Y_predict18 =Y_predict18.reshape(Y_predict18.shape[0],)\n",
    "Y_predict19 =Y_predict19.reshape(Y_predict19.shape[0],)\n",
    "Y_predict20 =Y_predict20.reshape(Y_predict20.shape[0],)\n",
    "Y_predict21 =Y_predict21.reshape(Y_predict21.shape[0],)\n",
    "Y_predict22 =Y_predict22.reshape(Y_predict22.shape[0],)\n",
    "Y_predict23 =Y_predict23.reshape(Y_predict23.shape[0],)\n",
    "Y_predict24 =Y_predict24.reshape(Y_predict24.shape[0],)"
   ]
  },
  {
   "cell_type": "code",
   "execution_count": 8,
   "metadata": {},
   "outputs": [],
   "source": [
    "submit = pd.DataFrame({\"RLFX\":Y_test13,\"RLFX_pred\":Y_predict13,\"RLFY\":Y_test14,\"RLFY_pred\":Y_predict14,\"RLFZ\":Y_test15,\"RLFZ_pred\":Y_predict15,\"RLMX\":Y_test16,\"RLMX_pred\":Y_predict16,\"RLMY\":Y_test17,\"RLMY_pred\":Y_predict17,\"RLMZ\":Y_test18,\"RLMZ_pred\":Y_predict18,\"RRFX\":Y_test19,\"RRFX_pred\":Y_predict19,\"RRFY\":Y_test20,\"RRFY_pred\":Y_predict20,\"RRFZ\":Y_test21,\"RRFZ_pred\":Y_predict21,\"RRMX\":Y_test22,\"RRMX_pred\":Y_predict22,\"RRMY\":Y_test23,\"RRMY_pred\":Y_predict23,\"RRMZ\":Y_test24,\"RRMZ_pred\":Y_predict24})\n",
    "submit.to_csv('/home/iotadmin/notebooks/csv/rear_multitask.csv', index = False)"
   ]
  },
  {
   "cell_type": "code",
   "execution_count": 10,
   "metadata": {},
   "outputs": [
    {
     "ename": "NameError",
     "evalue": "name 'Y_predict' is not defined",
     "output_type": "error",
     "traceback": [
      "\u001b[0;31m---------------------------------------------------------------------------\u001b[0m",
      "\u001b[0;31mNameError\u001b[0m                                 Traceback (most recent call last)",
      "\u001b[0;32m<ipython-input-10-8e980f348580>\u001b[0m in \u001b[0;36m<module>\u001b[0;34m\u001b[0m\n\u001b[1;32m      4\u001b[0m \u001b[0;34m\u001b[0m\u001b[0m\n\u001b[1;32m      5\u001b[0m \u001b[0;31m#plt.plot(b.iloc[:500])\u001b[0m\u001b[0;34m\u001b[0m\u001b[0;34m\u001b[0m\u001b[0;34m\u001b[0m\u001b[0m\n\u001b[0;32m----> 6\u001b[0;31m \u001b[0mplt\u001b[0m\u001b[0;34m.\u001b[0m\u001b[0mplot\u001b[0m\u001b[0;34m(\u001b[0m\u001b[0mY_predict\u001b[0m\u001b[0;34m[\u001b[0m\u001b[0;36m0\u001b[0m\u001b[0;34m:\u001b[0m\u001b[0;36m2000\u001b[0m\u001b[0;34m]\u001b[0m\u001b[0;34m,\u001b[0m\u001b[0mmarker\u001b[0m\u001b[0;34m=\u001b[0m\u001b[0;34m'o'\u001b[0m\u001b[0;34m,\u001b[0m\u001b[0mlinestyle\u001b[0m\u001b[0;34m=\u001b[0m\u001b[0;34m'solid'\u001b[0m\u001b[0;34m,\u001b[0m\u001b[0mlabel\u001b[0m\u001b[0;34m=\u001b[0m\u001b[0;34m'a'\u001b[0m\u001b[0;34m)\u001b[0m\u001b[0;34m\u001b[0m\u001b[0;34m\u001b[0m\u001b[0m\n\u001b[0m\u001b[1;32m      7\u001b[0m \u001b[0mplt\u001b[0m\u001b[0;34m.\u001b[0m\u001b[0mplot\u001b[0m\u001b[0;34m(\u001b[0m\u001b[0mY_test\u001b[0m\u001b[0;34m[\u001b[0m\u001b[0;36m0\u001b[0m\u001b[0;34m:\u001b[0m\u001b[0;36m2000\u001b[0m\u001b[0;34m]\u001b[0m\u001b[0;34m,\u001b[0m\u001b[0mmarker\u001b[0m\u001b[0;34m=\u001b[0m\u001b[0;34m'o'\u001b[0m\u001b[0;34m,\u001b[0m\u001b[0mlinestyle\u001b[0m\u001b[0;34m=\u001b[0m\u001b[0;34m'solid'\u001b[0m\u001b[0;34m,\u001b[0m\u001b[0mlabel\u001b[0m\u001b[0;34m=\u001b[0m\u001b[0;34m'b'\u001b[0m\u001b[0;34m)\u001b[0m\u001b[0;34m\u001b[0m\u001b[0;34m\u001b[0m\u001b[0m\n\u001b[1;32m      8\u001b[0m \u001b[0;31m#plt.plot(select.iloc[:500])\u001b[0m\u001b[0;34m\u001b[0m\u001b[0;34m\u001b[0m\u001b[0;34m\u001b[0m\u001b[0m\n",
      "\u001b[0;31mNameError\u001b[0m: name 'Y_predict' is not defined"
     ]
    },
    {
     "data": {
      "text/plain": [
       "<Figure size 2880x1440 with 0 Axes>"
      ]
     },
     "metadata": {},
     "output_type": "display_data"
    }
   ],
   "source": [
    "import matplotlib.pyplot as plt \n",
    "\n",
    "plt.figure(figsize=(40, 20))\n",
    "\n",
    "#plt.plot(b.iloc[:500])\n",
    "plt.plot(Y_predict[0:2000],marker='o',linestyle='solid',label='a')\n",
    "plt.plot(Y_test[0:2000],marker='o',linestyle='solid',label='b')\n",
    "#plt.plot(select.iloc[:500])\n",
    "plt.legend(loc='upper right')\n",
    "plt.show()"
   ]
  },
  {
   "cell_type": "code",
   "execution_count": 17,
   "metadata": {},
   "outputs": [
    {
     "ename": "ValueError",
     "evalue": "x and y can be no greater than 2-D, but have shapes (156188,) and (156188, 50, 42)",
     "output_type": "error",
     "traceback": [
      "\u001b[0;31m---------------------------------------------------------------------------\u001b[0m",
      "\u001b[0;31mValueError\u001b[0m                                Traceback (most recent call last)",
      "\u001b[0;32m<ipython-input-17-adde3ccd7789>\u001b[0m in \u001b[0;36m<module>\u001b[0;34m\u001b[0m\n\u001b[1;32m      1\u001b[0m \u001b[0mplt\u001b[0m\u001b[0;34m.\u001b[0m\u001b[0mfigure\u001b[0m\u001b[0;34m(\u001b[0m\u001b[0mfigsize\u001b[0m\u001b[0;34m=\u001b[0m\u001b[0;34m(\u001b[0m\u001b[0;36m40\u001b[0m\u001b[0;34m,\u001b[0m \u001b[0;36m20\u001b[0m\u001b[0;34m)\u001b[0m\u001b[0;34m)\u001b[0m\u001b[0;34m\u001b[0m\u001b[0;34m\u001b[0m\u001b[0m\n\u001b[0;32m----> 2\u001b[0;31m \u001b[0mplt\u001b[0m\u001b[0;34m.\u001b[0m\u001b[0mplot\u001b[0m\u001b[0;34m(\u001b[0m\u001b[0mX_train\u001b[0m\u001b[0;34m,\u001b[0m\u001b[0mlinestyle\u001b[0m\u001b[0;34m=\u001b[0m\u001b[0;34m'solid'\u001b[0m\u001b[0;34m,\u001b[0m\u001b[0mlabel\u001b[0m\u001b[0;34m=\u001b[0m\u001b[0;34m'b'\u001b[0m\u001b[0;34m)\u001b[0m\u001b[0;34m\u001b[0m\u001b[0;34m\u001b[0m\u001b[0m\n\u001b[0m\u001b[1;32m      3\u001b[0m \u001b[0mplt\u001b[0m\u001b[0;34m.\u001b[0m\u001b[0mlegend\u001b[0m\u001b[0;34m(\u001b[0m\u001b[0mloc\u001b[0m\u001b[0;34m=\u001b[0m\u001b[0;34m'upper right'\u001b[0m\u001b[0;34m)\u001b[0m\u001b[0;34m\u001b[0m\u001b[0;34m\u001b[0m\u001b[0m\n\u001b[1;32m      4\u001b[0m \u001b[0mplt\u001b[0m\u001b[0;34m.\u001b[0m\u001b[0mshow\u001b[0m\u001b[0;34m(\u001b[0m\u001b[0;34m)\u001b[0m\u001b[0;34m\u001b[0m\u001b[0;34m\u001b[0m\u001b[0m\n",
      "\u001b[0;32m/anaconda/envs/azureml_py36_tensorflow/lib/python3.6/site-packages/matplotlib/pyplot.py\u001b[0m in \u001b[0;36mplot\u001b[0;34m(scalex, scaley, data, *args, **kwargs)\u001b[0m\n\u001b[1;32m   2811\u001b[0m     return gca().plot(\n\u001b[1;32m   2812\u001b[0m         *args, scalex=scalex, scaley=scaley, **({\"data\": data} if data\n\u001b[0;32m-> 2813\u001b[0;31m         is not None else {}), **kwargs)\n\u001b[0m\u001b[1;32m   2814\u001b[0m \u001b[0;34m\u001b[0m\u001b[0m\n\u001b[1;32m   2815\u001b[0m \u001b[0;34m\u001b[0m\u001b[0m\n",
      "\u001b[0;32m/anaconda/envs/azureml_py36_tensorflow/lib/python3.6/site-packages/matplotlib/__init__.py\u001b[0m in \u001b[0;36minner\u001b[0;34m(ax, data, *args, **kwargs)\u001b[0m\n\u001b[1;32m   1808\u001b[0m                         \u001b[0;34m\"the Matplotlib list!)\"\u001b[0m \u001b[0;34m%\u001b[0m \u001b[0;34m(\u001b[0m\u001b[0mlabel_namer\u001b[0m\u001b[0;34m,\u001b[0m \u001b[0mfunc\u001b[0m\u001b[0;34m.\u001b[0m\u001b[0m__name__\u001b[0m\u001b[0;34m)\u001b[0m\u001b[0;34m,\u001b[0m\u001b[0;34m\u001b[0m\u001b[0;34m\u001b[0m\u001b[0m\n\u001b[1;32m   1809\u001b[0m                         RuntimeWarning, stacklevel=2)\n\u001b[0;32m-> 1810\u001b[0;31m             \u001b[0;32mreturn\u001b[0m \u001b[0mfunc\u001b[0m\u001b[0;34m(\u001b[0m\u001b[0max\u001b[0m\u001b[0;34m,\u001b[0m \u001b[0;34m*\u001b[0m\u001b[0margs\u001b[0m\u001b[0;34m,\u001b[0m \u001b[0;34m**\u001b[0m\u001b[0mkwargs\u001b[0m\u001b[0;34m)\u001b[0m\u001b[0;34m\u001b[0m\u001b[0;34m\u001b[0m\u001b[0m\n\u001b[0m\u001b[1;32m   1811\u001b[0m \u001b[0;34m\u001b[0m\u001b[0m\n\u001b[1;32m   1812\u001b[0m         inner.__doc__ = _add_data_doc(inner.__doc__,\n",
      "\u001b[0;32m/anaconda/envs/azureml_py36_tensorflow/lib/python3.6/site-packages/matplotlib/axes/_axes.py\u001b[0m in \u001b[0;36mplot\u001b[0;34m(self, scalex, scaley, *args, **kwargs)\u001b[0m\n\u001b[1;32m   1609\u001b[0m         \u001b[0mkwargs\u001b[0m \u001b[0;34m=\u001b[0m \u001b[0mcbook\u001b[0m\u001b[0;34m.\u001b[0m\u001b[0mnormalize_kwargs\u001b[0m\u001b[0;34m(\u001b[0m\u001b[0mkwargs\u001b[0m\u001b[0;34m,\u001b[0m \u001b[0mmlines\u001b[0m\u001b[0;34m.\u001b[0m\u001b[0mLine2D\u001b[0m\u001b[0;34m.\u001b[0m\u001b[0m_alias_map\u001b[0m\u001b[0;34m)\u001b[0m\u001b[0;34m\u001b[0m\u001b[0;34m\u001b[0m\u001b[0m\n\u001b[1;32m   1610\u001b[0m \u001b[0;34m\u001b[0m\u001b[0m\n\u001b[0;32m-> 1611\u001b[0;31m         \u001b[0;32mfor\u001b[0m \u001b[0mline\u001b[0m \u001b[0;32min\u001b[0m \u001b[0mself\u001b[0m\u001b[0;34m.\u001b[0m\u001b[0m_get_lines\u001b[0m\u001b[0;34m(\u001b[0m\u001b[0;34m*\u001b[0m\u001b[0margs\u001b[0m\u001b[0;34m,\u001b[0m \u001b[0;34m**\u001b[0m\u001b[0mkwargs\u001b[0m\u001b[0;34m)\u001b[0m\u001b[0;34m:\u001b[0m\u001b[0;34m\u001b[0m\u001b[0;34m\u001b[0m\u001b[0m\n\u001b[0m\u001b[1;32m   1612\u001b[0m             \u001b[0mself\u001b[0m\u001b[0;34m.\u001b[0m\u001b[0madd_line\u001b[0m\u001b[0;34m(\u001b[0m\u001b[0mline\u001b[0m\u001b[0;34m)\u001b[0m\u001b[0;34m\u001b[0m\u001b[0;34m\u001b[0m\u001b[0m\n\u001b[1;32m   1613\u001b[0m             \u001b[0mlines\u001b[0m\u001b[0;34m.\u001b[0m\u001b[0mappend\u001b[0m\u001b[0;34m(\u001b[0m\u001b[0mline\u001b[0m\u001b[0;34m)\u001b[0m\u001b[0;34m\u001b[0m\u001b[0;34m\u001b[0m\u001b[0m\n",
      "\u001b[0;32m/anaconda/envs/azureml_py36_tensorflow/lib/python3.6/site-packages/matplotlib/axes/_base.py\u001b[0m in \u001b[0;36m_grab_next_args\u001b[0;34m(self, *args, **kwargs)\u001b[0m\n\u001b[1;32m    391\u001b[0m                 \u001b[0mthis\u001b[0m \u001b[0;34m+=\u001b[0m \u001b[0margs\u001b[0m\u001b[0;34m[\u001b[0m\u001b[0;36m0\u001b[0m\u001b[0;34m]\u001b[0m\u001b[0;34m,\u001b[0m\u001b[0;34m\u001b[0m\u001b[0;34m\u001b[0m\u001b[0m\n\u001b[1;32m    392\u001b[0m                 \u001b[0margs\u001b[0m \u001b[0;34m=\u001b[0m \u001b[0margs\u001b[0m\u001b[0;34m[\u001b[0m\u001b[0;36m1\u001b[0m\u001b[0;34m:\u001b[0m\u001b[0;34m]\u001b[0m\u001b[0;34m\u001b[0m\u001b[0;34m\u001b[0m\u001b[0m\n\u001b[0;32m--> 393\u001b[0;31m             \u001b[0;32myield\u001b[0m \u001b[0;32mfrom\u001b[0m \u001b[0mself\u001b[0m\u001b[0;34m.\u001b[0m\u001b[0m_plot_args\u001b[0m\u001b[0;34m(\u001b[0m\u001b[0mthis\u001b[0m\u001b[0;34m,\u001b[0m \u001b[0mkwargs\u001b[0m\u001b[0;34m)\u001b[0m\u001b[0;34m\u001b[0m\u001b[0;34m\u001b[0m\u001b[0m\n\u001b[0m\u001b[1;32m    394\u001b[0m \u001b[0;34m\u001b[0m\u001b[0m\n\u001b[1;32m    395\u001b[0m \u001b[0;34m\u001b[0m\u001b[0m\n",
      "\u001b[0;32m/anaconda/envs/azureml_py36_tensorflow/lib/python3.6/site-packages/matplotlib/axes/_base.py\u001b[0m in \u001b[0;36m_plot_args\u001b[0;34m(self, tup, kwargs)\u001b[0m\n\u001b[1;32m    368\u001b[0m             \u001b[0mx\u001b[0m\u001b[0;34m,\u001b[0m \u001b[0my\u001b[0m \u001b[0;34m=\u001b[0m \u001b[0mindex_of\u001b[0m\u001b[0;34m(\u001b[0m\u001b[0mtup\u001b[0m\u001b[0;34m[\u001b[0m\u001b[0;34m-\u001b[0m\u001b[0;36m1\u001b[0m\u001b[0;34m]\u001b[0m\u001b[0;34m)\u001b[0m\u001b[0;34m\u001b[0m\u001b[0;34m\u001b[0m\u001b[0m\n\u001b[1;32m    369\u001b[0m \u001b[0;34m\u001b[0m\u001b[0m\n\u001b[0;32m--> 370\u001b[0;31m         \u001b[0mx\u001b[0m\u001b[0;34m,\u001b[0m \u001b[0my\u001b[0m \u001b[0;34m=\u001b[0m \u001b[0mself\u001b[0m\u001b[0;34m.\u001b[0m\u001b[0m_xy_from_xy\u001b[0m\u001b[0;34m(\u001b[0m\u001b[0mx\u001b[0m\u001b[0;34m,\u001b[0m \u001b[0my\u001b[0m\u001b[0;34m)\u001b[0m\u001b[0;34m\u001b[0m\u001b[0;34m\u001b[0m\u001b[0m\n\u001b[0m\u001b[1;32m    371\u001b[0m \u001b[0;34m\u001b[0m\u001b[0m\n\u001b[1;32m    372\u001b[0m         \u001b[0;32mif\u001b[0m \u001b[0mself\u001b[0m\u001b[0;34m.\u001b[0m\u001b[0mcommand\u001b[0m \u001b[0;34m==\u001b[0m \u001b[0;34m'plot'\u001b[0m\u001b[0;34m:\u001b[0m\u001b[0;34m\u001b[0m\u001b[0;34m\u001b[0m\u001b[0m\n",
      "\u001b[0;32m/anaconda/envs/azureml_py36_tensorflow/lib/python3.6/site-packages/matplotlib/axes/_base.py\u001b[0m in \u001b[0;36m_xy_from_xy\u001b[0;34m(self, x, y)\u001b[0m\n\u001b[1;32m    232\u001b[0m         \u001b[0;32mif\u001b[0m \u001b[0mx\u001b[0m\u001b[0;34m.\u001b[0m\u001b[0mndim\u001b[0m \u001b[0;34m>\u001b[0m \u001b[0;36m2\u001b[0m \u001b[0;32mor\u001b[0m \u001b[0my\u001b[0m\u001b[0;34m.\u001b[0m\u001b[0mndim\u001b[0m \u001b[0;34m>\u001b[0m \u001b[0;36m2\u001b[0m\u001b[0;34m:\u001b[0m\u001b[0;34m\u001b[0m\u001b[0;34m\u001b[0m\u001b[0m\n\u001b[1;32m    233\u001b[0m             raise ValueError(\"x and y can be no greater than 2-D, but have \"\n\u001b[0;32m--> 234\u001b[0;31m                              \"shapes {} and {}\".format(x.shape, y.shape))\n\u001b[0m\u001b[1;32m    235\u001b[0m \u001b[0;34m\u001b[0m\u001b[0m\n\u001b[1;32m    236\u001b[0m         \u001b[0;32mif\u001b[0m \u001b[0mx\u001b[0m\u001b[0;34m.\u001b[0m\u001b[0mndim\u001b[0m \u001b[0;34m==\u001b[0m \u001b[0;36m1\u001b[0m\u001b[0;34m:\u001b[0m\u001b[0;34m\u001b[0m\u001b[0;34m\u001b[0m\u001b[0m\n",
      "\u001b[0;31mValueError\u001b[0m: x and y can be no greater than 2-D, but have shapes (156188,) and (156188, 50, 42)"
     ]
    },
    {
     "data": {
      "image/png": "[encoded data removed]",
      "text/plain": [
       "<Figure size 2880x1440 with 1 Axes>"
      ]
     },
     "metadata": {
      "needs_background": "light"
     },
     "output_type": "display_data"
    }
   ],
   "source": [
    "plt.figure(figsize=(40, 20))\n",
    "plt.plot(X_train,linestyle='solid',label='b')\n",
    "plt.legend(loc='upper right')\n",
    "plt.show()"
   ]
  },
  {
   "cell_type": "code",
   "execution_count": 89,
   "metadata": {},
   "outputs": [
    {
     "name": "stderr",
     "output_type": "stream",
     "text": [
      "Using TensorFlow backend.\n"
     ]
    },
    {
     "ename": "AttributeError",
     "evalue": "module 'tensorflow' has no attribute 'name_scope'",
     "output_type": "error",
     "traceback": [
      "\u001b[0;31m---------------------------------------------------------------------------\u001b[0m",
      "\u001b[0;31mAttributeError\u001b[0m                            Traceback (most recent call last)",
      "\u001b[0;32m<ipython-input-89-5c03b283ea42>\u001b[0m in \u001b[0;36m<module>\u001b[0;34m\u001b[0m\n\u001b[0;32m----> 1\u001b[0;31m \u001b[0;32mfrom\u001b[0m \u001b[0mkeras\u001b[0m\u001b[0;34m.\u001b[0m\u001b[0mcallbacks\u001b[0m \u001b[0;32mimport\u001b[0m \u001b[0mEarlyStopping\u001b[0m\u001b[0;34m\u001b[0m\u001b[0;34m\u001b[0m\u001b[0m\n\u001b[0m\u001b[1;32m      2\u001b[0m \u001b[0mearly_stopping\u001b[0m \u001b[0;34m=\u001b[0m \u001b[0mEarlyStopping\u001b[0m\u001b[0;34m(\u001b[0m\u001b[0mpatience\u001b[0m \u001b[0;34m=\u001b[0m \u001b[0;36m10\u001b[0m\u001b[0;34m)\u001b[0m\u001b[0;34m\u001b[0m\u001b[0;34m\u001b[0m\u001b[0m\n",
      "\u001b[0;32m/anaconda/envs/azureml_py36_tensorflow/lib/python3.6/site-packages/keras/__init__.py\u001b[0m in \u001b[0;36m<module>\u001b[0;34m\u001b[0m\n\u001b[1;32m      1\u001b[0m \u001b[0;32mfrom\u001b[0m \u001b[0m__future__\u001b[0m \u001b[0;32mimport\u001b[0m \u001b[0mabsolute_import\u001b[0m\u001b[0;34m\u001b[0m\u001b[0;34m\u001b[0m\u001b[0m\n\u001b[1;32m      2\u001b[0m \u001b[0;34m\u001b[0m\u001b[0m\n\u001b[0;32m----> 3\u001b[0;31m \u001b[0;32mfrom\u001b[0m \u001b[0;34m.\u001b[0m \u001b[0;32mimport\u001b[0m \u001b[0mutils\u001b[0m\u001b[0;34m\u001b[0m\u001b[0;34m\u001b[0m\u001b[0m\n\u001b[0m\u001b[1;32m      4\u001b[0m \u001b[0;32mfrom\u001b[0m \u001b[0;34m.\u001b[0m \u001b[0;32mimport\u001b[0m \u001b[0mactivations\u001b[0m\u001b[0;34m\u001b[0m\u001b[0;34m\u001b[0m\u001b[0m\n\u001b[1;32m      5\u001b[0m \u001b[0;32mfrom\u001b[0m \u001b[0;34m.\u001b[0m \u001b[0;32mimport\u001b[0m \u001b[0mapplications\u001b[0m\u001b[0;34m\u001b[0m\u001b[0;34m\u001b[0m\u001b[0m\n",
      "\u001b[0;32m/anaconda/envs/azureml_py36_tensorflow/lib/python3.6/site-packages/keras/utils/__init__.py\u001b[0m in \u001b[0;36m<module>\u001b[0;34m\u001b[0m\n\u001b[1;32m      4\u001b[0m \u001b[0;32mfrom\u001b[0m \u001b[0;34m.\u001b[0m \u001b[0;32mimport\u001b[0m \u001b[0mdata_utils\u001b[0m\u001b[0;34m\u001b[0m\u001b[0;34m\u001b[0m\u001b[0m\n\u001b[1;32m      5\u001b[0m \u001b[0;32mfrom\u001b[0m \u001b[0;34m.\u001b[0m \u001b[0;32mimport\u001b[0m \u001b[0mio_utils\u001b[0m\u001b[0;34m\u001b[0m\u001b[0;34m\u001b[0m\u001b[0m\n\u001b[0;32m----> 6\u001b[0;31m \u001b[0;32mfrom\u001b[0m \u001b[0;34m.\u001b[0m \u001b[0;32mimport\u001b[0m \u001b[0mconv_utils\u001b[0m\u001b[0;34m\u001b[0m\u001b[0;34m\u001b[0m\u001b[0m\n\u001b[0m\u001b[1;32m      7\u001b[0m \u001b[0;32mfrom\u001b[0m \u001b[0;34m.\u001b[0m \u001b[0;32mimport\u001b[0m \u001b[0mlosses_utils\u001b[0m\u001b[0;34m\u001b[0m\u001b[0;34m\u001b[0m\u001b[0m\n\u001b[1;32m      8\u001b[0m \u001b[0;32mfrom\u001b[0m \u001b[0;34m.\u001b[0m \u001b[0;32mimport\u001b[0m \u001b[0mmetrics_utils\u001b[0m\u001b[0;34m\u001b[0m\u001b[0;34m\u001b[0m\u001b[0m\n",
      "\u001b[0;32m/anaconda/envs/azureml_py36_tensorflow/lib/python3.6/site-packages/keras/utils/conv_utils.py\u001b[0m in \u001b[0;36m<module>\u001b[0;34m\u001b[0m\n\u001b[1;32m      7\u001b[0m \u001b[0;32mfrom\u001b[0m \u001b[0msix\u001b[0m\u001b[0;34m.\u001b[0m\u001b[0mmoves\u001b[0m \u001b[0;32mimport\u001b[0m \u001b[0mrange\u001b[0m\u001b[0;34m\u001b[0m\u001b[0;34m\u001b[0m\u001b[0m\n\u001b[1;32m      8\u001b[0m \u001b[0;32mimport\u001b[0m \u001b[0mnumpy\u001b[0m \u001b[0;32mas\u001b[0m \u001b[0mnp\u001b[0m\u001b[0;34m\u001b[0m\u001b[0;34m\u001b[0m\u001b[0m\n\u001b[0;32m----> 9\u001b[0;31m \u001b[0;32mfrom\u001b[0m \u001b[0;34m.\u001b[0m\u001b[0;34m.\u001b[0m \u001b[0;32mimport\u001b[0m \u001b[0mbackend\u001b[0m \u001b[0;32mas\u001b[0m \u001b[0mK\u001b[0m\u001b[0;34m\u001b[0m\u001b[0;34m\u001b[0m\u001b[0m\n\u001b[0m\u001b[1;32m     10\u001b[0m \u001b[0;34m\u001b[0m\u001b[0m\n\u001b[1;32m     11\u001b[0m \u001b[0;34m\u001b[0m\u001b[0m\n",
      "\u001b[0;32m/anaconda/envs/azureml_py36_tensorflow/lib/python3.6/site-packages/keras/backend/__init__.py\u001b[0m in \u001b[0;36m<module>\u001b[0;34m\u001b[0m\n\u001b[0;32m----> 1\u001b[0;31m \u001b[0;32mfrom\u001b[0m \u001b[0;34m.\u001b[0m\u001b[0mload_backend\u001b[0m \u001b[0;32mimport\u001b[0m \u001b[0mepsilon\u001b[0m\u001b[0;34m\u001b[0m\u001b[0;34m\u001b[0m\u001b[0m\n\u001b[0m\u001b[1;32m      2\u001b[0m \u001b[0;32mfrom\u001b[0m \u001b[0;34m.\u001b[0m\u001b[0mload_backend\u001b[0m \u001b[0;32mimport\u001b[0m \u001b[0mset_epsilon\u001b[0m\u001b[0;34m\u001b[0m\u001b[0;34m\u001b[0m\u001b[0m\n\u001b[1;32m      3\u001b[0m \u001b[0;32mfrom\u001b[0m \u001b[0;34m.\u001b[0m\u001b[0mload_backend\u001b[0m \u001b[0;32mimport\u001b[0m \u001b[0mfloatx\u001b[0m\u001b[0;34m\u001b[0m\u001b[0;34m\u001b[0m\u001b[0m\n\u001b[1;32m      4\u001b[0m \u001b[0;32mfrom\u001b[0m \u001b[0;34m.\u001b[0m\u001b[0mload_backend\u001b[0m \u001b[0;32mimport\u001b[0m \u001b[0mset_floatx\u001b[0m\u001b[0;34m\u001b[0m\u001b[0;34m\u001b[0m\u001b[0m\n\u001b[1;32m      5\u001b[0m \u001b[0;32mfrom\u001b[0m \u001b[0;34m.\u001b[0m\u001b[0mload_backend\u001b[0m \u001b[0;32mimport\u001b[0m \u001b[0mcast_to_floatx\u001b[0m\u001b[0;34m\u001b[0m\u001b[0;34m\u001b[0m\u001b[0m\n",
      "\u001b[0;32m/anaconda/envs/azureml_py36_tensorflow/lib/python3.6/site-packages/keras/backend/load_backend.py\u001b[0m in \u001b[0;36m<module>\u001b[0;34m\u001b[0m\n\u001b[1;32m     88\u001b[0m \u001b[0;32melif\u001b[0m \u001b[0m_BACKEND\u001b[0m \u001b[0;34m==\u001b[0m \u001b[0;34m'tensorflow'\u001b[0m\u001b[0;34m:\u001b[0m\u001b[0;34m\u001b[0m\u001b[0;34m\u001b[0m\u001b[0m\n\u001b[1;32m     89\u001b[0m     \u001b[0msys\u001b[0m\u001b[0;34m.\u001b[0m\u001b[0mstderr\u001b[0m\u001b[0;34m.\u001b[0m\u001b[0mwrite\u001b[0m\u001b[0;34m(\u001b[0m\u001b[0;34m'Using TensorFlow backend.\\n'\u001b[0m\u001b[0;34m)\u001b[0m\u001b[0;34m\u001b[0m\u001b[0;34m\u001b[0m\u001b[0m\n\u001b[0;32m---> 90\u001b[0;31m     \u001b[0;32mfrom\u001b[0m \u001b[0;34m.\u001b[0m\u001b[0mtensorflow_backend\u001b[0m \u001b[0;32mimport\u001b[0m \u001b[0;34m*\u001b[0m\u001b[0;34m\u001b[0m\u001b[0;34m\u001b[0m\u001b[0m\n\u001b[0m\u001b[1;32m     91\u001b[0m \u001b[0;32melse\u001b[0m\u001b[0;34m:\u001b[0m\u001b[0;34m\u001b[0m\u001b[0;34m\u001b[0m\u001b[0m\n\u001b[1;32m     92\u001b[0m     \u001b[0;31m# Try and load external backend.\u001b[0m\u001b[0;34m\u001b[0m\u001b[0;34m\u001b[0m\u001b[0;34m\u001b[0m\u001b[0m\n",
      "\u001b[0;32m/anaconda/envs/azureml_py36_tensorflow/lib/python3.6/site-packages/keras/backend/tensorflow_backend.py\u001b[0m in \u001b[0;36m<module>\u001b[0;34m\u001b[0m\n\u001b[1;32m     54\u001b[0m \u001b[0mget_graph\u001b[0m \u001b[0;34m=\u001b[0m \u001b[0mtf_keras_backend\u001b[0m\u001b[0;34m.\u001b[0m\u001b[0mget_graph\u001b[0m\u001b[0;34m\u001b[0m\u001b[0;34m\u001b[0m\u001b[0m\n\u001b[1;32m     55\u001b[0m \u001b[0;31m# learning_phase_scope = tf_keras_backend.learning_phase_scope  # TODO\u001b[0m\u001b[0;34m\u001b[0m\u001b[0;34m\u001b[0m\u001b[0;34m\u001b[0m\u001b[0m\n\u001b[0;32m---> 56\u001b[0;31m \u001b[0mname_scope\u001b[0m \u001b[0;34m=\u001b[0m \u001b[0mtf\u001b[0m\u001b[0;34m.\u001b[0m\u001b[0mname_scope\u001b[0m\u001b[0;34m\u001b[0m\u001b[0;34m\u001b[0m\u001b[0m\n\u001b[0m\u001b[1;32m     57\u001b[0m \u001b[0;34m\u001b[0m\u001b[0m\n\u001b[1;32m     58\u001b[0m \u001b[0;34m\u001b[0m\u001b[0m\n",
      "\u001b[0;31mAttributeError\u001b[0m: module 'tensorflow' has no attribute 'name_scope'"
     ]
    }
   ],
   "source": [
    "from keras.callbacks import EarlyStopping\n",
    "early_stopping = EarlyStopping(patience = 10)"
   ]
  },
  {
   "cell_type": "code",
   "execution_count": 18,
   "metadata": {},
   "outputs": [
    {
     "data": {
      "text/plain": [
       "(790877, 50, 42)"
      ]
     },
     "execution_count": 18,
     "metadata": {},
     "output_type": "execute_result"
    }
   ],
   "source": [
    "X_test.shape"
   ]
  },
  {
   "cell_type": "code",
   "execution_count": null,
   "metadata": {},
   "outputs": [],
   "source": []
  }
 ],
 "metadata": {
  "kernelspec": {
   "display_name": "azureml_py36_tensorflow",
   "language": "python",
   "name": "conda-env-azureml_py36_tensorflow-py"
  },
  "language_info": {
   "codemirror_mode": {
    "name": "ipython",
    "version": 3
   },
   "file_extension": ".py",
   "mimetype": "text/x-python",
   "name": "python",
   "nbconvert_exporter": "python",
   "pygments_lexer": "ipython3",
   "version": "3.6.9"
  }
 },
 "nbformat": 4,
 "nbformat_minor": 4
}
